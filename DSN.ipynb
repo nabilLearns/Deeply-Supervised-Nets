{
  "cells": [
    {
      "cell_type": "markdown",
      "metadata": {
        "id": "view-in-github",
        "colab_type": "text"
      },
      "source": [
        "<a href=\"https://colab.research.google.com/github/nabilLearns/Deeply-Supervised-Nets/blob/master/DSN.ipynb\" target=\"_parent\"><img src=\"https://colab.research.google.com/assets/colab-badge.svg\" alt=\"Open In Colab\"/></a>"
      ]
    },
    {
      "cell_type": "markdown",
      "metadata": {
        "id": "nC2x6nlsnjls"
      },
      "source": [
        "## Get required modules"
      ]
    },
    {
      "cell_type": "code",
      "execution_count": null,
      "metadata": {
        "id": "MVZlv2uunjlx"
      },
      "outputs": [],
      "source": [
        "import torch\n",
        "import torch.nn as nn\n",
        "import torchvision\n",
        "import numpy as np\n",
        "import pandas as pd\n",
        "import matplotlib.pyplot as plt\n",
        "import os"
      ]
    },
    {
      "cell_type": "code",
      "execution_count": null,
      "metadata": {
        "id": "rsrIDxkYnjlz"
      },
      "outputs": [],
      "source": [
        "!pip --quiet install wget"
      ]
    },
    {
      "cell_type": "code",
      "execution_count": null,
      "metadata": {
        "id": "-JE61fHqnjl1",
        "outputId": "1b08cf5d-4627-4990-cc09-543c006450f5"
      },
      "outputs": [
        {
          "name": "stdout",
          "output_type": "stream",
          "text": [
            "/home/nabil/Documents/Code/Data_Classification\n",
            "/home/nabil/Documents/Code/Data_Classification/DateData\n"
          ]
        }
      ],
      "source": [
        "#import os\n",
        "#os.path.join(os.getcwd()\n",
        "print(os.getcwd())\n",
        "print(os.path.join(os.getcwd(), 'DateData'))"
      ]
    },
    {
      "cell_type": "markdown",
      "metadata": {
        "id": "WFCHTQu2njl3"
      },
      "source": [
        "## Download Dataset"
      ]
    },
    {
      "cell_type": "code",
      "execution_count": null,
      "metadata": {
        "id": "DhXkGT4Mnjl4"
      },
      "outputs": [],
      "source": [
        "# Download dataset in an .arff final into current working directory\n",
        "\n",
        "import wget, requests, io, os, shutil\n",
        "from zipfile import ZipFile\n",
        "\n",
        "data_url = \"https://www.muratkoklu.com/datasets/vtdhnd06.php\"\n",
        "req = requests.get(data_url)\n",
        "zip_file = ZipFile(io.BytesIO(req.content))\n",
        "path = os.path.join(os.getcwd())\n",
        "zip_file.extractall(path)\n",
        "\n",
        "shutil.move(os.path.join(os.getcwd(),'Date_Fruit_Datasets/Date_Fruit_Datasets.arff'), os.path.join(os.getcwd(), 'Date_Fruit_Datasets.arff'))\n",
        "shutil.rmtree(os.path.join(os.getcwd(),'Date_Fruit_Datasets'))\n"
      ]
    },
    {
      "cell_type": "code",
      "execution_count": null,
      "metadata": {
        "id": "89ypVo3Vnjl6",
        "outputId": "7cad930a-26d0-4d1a-d7a8-00e6f7e07ef7"
      },
      "outputs": [
        {
          "name": "stdout",
          "output_type": "stream",
          "text": [
            "['Date_Fruit_Datasets.arff']\n"
          ]
        }
      ],
      "source": [
        "# Python script that converts .arff to .csv (not mine)\n",
        "# Source: https://github.com/haloboy777/arfftocsv/blob/master/arffToCsv.py\n",
        "\n",
        "#########################################\n",
        "# Project   : ARFF to CSV converter     #\n",
        "# Created   : 10/01/17 11:08:06         #\n",
        "# Author    : haloboy777                #\n",
        "# Licence   : MIT                       #\n",
        "#########################################\n",
        "\n",
        "# Importing library\n",
        "import os\n",
        "\n",
        "# Getting all the arff files from the current directory\n",
        "files = [arff for arff in os.listdir('.') if arff.endswith(\".arff\")]\n",
        "print(files)\n",
        "\n",
        "# Function for converting arff list to csv list\n",
        "def toCsv(text):\n",
        "    data = False\n",
        "    header = \"\"\n",
        "    new_content = []\n",
        "    for line in text:\n",
        "        if not data:\n",
        "            if \"@ATTRIBUTE\" in line or \"@attribute\" in line:\n",
        "                attributes = line.split()\n",
        "                if(\"@attribute\" in line):\n",
        "                    attri_case = \"@attribute\"\n",
        "                else:\n",
        "                    attri_case = \"@ATTRIBUTE\"\n",
        "                column_name = attributes[attributes.index(attri_case) + 1]\n",
        "                header = header + column_name + \",\"\n",
        "            elif \"@DATA\" in line or \"@data\" in line:\n",
        "                data = True\n",
        "                header = header[:-1]\n",
        "                header += '\\n'\n",
        "                new_content.append(header)\n",
        "        else:\n",
        "            new_content.append(line)\n",
        "    return new_content\n",
        "\n",
        "\n",
        "# Main loop for reading and writing files\n",
        "for file in files:\n",
        "    with open(file, \"r\") as inFile:\n",
        "        content = inFile.readlines()\n",
        "        name, ext = os.path.splitext(inFile.name)\n",
        "        new = toCsv(content)\n",
        "        with open(name + \".csv\", \"w\") as outFile:\n",
        "            outFile.writelines(new)"
      ]
    },
    {
      "cell_type": "markdown",
      "metadata": {
        "id": "jXAFFs1fnjl8"
      },
      "source": [
        "## Preprocess Data"
      ]
    },
    {
      "cell_type": "code",
      "execution_count": null,
      "metadata": {
        "id": "bPWtiFvPnjl9",
        "outputId": "368a4c88-1509-459f-b106-11c28da1c905"
      },
      "outputs": [
        {
          "name": "stdout",
          "output_type": "stream",
          "text": [
            "     AREA  PERIMETER  MAJOR_AXIS  MINOR_AXIS  ECCENTRICITY   EQDIASQ  \\\n",
            "0  422163   2378.908    837.8484    645.6693        0.6373  733.1539   \n",
            "1  338136   2085.144    723.8198    595.2073        0.5690  656.1464   \n",
            "2  526843   2647.394    940.7379    715.3638        0.6494  819.0222   \n",
            "3  416063   2351.210    827.9804    645.2988        0.6266  727.8378   \n",
            "4  347562   2160.354    763.9877    582.8359        0.6465  665.2291   \n",
            "\n",
            "   SOLIDITY  CONVEX_AREA  EXTENT  ASPECT_RATIO  ...  KurtosisRR  KurtosisRG  \\\n",
            "0    0.9947       424428  0.7831        1.2976  ...      3.2370      2.9574   \n",
            "1    0.9974       339014  0.7795        1.2161  ...      2.6228      2.6350   \n",
            "2    0.9962       528876  0.7657        1.3150  ...      3.7516      3.8611   \n",
            "3    0.9948       418255  0.7759        1.2831  ...      5.0401      8.6136   \n",
            "4    0.9908       350797  0.7569        1.3108  ...      2.7016      2.9761   \n",
            "\n",
            "   KurtosisRB    EntropyRR    EntropyRG    EntropyRB  ALLdaub4RR  ALLdaub4RG  \\\n",
            "0      4.2287 -59191263232 -50714214400 -39922372608     58.7255     54.9554   \n",
            "1      3.1704 -34233065472 -37462601728 -31477794816     50.0259     52.8168   \n",
            "2      4.7192 -93948354560 -74738221056 -60311207936     65.4772     59.2860   \n",
            "3      8.2618 -32074307584 -32060925952 -29575010304     43.3900     44.1259   \n",
            "4      4.4146 -39980974080 -35980042240 -25593278464     52.7743     50.9080   \n",
            "\n",
            "   ALLdaub4RB  Class  \n",
            "0     47.8400  BERHI  \n",
            "1     47.8315  BERHI  \n",
            "2     51.9378  BERHI  \n",
            "3     41.1882  BERHI  \n",
            "4     42.6666  BERHI  \n",
            "\n",
            "[5 rows x 35 columns]\n"
          ]
        }
      ],
      "source": [
        "data = pd.read_csv(\"Date_Fruit_Datasets.csv\")\n",
        "print(data.head())\n",
        "\n",
        "# As you can see, the values need to be normalized"
      ]
    },
    {
      "cell_type": "markdown",
      "metadata": {
        "id": "jp4OkakQnjl_"
      },
      "source": [
        "### Generate train/val/test data splits"
      ]
    },
    {
      "cell_type": "code",
      "execution_count": null,
      "metadata": {
        "id": "n5_JtFnXnjmA",
        "outputId": "7daa81b3-86ea-4492-f507-8862e1b1a5dd"
      },
      "outputs": [
        {
          "name": "stdout",
          "output_type": "stream",
          "text": [
            "         AREA  PERIMETER  MAJOR_AXIS  MINOR_AXIS  ECCENTRICITY   EQDIASQ  \\\n",
            "0    1.154996   0.783506    0.604171    1.310912     -1.128939  1.075105   \n",
            "1    0.371493   0.067030   -0.187369    0.869305     -1.898713  0.431196   \n",
            "2    2.131077   1.438330    1.318387    1.920829     -0.992566  1.793104   \n",
            "3    1.098117   0.715952    0.535671    1.307670     -1.249533  1.030654   \n",
            "4    0.459385   0.250463    0.091460    0.761039     -1.025251  0.507143   \n",
            "..        ...        ...         ...         ...           ...       ...   \n",
            "893 -0.399945  -0.322663   -0.409322   -0.163589     -0.150662 -0.287007   \n",
            "894  0.630600   1.480838    0.726446    0.487201      0.303539  0.652184   \n",
            "895 -0.409950  -0.319319   -0.023030   -0.527273      0.846776 -0.297034   \n",
            "896 -0.553313  -0.369240   -0.237149   -0.472947      0.561632 -0.443100   \n",
            "897  0.424231   0.564888    0.506956    0.340451      0.261838  0.476892   \n",
            "\n",
            "     SOLIDITY  CONVEX_AREA    EXTENT  ASPECT_RATIO  ...  KurtosisRR  \\\n",
            "0    0.708233     1.108135  0.871387     -0.046771  ...   -0.349488   \n",
            "1    0.856933     0.323193  0.804404     -0.051345  ...   -0.561841   \n",
            "2    0.790844     2.067997  0.547637     -0.045795  ...   -0.171571   \n",
            "3    0.713741     1.051406  0.737421     -0.047585  ...    0.273913   \n",
            "4    0.493445     0.431477  0.383901     -0.046031  ...   -0.534597   \n",
            "..        ...          ...       ...           ...  ...         ...   \n",
            "893 -0.183964    -0.393487 -0.174288     -0.038225  ...   -0.693395   \n",
            "894 -1.940822     0.760188 -1.242291     -0.032552  ...   -0.289364   \n",
            "895  0.587071    -0.437351 -0.228246     -0.023299  ...   -0.681778   \n",
            "896 -1.180802    -0.505907 -0.760387     -0.028568  ...   -0.543137   \n",
            "897 -0.205994     0.437680 -0.784575     -0.033141  ...   -0.599527   \n",
            "\n",
            "     KurtosisRG  KurtosisRB  EntropyRR  EntropyRG  EntropyRB  ALLdaub4RR  \\\n",
            "0     -0.574961    0.218443  -1.342063  -1.266563  -0.822269    0.538041   \n",
            "1     -0.661038   -0.297843  -0.116965  -0.492950  -0.253281   -0.003548   \n",
            "2     -0.333682    0.457731  -3.048149  -2.669054  -2.196053    0.958363   \n",
            "3      0.935186    2.185971  -0.011000  -0.177607  -0.125072   -0.416662   \n",
            "4     -0.569968    0.309134  -0.399107  -0.406400   0.143213    0.167552   \n",
            "..          ...         ...        ...        ...        ...         ...   \n",
            "893   -0.731684   -0.517471   0.321699   0.575014   0.622946   -0.062005   \n",
            "894   -0.408600    0.102483   0.012025   0.412926   0.568738   -0.203839   \n",
            "895   -0.694679   -0.529716   0.471590   0.550142   0.682323   -0.370438   \n",
            "896   -0.647048   -0.478980   0.284778   0.450613   0.532888    0.071207   \n",
            "897   -0.553735   -0.338773  -0.006542   0.498326   0.437925   -0.170421   \n",
            "\n",
            "     ALLdaub4RG  ALLdaub4RB     Class  \n",
            "0      0.435350   -0.023895 -1.818025  \n",
            "1      0.283955   -0.024681 -1.818025  \n",
            "2      0.741922    0.355045 -1.818025  \n",
            "3     -0.331291   -0.639012 -1.818025  \n",
            "4      0.148827   -0.502299 -1.818025  \n",
            "..          ...         ...       ...  \n",
            "893   -0.408008   -0.525538  1.508127  \n",
            "894   -0.686758   -1.067906  1.508127  \n",
            "895   -0.566836   -0.658552  1.508127  \n",
            "896   -0.218710   -0.228632  1.508127  \n",
            "897   -0.715641   -0.779055  1.508127  \n",
            "\n",
            "[898 rows x 35 columns]\n",
            "[1 2 3 4 5 6 7]\n",
            "<class 'pandas.core.frame.DataFrame'> (52, 35)\n",
            "<class 'pandas.core.frame.DataFrame'> (78, 35)\n",
            "<class 'pandas.core.frame.DataFrame'> (163, 35)\n",
            "<class 'pandas.core.frame.DataFrame'> (57, 35)\n",
            "<class 'pandas.core.frame.DataFrame'> (132, 35)\n",
            "<class 'pandas.core.frame.DataFrame'> (159, 35)\n",
            "<class 'pandas.core.frame.DataFrame'> (75, 35)\n"
          ]
        }
      ],
      "source": [
        "# Generate train/val/test data splits\n",
        "\n",
        "#print(data.info())\n",
        "#print(data['Class'].unique())\n",
        "#normalized_df=(df-df.mean())/df.std()\n",
        "\n",
        "normalized = (data - data.mean()) / data.std()\n",
        "data = normalized\n",
        "print(normalized)\n",
        "\n",
        "data['Class'] = data['Class'].astype('category').cat.codes + 1\n",
        "print(data['Class'].unique())\n",
        "train, val, test = {}, {}, {}\n",
        "for date_type in data['Class'].unique(): #['DOKOL']\n",
        "\n",
        "    num_examples = data[data['Class'] == date_type].shape[0]\n",
        "    data[data['Class'] == date_type] = data[data['Class'] == date_type].sample(frac=1, random_state=42)\n",
        "\n",
        "    train[date_type] = data[data['Class'] == date_type].reset_index().drop(columns=['index']).iloc[0:int(num_examples*0.8)]#.values\n",
        "    val[date_type] = data[data['Class'] == date_type].reset_index().drop(columns=['index']).iloc[int(num_examples*0.8):int(num_examples*0.9)]#.values\n",
        "    test[date_type] = data[data['Class'] == date_type].reset_index().drop(columns=['index']).iloc[int(num_examples*0.9):]#.values\n",
        "\n",
        "    print(type(train[date_type]), train[date_type].shape)\n",
        "\n",
        "#print(len(train))\n",
        "train, val, test = [pd.concat(split).sample(frac=1, random_state=1).reset_index(drop=True) for split in [train, val, test]]"
      ]
    },
    {
      "cell_type": "markdown",
      "metadata": {
        "id": "dx_bkn9mnjmB"
      },
      "source": [
        "### Get data and label tensors from each dataframe split"
      ]
    },
    {
      "cell_type": "code",
      "execution_count": null,
      "metadata": {
        "id": "UkzOwfe5njmB"
      },
      "outputs": [],
      "source": [
        "# Get data and label tensors from each split dataframe\n",
        "\n",
        "X_train = torch.Tensor(train.values[:,:-1])\n",
        "Y_train = torch.Tensor(train.values[:,-1])\n",
        "\n",
        "X_val = torch.Tensor(val.values[:,:-1])\n",
        "Y_val = torch.Tensor(val.values[:,-1])\n",
        "\n",
        "X_test = torch.Tensor(test.values[:,:-1])\n",
        "Y_test = torch.Tensor(test.values[:,-1])"
      ]
    },
    {
      "cell_type": "code",
      "execution_count": null,
      "metadata": {
        "id": "ibMKTrBFnjmC",
        "outputId": "4a5a218a-9eb1-4fa7-eb07-c5bda24baf1c"
      },
      "outputs": [
        {
          "name": "stdout",
          "output_type": "stream",
          "text": [
            "tensor([1., 2., 3., 4., 5., 6., 7.])\n"
          ]
        }
      ],
      "source": [
        "X_train.shape"
      ]
    },
    {
      "cell_type": "markdown",
      "metadata": {
        "id": "cUCBVAIRnjmD"
      },
      "source": [
        "## Define Model Architecture and Loss"
      ]
    },
    {
      "cell_type": "code",
      "execution_count": null,
      "metadata": {
        "id": "UGbWcYCanjmD"
      },
      "outputs": [],
      "source": [
        "# define model\n",
        "torch.manual_seed(0)\n",
        "\n",
        "class Network(nn.Module):\n",
        "    def __init__(self, n_in=34, n_hidden=5, n_classes=7):#, ks, stride):\n",
        "        super(Network, self).__init__()\n",
        "        self.mapping1 = nn.Linear(n_in, n_hidden)\n",
        "        self.mapping2 = nn.Linear(n_hidden, n_hidden)\n",
        "        self.mapping3 = nn.Linear(n_hidden, n_classes)\n",
        "        self.relu = nn.ReLU()\n",
        "\n",
        "        self.svm_1 = torch.empty(n_hidden)\n",
        "        nn.init.uniform_(self.svm_1, -0.01, 0.02)\n",
        "\n",
        "        self.svm_2 = torch.empty(n_hidden)\n",
        "        nn.init.normal_(self.svm_2, -0.01, 0.02)\n",
        "\n",
        "        self.svm_3 = torch.empty(n_classes)\n",
        "        nn.init.normal_(self.svm_3, -0.01, 0.02)\n",
        "\n",
        "        #self.w = nn.Parameter(torch.randn(1, 2), requires_grad=True)\n",
        "\n",
        "    def forward(self, x):\n",
        "        f_map1 = self.relu(self.mapping1(x))\n",
        "        f_map2 = self.relu(self.mapping2(f_map1))\n",
        "        f_map3 = self.mapping3(f_map2)\n",
        "                \n",
        "        return [f_map1, f_map2, f_map3, self.svm_1, self.svm_2, self.svm_3]\n",
        "\n",
        "\n",
        "def companion_loss(f_map, svm_w, t_labels, n_labels=7):\n",
        "    \"\"\"\n",
        "    Implements L2-SVM companion objective loss described by equations (4) and (5) of the \"Deeply Supervised Nets\" paper ([Gallagher et. al, 2014])\n",
        "\n",
        "    parameters\n",
        "    ----------\n",
        "    f_map: of shape (BATCH_SIZE x NUM_FEATURES)\n",
        "    svm_w: svm weights\n",
        "    t_labels: vector of labels\n",
        "    \"\"\"\n",
        "\n",
        "    loss = 0\n",
        "    all_labels = torch.arange(n_labels) + 1\n",
        "\n",
        "    f_labels = [all_labels[all_labels != t_labels[i]] for i in range(len(t_labels))] # f_labels.shape = (# examples, 6), each row has labels != t_label\n",
        "    f_labels = torch.stack(f_labels)\n",
        "\n",
        "    #print(f_map.shape, svm_w.shape, (f_map@svm_w).shape)\n",
        "    svm_pred = torch.unsqueeze(f_map @ svm_w, dim=0).T # torch.Size([716, 1])\n",
        "\n",
        "    # < w^(m), (Z^(m), y) >\n",
        "    true_label_svm = svm_pred * torch.unsqueeze(t_labels,dim=0).T # torch.Size([716, 1])\n",
        "    \n",
        "    # < w^(m), (Z^(m), y_k) > for all k\n",
        "    f_labels_svm = svm_pred * f_labels # torch.Size([716, 6])\n",
        "\n",
        "    #print(svm_pred.shape, true_label_svm.shape, f_labels_svm.shape, f_labels.shape)\n",
        "\n",
        "    loss = torch.sum(torch.nn.functional.relu(1 - (true_label_svm - f_labels_svm))**2)#**2\n",
        "    \n",
        "    return loss\n",
        "\n",
        "#global_loss = lambda data: torch.sum([companion_loss(f_map) for f_map in Network(data)])\n",
        "def global_loss(model_out: list, Y, alphas: list, gamma = 0.05):\n",
        "    \"\"\"\n",
        "    Return overall combined objective function as specified in eq. (3) of [Gallagher et. al, 2014]\n",
        "    \n",
        "    parameters\n",
        "    ----------\n",
        "    model_out: [f_map1, f_map2, f_map3, svm1, svm2, svm3]\n",
        "    alphas: list of alpha values (see eq. (3), and pg. 4 of [Gallagher et. al, 2014])\n",
        "    gamma: see pg. 4 of [Gallagher et. al, 2014]\n",
        "    \"\"\"\n",
        "\n",
        "    n_layers = len(model_out) // 2\n",
        "    companion_losses = [companion_loss(model_out[m], model_out[m+n_layers], Y) for m in range(n_layers)]\n",
        "    \n",
        "    f_layer_loss = torch.norm(model_out[-1])**2 + companion_losses[-1]\n",
        "    modified_companion_losses = [alphas[m] * torch.nn.functional.relu(torch.norm(model_out[m + n_layers])**2 + companion_losses[m] - gamma) for m in range(n_layers - 1)]\n",
        "    global_loss = f_layer_loss + sum(modified_companion_losses)\n",
        "    \n",
        "    #print(companion_losses)\n",
        "    #print(\"norms: \", torch.norm(model_out[-1]), torch.norm(model_out[-2]))\n",
        "    return global_loss\n",
        "    "
      ]
    },
    {
      "cell_type": "markdown",
      "metadata": {
        "id": "Wc5zXLg0njmE"
      },
      "source": [
        "## Train"
      ]
    },
    {
      "cell_type": "code",
      "execution_count": null,
      "metadata": {
        "id": "IH_lZlkYnjmE"
      },
      "outputs": [],
      "source": [
        "def train(num_epochs = 100):\n",
        "    opt = torch.optim.SGD(model.parameters(), lr=0.0001, momentum=0.9, weight_decay=0.01)\n",
        "    epoch_losses = []\n",
        "    epoch_accs = []\n",
        "\n",
        "    alphas = [0.1, 0.1]#[14, 10]\n",
        "    \n",
        "    for epoch in range(num_epochs):\n",
        "\n",
        "        avg_train_loss = 0\n",
        "        train_acc = 0\n",
        "\n",
        "        if epoch % (int)(num_epochs * 0.2) == 0:\n",
        "            print(f\"EPOCH {epoch}\")\n",
        "            #print(torch.nn.functional.softmax(model(X_train)[1][0:10],dim=1))\n",
        "            print(torch.argmax(model(X_train)[2][0:10],dim=1))\n",
        "\n",
        "        batch_sz = 125\n",
        "        alphas = [a * 0.1 * (1 - epoch / num_epochs) for a in alphas]\n",
        "        \n",
        "        for batch_idx in range(0, X_train.shape[0], batch_sz):\n",
        "            opt.zero_grad()\n",
        "            L = global_loss(model(X_train[batch_idx:batch_idx+batch_sz]), Y_train[batch_idx:batch_idx+batch_sz], alphas)\n",
        "            L.backward()\n",
        "            opt.step()\n",
        "\n",
        "            avg_train_loss += L.item()\n",
        "\n",
        "            train_batch_pred = torch.argmax(model(X_train[batch_idx:batch_idx+batch_sz])[2],dim=1) + 1\n",
        "            train_batch_true = Y_train[batch_idx:batch_idx+batch_sz]\n",
        "            train_acc += np.array(train_batch_pred == train_batch_true).sum()\n",
        "        \n",
        "        epoch_losses.append(avg_train_loss / X_train.shape[0])\n",
        "        epoch_accs.append(train_acc / X_train.shape[0])\n",
        "\n",
        "    plt.plot(epoch_losses)\n",
        "    plt.title(\"Train Set Loss\")\n",
        "    plt.ylabel('Loss')\n",
        "    plt.xlabel('Epoch #')\n",
        "    plt.show()\n",
        "\n",
        "    plt.plot(epoch_accs)\n",
        "    plt.title(\"Train Set Accuracy\")\n",
        "    plt.ylabel('Accuracy')\n",
        "    plt.xlabel('Epoch #')\n",
        "    plt.show()\n",
        "    \n",
        "    return epoch_losses, epoch_accs"
      ]
    },
    {
      "cell_type": "code",
      "execution_count": null,
      "metadata": {
        "id": "7fFRo6pTnjmF",
        "outputId": "1abac11f-0e39-437d-a08f-25e5a6cee943"
      },
      "outputs": [
        {
          "name": "stdout",
          "output_type": "stream",
          "text": [
            "EPOCH 0\n",
            "tensor([6, 6, 6, 1, 6, 6, 1, 6, 6, 1])\n",
            "EPOCH 20\n",
            "tensor([1, 1, 6, 1, 6, 6, 1, 1, 6, 1])\n",
            "EPOCH 40\n",
            "tensor([1, 1, 6, 1, 1, 6, 1, 1, 6, 1])\n",
            "EPOCH 60\n",
            "tensor([1, 1, 6, 1, 1, 6, 1, 1, 6, 1])\n",
            "EPOCH 80\n",
            "tensor([1, 1, 6, 1, 1, 6, 1, 1, 6, 1])\n"
          ]
        },
        {
          "data": {
            "image/png": "[encoded data removed]",
            "text/plain": [
              "<Figure size 432x288 with 1 Axes>"
            ]
          },
          "metadata": {
            "needs_background": "light"
          },
          "output_type": "display_data"
        },
        {
          "data": {
            "image/png": "[encoded data removed]",
            "text/plain": [
              "<Figure size 432x288 with 1 Axes>"
            ]
          },
          "metadata": {
            "needs_background": "light"
          },
          "output_type": "display_data"
        },
        {
          "data": {
            "text/plain": [
              "([6.149310831251091,\n",
              "  6.00003963875371,\n",
              "  5.93023366235488,\n",
              "  5.852135088190686,\n",
              "  5.716434159092397,\n",
              "  5.431633634940206,\n",
              "  5.01822709238063,\n",
              "  4.709834477088971,\n",
              "  4.594547037305778,\n",
              "  4.5475304033503186,\n",
              "  4.467332211286662,\n",
              "  4.4060330950348074,\n",
              "  4.354358737029177,\n",
              "  4.308325613011195,\n",
              "  4.261422141304229,\n",
              "  4.215657196897368,\n",
              "  4.171845334868191,\n",
              "  4.131626022594601,\n",
              "  4.095990399408607,\n",
              "  4.0631084335582885,\n",
              "  4.032255375185493,\n",
              "  4.00139912013901,\n",
              "  3.97116165587356,\n",
              "  3.9440588072025577,\n",
              "  3.9211655515532255,\n",
              "  3.900874430906839,\n",
              "  3.8825079209311713,\n",
              "  3.8667701849058354,\n",
              "  3.8542876003840782,\n",
              "  3.842838862754779,\n",
              "  3.833793128668929,\n",
              "  3.824743601196971,\n",
              "  3.8198405857192737,\n",
              "  3.812527960239176,\n",
              "  3.807616803899158,\n",
              "  3.8003909574540633,\n",
              "  3.7982647858518463,\n",
              "  3.7921840305434924,\n",
              "  3.7889312232672836,\n",
              "  3.78293524374509,\n",
              "  3.781890229805888,\n",
              "  3.775570533795064,\n",
              "  3.774533490228919,\n",
              "  3.7686589416844885,\n",
              "  3.76733530566679,\n",
              "  3.762422614923403,\n",
              "  3.7587774692300977,\n",
              "  3.755652102678182,\n",
              "  3.7513764450669953,\n",
              "  3.7489949231707183,\n",
              "  3.7444940492427548,\n",
              "  3.7416851533857804,\n",
              "  3.737700563569309,\n",
              "  3.735042422843379,\n",
              "  3.730104840667554,\n",
              "  3.728817731974511,\n",
              "  3.7237948625447364,\n",
              "  3.723174409493388,\n",
              "  3.7191496694554163,\n",
              "  3.7157687821201772,\n",
              "  3.714936155180691,\n",
              "  3.7110146890139446,\n",
              "  3.7098983679403807,\n",
              "  3.706819544957337,\n",
              "  3.703636382545173,\n",
              "  3.7022615997484944,\n",
              "  3.6989554719551982,\n",
              "  3.6971704493687807,\n",
              "  3.6957544081703912,\n",
              "  3.6918559580541856,\n",
              "  3.6923401475618673,\n",
              "  3.6878516341054906,\n",
              "  3.6879189773644816,\n",
              "  3.684455914204347,\n",
              "  3.683075420017349,\n",
              "  3.681796196452732,\n",
              "  3.680044419272652,\n",
              "  3.677879035139883,\n",
              "  3.6765032294076248,\n",
              "  3.6741177010136608,\n",
              "  3.67314369585261,\n",
              "  3.6722983674630107,\n",
              "  3.669035245586374,\n",
              "  3.6684389593880935,\n",
              "  3.666767397406381,\n",
              "  3.6653544250147303,\n",
              "  3.6623051819188635,\n",
              "  3.664341889280181,\n",
              "  3.6602981823116707,\n",
              "  3.6602940053247206,\n",
              "  3.6576718378333406,\n",
              "  3.6566283582975077,\n",
              "  3.6549275574071447,\n",
              "  3.652164096938831,\n",
              "  3.65236331364296,\n",
              "  3.6492995789597154,\n",
              "  3.6489089454352523,\n",
              "  3.6458030572816646,\n",
              "  3.6459523206316558,\n",
              "  3.64318979785429],\n",
              " [0.10754189944134078,\n",
              "  0.10474860335195531,\n",
              "  0.10474860335195531,\n",
              "  0.10474860335195531,\n",
              "  0.10474860335195531,\n",
              "  0.10195530726256984,\n",
              "  0.08798882681564246,\n",
              "  0.07402234636871509,\n",
              "  0.07262569832402235,\n",
              "  0.08519553072625698,\n",
              "  0.08659217877094973,\n",
              "  0.09636871508379888,\n",
              "  0.11452513966480447,\n",
              "  0.14106145251396648,\n",
              "  0.1452513966480447,\n",
              "  0.1494413407821229,\n",
              "  0.15782122905027932,\n",
              "  0.15921787709497207,\n",
              "  0.15782122905027932,\n",
              "  0.1634078212290503,\n",
              "  0.16759776536312848,\n",
              "  0.17039106145251395,\n",
              "  0.1717877094972067,\n",
              "  0.17737430167597765,\n",
              "  0.1829608938547486,\n",
              "  0.1871508379888268,\n",
              "  0.18435754189944134,\n",
              "  0.1871508379888268,\n",
              "  0.18854748603351956,\n",
              "  0.19273743016759776,\n",
              "  0.19273743016759776,\n",
              "  0.19273743016759776,\n",
              "  0.19273743016759776,\n",
              "  0.1941340782122905,\n",
              "  0.1941340782122905,\n",
              "  0.1941340782122905,\n",
              "  0.19273743016759776,\n",
              "  0.19273743016759776,\n",
              "  0.19273743016759776,\n",
              "  0.1941340782122905,\n",
              "  0.19273743016759776,\n",
              "  0.19273743016759776,\n",
              "  0.19273743016759776,\n",
              "  0.19553072625698323,\n",
              "  0.19273743016759776,\n",
              "  0.1941340782122905,\n",
              "  0.19273743016759776,\n",
              "  0.19273743016759776,\n",
              "  0.1941340782122905,\n",
              "  0.19134078212290503,\n",
              "  0.19134078212290503,\n",
              "  0.18994413407821228,\n",
              "  0.18994413407821228,\n",
              "  0.1871508379888268,\n",
              "  0.19134078212290503,\n",
              "  0.18854748603351956,\n",
              "  0.19134078212290503,\n",
              "  0.1871508379888268,\n",
              "  0.18854748603351956,\n",
              "  0.18994413407821228,\n",
              "  0.18994413407821228,\n",
              "  0.18994413407821228,\n",
              "  0.18994413407821228,\n",
              "  0.18854748603351956,\n",
              "  0.19134078212290503,\n",
              "  0.18854748603351956,\n",
              "  0.18994413407821228,\n",
              "  0.19134078212290503,\n",
              "  0.18994413407821228,\n",
              "  0.19273743016759776,\n",
              "  0.18994413407821228,\n",
              "  0.19134078212290503,\n",
              "  0.19134078212290503,\n",
              "  0.18994413407821228,\n",
              "  0.18994413407821228,\n",
              "  0.18994413407821228,\n",
              "  0.18994413407821228,\n",
              "  0.19273743016759776,\n",
              "  0.18994413407821228,\n",
              "  0.19134078212290503,\n",
              "  0.19273743016759776,\n",
              "  0.18994413407821228,\n",
              "  0.18994413407821228,\n",
              "  0.19273743016759776,\n",
              "  0.18854748603351956,\n",
              "  0.19134078212290503,\n",
              "  0.19273743016759776,\n",
              "  0.18994413407821228,\n",
              "  0.19273743016759776,\n",
              "  0.18994413407821228,\n",
              "  0.19134078212290503,\n",
              "  0.18994413407821228,\n",
              "  0.18854748603351956,\n",
              "  0.19273743016759776,\n",
              "  0.18994413407821228,\n",
              "  0.19273743016759776,\n",
              "  0.18994413407821228,\n",
              "  0.19134078212290503,\n",
              "  0.18854748603351956,\n",
              "  0.19134078212290503])"
            ]
          },
          "execution_count": 1246,
          "metadata": {},
          "output_type": "execute_result"
        }
      ],
      "source": [
        "model = Network()\n",
        "train()"
      ]
    },
    {
      "cell_type": "markdown",
      "metadata": {
        "id": "LnlPqDXZnjmG"
      },
      "source": [
        "### Deprecated code for testing"
      ]
    },
    {
      "cell_type": "markdown",
      "metadata": {
        "id": "2w53TbXOnjmH"
      },
      "source": [
        "Examine weights at every layer"
      ]
    },
    {
      "cell_type": "code",
      "execution_count": null,
      "metadata": {
        "id": "bQouvNexnjmH",
        "outputId": "944ee39a-7458-4775-a616-4c61d6413ec5"
      },
      "outputs": [
        {
          "name": "stdout",
          "output_type": "stream",
          "text": [
            "torch.Size([10, 5]) torch.Size([5])\n",
            "tensor([[2.6562, 3.7774, 0.3459, 1.2566, 0.0000],\n",
            "        [1.6194, 2.9163, 0.0000, 0.8579, 0.0000],\n",
            "        [1.1465, 0.0000, 0.0000, 0.6298, 0.4821],\n",
            "        [1.4496, 4.4364, 0.0000, 1.0822, 0.0000],\n",
            "        [0.0000, 0.0000, 0.0000, 0.0000, 0.0000],\n",
            "        [1.6923, 0.5277, 0.0000, 1.1399, 0.6488],\n",
            "        [1.9688, 5.2606, 0.0000, 1.1872, 0.0000],\n",
            "        [1.4789, 4.2494, 1.1399, 0.9333, 0.0000],\n",
            "        [0.0000, 0.0000, 3.3393, 0.0000, 1.6777],\n",
            "        [1.4936, 3.9115, 0.0000, 1.0701, 0.0000]], grad_fn=<ReluBackward0>) \n",
            "\n",
            "  tensor([[1.5944, 0.0000, 0.0000, 2.2556, 0.0000],\n",
            "        [1.7080, 0.0000, 0.0000, 1.6231, 0.0000],\n",
            "        [1.6067, 1.7206, 0.0000, 0.2798, 0.0000],\n",
            "        [1.6616, 0.0000, 0.0000, 2.1532, 0.0000],\n",
            "        [1.6646, 0.0000, 0.0000, 0.0000, 0.0000],\n",
            "        [1.6118, 1.8190, 0.0000, 0.6776, 0.0000],\n",
            "        [1.6538, 0.0000, 0.0000, 2.6651, 0.0000],\n",
            "        [1.0944, 0.0000, 0.0000, 1.8052, 0.0000],\n",
            "        [0.0000, 3.6739, 0.0000, 0.0000, 0.0000],\n",
            "        [1.6876, 0.0000, 0.0000, 1.9652, 0.0000]], grad_fn=<ReluBackward0>) \n",
            "\n",
            " tensor([[ 2.5092,  2.2002,  3.3305,  2.4930,  2.1255,  3.3039,  2.0523],\n",
            "        [ 2.3738,  2.1171,  3.0749,  2.3419,  2.0558,  2.9915,  1.9177],\n",
            "        [-0.6906, -0.1610, -0.7297, -0.4851, -0.9122, -0.3108, -0.7055],\n",
            "        [ 2.5206,  2.2119,  3.3258,  2.5013,  2.1451,  3.2947,  2.0496],\n",
            "        [ 1.7975,  1.7309,  2.1674,  1.7290,  1.6648,  1.9054,  1.4412],\n",
            "        [-0.6986, -0.1792, -0.6833, -0.4687, -0.9687, -0.1836, -0.7169],\n",
            "        [ 2.6877,  2.3227,  3.5959,  2.6802,  2.2549,  3.6191,  2.1915],\n",
            "        [ 2.0156,  1.8409,  2.7117,  1.9948,  1.7079,  2.5881,  1.7288],\n",
            "        [-4.7700, -3.2386, -5.4994, -4.2494, -4.9475, -4.5216, -3.9157],\n",
            "        [ 2.4751,  2.1832,  3.2440,  2.4512,  2.1195,  3.1953,  2.0066]],\n",
            "       grad_fn=<AddmmBackward0>)\n"
          ]
        }
      ],
      "source": [
        "f1, f2, f3, s1, s2, s3 = model(X_train[0:10])\n",
        "\n",
        "print(f1.shape, s1.shape)\n",
        "print(f\"{f1} \\n\\n  {f2} \\n\\n {f3}\")"
      ]
    },
    {
      "cell_type": "markdown",
      "metadata": {
        "id": "XGczq0N_njmH"
      },
      "source": [
        "Figure out how to compute accuracy"
      ]
    },
    {
      "cell_type": "code",
      "execution_count": null,
      "metadata": {
        "id": "k74e3kwUnjmH",
        "outputId": "8da8ae01-2921-46f6-f708-12b94b0b33f0"
      },
      "outputs": [
        {
          "name": "stdout",
          "output_type": "stream",
          "text": [
            "tensor([[1., 2., 3.],\n",
            "        [3., 4., 4.]]) tensor([[3., 0.]])\n",
            "1\n"
          ]
        }
      ],
      "source": [
        "predicted = torch.Tensor([[1, 2, 3], [3, 4, 4]])\n",
        "\n",
        "true = torch.Tensor([[3, 0]])\n",
        "    \n",
        "print(predicted, true)\n",
        "print(np.array(torch.argmax(predicted, dim=1) + 1 == true).sum())"
      ]
    },
    {
      "cell_type": "markdown",
      "metadata": {
        "id": "UnzcV0AKnjmJ"
      },
      "source": [
        "Previous attempts at defining companion loss"
      ]
    },
    {
      "cell_type": "code",
      "execution_count": null,
      "metadata": {
        "id": "42u_YSnKnjmJ",
        "outputId": "9077d2a5-1b60-4946-8bac-54fb483e854d"
      },
      "outputs": [
        {
          "data": {
            "text/plain": [
              "'\\nfor row in f_labels:\\n    svm_pred = torch.unsqueeze(f_map @ svm_w, dim=0).T # shape = (# examples, 1)\\n    row = torch.unsqueeze(row, dim=0) # shape = (1, 6)\\n    f_label_svms = svm_pred.long() @ row\\n    loss += torch.sum(torch.nn.functional.relu(1 - (true_label_svm.T - f_label_svms))**2)\\nreturn loss\\n    #true_label_svm = torch.unsqueeze((f_map @ svm_w) * t_labels, dim=0).T # torch.Size([716, 1]) \\n'"
            ]
          },
          "execution_count": 603,
          "metadata": {},
          "output_type": "execute_result"
        }
      ],
      "source": [
        "\"\"\"\n",
        "deprecated code -- alternate ways I tried calculating loss\n",
        "i = 0\n",
        "for row in f_labels: # i.e. row = torch.Tensor([0, 2, 3, 4, 5, 6])\n",
        "    i += 1\n",
        "    if i % 10 == 0:\n",
        "        print(i)\n",
        "    for f_label in row:\n",
        "        # < w^(m), (Z^(m), y_k) >\n",
        "        f_label_svm = (f_map @ svm_w) * f_label\n",
        "\n",
        "        # max(0, 1 - (true_label_svm - f_label_svm))**2\n",
        "        loss += sum(torch.nn.functional.relu(1 - (true_label_svm - f_label_svm))**2)\n",
        "\"\"\"\n",
        "\n",
        "\"\"\"\n",
        "for row in f_labels:\n",
        "    svm_pred = torch.unsqueeze(f_map @ svm_w, dim=0).T # shape = (# examples, 1)\n",
        "    row = torch.unsqueeze(row, dim=0) # shape = (1, 6)\n",
        "    f_label_svms = svm_pred.long() @ row\n",
        "    loss += torch.sum(torch.nn.functional.relu(1 - (true_label_svm.T - f_label_svms))**2)\n",
        "return loss\n",
        "    #true_label_svm = torch.unsqueeze((f_map @ svm_w) * t_labels, dim=0).T # torch.Size([716, 1]) \n",
        "\"\"\"\n"
      ]
    },
    {
      "cell_type": "markdown",
      "metadata": {
        "id": "kvlU3JmnnjmJ"
      },
      "source": [
        "Examining initial loss values"
      ]
    },
    {
      "cell_type": "code",
      "execution_count": null,
      "metadata": {
        "id": "tGfxDjv_njmK",
        "outputId": "2b44256a-60c5-4053-9460-996c6d41230d"
      },
      "outputs": [
        {
          "data": {
            "text/plain": [
              "tensor(5558.4961, grad_fn=<AddBackward0>)"
            ]
          },
          "execution_count": 1237,
          "metadata": {},
          "output_type": "execute_result"
        }
      ],
      "source": [
        "# test loss\n",
        "\n",
        "f1, f2, f3, svm1, svm2, svm3 = model(X_train)\n",
        "\n",
        "loss_1 = companion_loss(f1, svm1, Y_train)\n",
        "loss_2 = companion_loss(f2, svm2, Y_train)\n",
        "loss_3 = companion_loss(f3, svm3, Y_train)\n",
        "\n",
        "global_loss(model(X_train), Y_train, alphas=[0.1, 0.2, 0.3])"
      ]
    },
    {
      "cell_type": "markdown",
      "metadata": {
        "id": "COYOP_RsnjmK"
      },
      "source": [
        "Get familiar with re-shaping of input needed in loss function"
      ]
    },
    {
      "cell_type": "code",
      "execution_count": null,
      "metadata": {
        "id": "f4W1vbN7njmK",
        "outputId": "cea01659-d792-4a9c-ce73-7d0cf4b02e68"
      },
      "outputs": [
        {
          "name": "stdout",
          "output_type": "stream",
          "text": [
            "torch.Size([1, 9]) torch.Size([1, 3]) torch.Size([1, 9])\n",
            "tensor([[  0.,  -1.,   2.],\n",
            "        [  0.,  -2.,   4.],\n",
            "        [  0.,  -3.,   6.],\n",
            "        [  0.,  -4.,   8.],\n",
            "        [  0.,  -5.,  10.],\n",
            "        [  0.,  -6.,  12.],\n",
            "        [  0.,  -7.,  14.],\n",
            "        [  0.,  -8.,  16.],\n",
            "        [  0., -10.,  20.]]) torch.Size([9, 3])\n",
            "tensor([[  0.,  -1.,   2.],\n",
            "        [  0.,  -2.,   4.],\n",
            "        [  0.,  -3.,   6.],\n",
            "        [  0.,  -4.,   8.],\n",
            "        [  0.,  -5.,  10.],\n",
            "        [  0.,  -6.,  12.],\n",
            "        [  0.,  -7.,  14.],\n",
            "        [  0.,  -8.,  16.],\n",
            "        [  0., -10.,  20.]])\n",
            "tensor([   0.,    0., 1216.])\n"
          ]
        }
      ],
      "source": [
        "\"\"\"\n",
        "Re-shaping is needed in companion_loss() because in class Network.forward(), svm weights are defined to be 1 dimension i.e. (#dim,) instead of (#dim,1).\n",
        "We didn't realize this before, so we did re-shaping of svm weights in the loss function.  Properly defining weights in the forward() could work, but then we'd have to\n",
        "change up the re-shaping stuff in the loss function\n",
        "\"\"\"\n",
        "\n",
        "a = torch.Tensor([1, 2, 3, 4, 5, 6, 7, 8, 10])\n",
        "a = torch.unsqueeze(a, dim=0)\n",
        "\n",
        "true = torch.ones(a.shape)\n",
        "\n",
        "f = torch.Tensor([0, -1, 2])\n",
        "f = torch.unsqueeze(f, dim=0)\n",
        "\n",
        "m = (a.T @ f)\n",
        "\n",
        "print(a.shape, f.shape, true.shape)\n",
        "print(m, m.shape)\n",
        "print(1 - (true.T - m))\n",
        "print(sum(torch.nn.functional.relu(1 - (true.T - m))**2))"
      ]
    },
    {
      "cell_type": "markdown",
      "metadata": {
        "id": "CfgQ8UUdnjmK"
      },
      "source": [
        "Broadcasting multiplication of the vector of predicted svm values and the 6 vectors of false labels"
      ]
    },
    {
      "cell_type": "code",
      "execution_count": null,
      "metadata": {
        "id": "y60WFMN5njmK",
        "outputId": "f9b68fdc-3d60-42ff-f8fc-0bba7183e797"
      },
      "outputs": [
        {
          "name": "stdout",
          "output_type": "stream",
          "text": [
            "torch.Size([9, 1]) torch.Size([9, 3])\n",
            "tensor([[ 1.],\n",
            "        [ 2.],\n",
            "        [ 3.],\n",
            "        [ 4.],\n",
            "        [ 5.],\n",
            "        [ 6.],\n",
            "        [ 7.],\n",
            "        [ 8.],\n",
            "        [10.]])\n",
            "tensor([[ 1.,  1.,  1.],\n",
            "        [ 2.,  2.,  2.],\n",
            "        [ 3.,  3.,  3.],\n",
            "        [ 4.,  4.,  4.],\n",
            "        [ 5.,  5.,  5.],\n",
            "        [ 6.,  6.,  6.],\n",
            "        [ 7.,  7.,  7.],\n",
            "        [ 8.,  8.,  8.],\n",
            "        [10., 10., 10.]])\n",
            "tensor([[  1.,   1.,   1.],\n",
            "        [  4.,   4.,   4.],\n",
            "        [  9.,   9.,   9.],\n",
            "        [ 16.,  16.,  16.],\n",
            "        [ 25.,  25.,  25.],\n",
            "        [ 36.,  36.,  36.],\n",
            "        [ 49.,  49.,  49.],\n",
            "        [ 64.,  64.,  64.],\n",
            "        [100., 100., 100.]])\n"
          ]
        }
      ],
      "source": [
        "j = torch.cat([a] * 3, dim=0) #.squeeze(dim=1)\n",
        "\n",
        "print(a.T.shape, j.T.shape)\n",
        "\n",
        "print(a.T)\n",
        "print(j.T)\n",
        "print(a.T * j.T)"
      ]
    },
    {
      "cell_type": "code",
      "execution_count": null,
      "metadata": {
        "id": "mwtbnCXpnjmL",
        "outputId": "0f3b22bb-b16d-4ef9-be8e-abc561d333e4"
      },
      "outputs": [
        {
          "name": "stdout",
          "output_type": "stream",
          "text": [
            "torch.Size([1, 3])\n"
          ]
        },
        {
          "data": {
            "text/plain": [
              "tensor([[-3.5995e+09, -7.1990e+09],\n",
              "        [-4.6115e+09, -9.2229e+09],\n",
              "        [-1.0095e+10, -2.0191e+10],\n",
              "        ...,\n",
              "        [-3.0495e+09, -6.0990e+09],\n",
              "        [-3.0662e+09, -6.1324e+09],\n",
              "        [-4.7045e+09, -9.4091e+09]], grad_fn=<MmBackward0>)"
            ]
          },
          "execution_count": 460,
          "metadata": {},
          "output_type": "execute_result"
        }
      ],
      "source": [
        "svm_w = torch.randn(f1.shape[1])\n",
        "\n",
        "g = f1 @ svm_w\n",
        "g = torch.unsqueeze(g, dim=0).T\n",
        "\n",
        "print(torch.unsqueeze(torch.Tensor([1, 2, 3]), dim=0).shape)\n",
        "\n",
        "g @ torch.unsqueeze(torch.Tensor([1, 2]), dim=0)"
      ]
    }
  ],
  "metadata": {
    "interpreter": {
      "hash": "a209b2a29af6db15caeb87b5a469aa1eed57ecd42970a9baa7e0ed0c9978c8fe"
    },
    "kernelspec": {
      "display_name": "Python 3.9.7 ('base')",
      "language": "python",
      "name": "python3"
    },
    "language_info": {
      "codemirror_mode": {
        "name": "ipython",
        "version": 3
      },
      "file_extension": ".py",
      "mimetype": "text/x-python",
      "name": "python",
      "nbconvert_exporter": "python",
      "pygments_lexer": "ipython3",
      "version": "3.9.7"
    },
    "orig_nbformat": 4,
    "colab": {
      "name": "DSN.ipynb",
      "provenance": [],
      "include_colab_link": true
    }
  },
  "nbformat": 4,
  "nbformat_minor": 0
}
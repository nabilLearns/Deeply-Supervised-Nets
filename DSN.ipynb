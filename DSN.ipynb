{
 "cells": [
  {
   "cell_type": "code",
   "execution_count": 462,
   "metadata": {},
   "outputs": [],
   "source": [
    "import torch\n",
    "import torch.nn as nn\n",
    "import torchvision\n",
    "import pandas as pd\n",
    "import matplotlib.pyplot as plt\n",
    "import os"
   ]
  },
  {
   "cell_type": "code",
   "execution_count": 3,
   "metadata": {},
   "outputs": [],
   "source": [
    "!pip --quiet install wget"
   ]
  },
  {
   "cell_type": "code",
   "execution_count": 4,
   "metadata": {},
   "outputs": [
    {
     "name": "stdout",
     "output_type": "stream",
     "text": [
      "/home/nabil/Documents/Code/Data_Classification\n",
      "/home/nabil/Documents/Code/Data_Classification/DateData\n"
     ]
    }
   ],
   "source": [
    "#import os\n",
    "#os.path.join(os.getcwd()\n",
    "print(os.getcwd())\n",
    "print(os.path.join(os.getcwd(), 'DateData'))"
   ]
  },
  {
   "cell_type": "code",
   "execution_count": 5,
   "metadata": {},
   "outputs": [],
   "source": [
    "# Download dataset in an .arff final into current working directory\n",
    "\n",
    "import wget, requests, io, os, shutil\n",
    "from zipfile import ZipFile\n",
    "\n",
    "data_url = \"https://www.muratkoklu.com/datasets/vtdhnd06.php\"\n",
    "req = requests.get(data_url)\n",
    "zip_file = ZipFile(io.BytesIO(req.content))\n",
    "path = os.path.join(os.getcwd())\n",
    "zip_file.extractall(path)\n",
    "\n",
    "shutil.move(os.path.join(os.getcwd(),'Date_Fruit_Datasets/Date_Fruit_Datasets.arff'), os.path.join(os.getcwd(), 'Date_Fruit_Datasets.arff'))\n",
    "shutil.rmtree(os.path.join(os.getcwd(),'Date_Fruit_Datasets'))\n"
   ]
  },
  {
   "cell_type": "code",
   "execution_count": 6,
   "metadata": {},
   "outputs": [
    {
     "name": "stdout",
     "output_type": "stream",
     "text": [
      "['Date_Fruit_Datasets.arff']\n"
     ]
    }
   ],
   "source": [
    "# Python script that converts .arff to .csv (not mine)\n",
    "# Source: https://github.com/haloboy777/arfftocsv/blob/master/arffToCsv.py\n",
    "\n",
    "#########################################\n",
    "# Project   : ARFF to CSV converter     #\n",
    "# Created   : 10/01/17 11:08:06         #\n",
    "# Author    : haloboy777                #\n",
    "# Licence   : MIT                       #\n",
    "#########################################\n",
    "\n",
    "# Importing library\n",
    "import os\n",
    "\n",
    "# Getting all the arff files from the current directory\n",
    "files = [arff for arff in os.listdir('.') if arff.endswith(\".arff\")]\n",
    "print(files)\n",
    "\n",
    "# Function for converting arff list to csv list\n",
    "def toCsv(text):\n",
    "    data = False\n",
    "    header = \"\"\n",
    "    new_content = []\n",
    "    for line in text:\n",
    "        if not data:\n",
    "            if \"@ATTRIBUTE\" in line or \"@attribute\" in line:\n",
    "                attributes = line.split()\n",
    "                if(\"@attribute\" in line):\n",
    "                    attri_case = \"@attribute\"\n",
    "                else:\n",
    "                    attri_case = \"@ATTRIBUTE\"\n",
    "                column_name = attributes[attributes.index(attri_case) + 1]\n",
    "                header = header + column_name + \",\"\n",
    "            elif \"@DATA\" in line or \"@data\" in line:\n",
    "                data = True\n",
    "                header = header[:-1]\n",
    "                header += '\\n'\n",
    "                new_content.append(header)\n",
    "        else:\n",
    "            new_content.append(line)\n",
    "    return new_content\n",
    "\n",
    "\n",
    "# Main loop for reading and writing files\n",
    "for file in files:\n",
    "    with open(file, \"r\") as inFile:\n",
    "        content = inFile.readlines()\n",
    "        name, ext = os.path.splitext(inFile.name)\n",
    "        new = toCsv(content)\n",
    "        with open(name + \".csv\", \"w\") as outFile:\n",
    "            outFile.writelines(new)"
   ]
  },
  {
   "cell_type": "code",
   "execution_count": 40,
   "metadata": {},
   "outputs": [
    {
     "name": "stdout",
     "output_type": "stream",
     "text": [
      "     AREA  PERIMETER  MAJOR_AXIS  MINOR_AXIS  ECCENTRICITY   EQDIASQ  \\\n",
      "0  422163   2378.908    837.8484    645.6693        0.6373  733.1539   \n",
      "1  338136   2085.144    723.8198    595.2073        0.5690  656.1464   \n",
      "2  526843   2647.394    940.7379    715.3638        0.6494  819.0222   \n",
      "3  416063   2351.210    827.9804    645.2988        0.6266  727.8378   \n",
      "4  347562   2160.354    763.9877    582.8359        0.6465  665.2291   \n",
      "\n",
      "   SOLIDITY  CONVEX_AREA  EXTENT  ASPECT_RATIO  ...  KurtosisRR  KurtosisRG  \\\n",
      "0    0.9947       424428  0.7831        1.2976  ...      3.2370      2.9574   \n",
      "1    0.9974       339014  0.7795        1.2161  ...      2.6228      2.6350   \n",
      "2    0.9962       528876  0.7657        1.3150  ...      3.7516      3.8611   \n",
      "3    0.9948       418255  0.7759        1.2831  ...      5.0401      8.6136   \n",
      "4    0.9908       350797  0.7569        1.3108  ...      2.7016      2.9761   \n",
      "\n",
      "   KurtosisRB    EntropyRR    EntropyRG    EntropyRB  ALLdaub4RR  ALLdaub4RG  \\\n",
      "0      4.2287 -59191263232 -50714214400 -39922372608     58.7255     54.9554   \n",
      "1      3.1704 -34233065472 -37462601728 -31477794816     50.0259     52.8168   \n",
      "2      4.7192 -93948354560 -74738221056 -60311207936     65.4772     59.2860   \n",
      "3      8.2618 -32074307584 -32060925952 -29575010304     43.3900     44.1259   \n",
      "4      4.4146 -39980974080 -35980042240 -25593278464     52.7743     50.9080   \n",
      "\n",
      "   ALLdaub4RB  Class  \n",
      "0     47.8400  BERHI  \n",
      "1     47.8315  BERHI  \n",
      "2     51.9378  BERHI  \n",
      "3     41.1882  BERHI  \n",
      "4     42.6666  BERHI  \n",
      "\n",
      "[5 rows x 35 columns]\n"
     ]
    }
   ],
   "source": [
    "data = pd.read_csv(\"Date_Fruit_Datasets.csv\")\n",
    "print(data.head())"
   ]
  },
  {
   "cell_type": "code",
   "execution_count": 401,
   "metadata": {},
   "outputs": [
    {
     "name": "stdout",
     "output_type": "stream",
     "text": [
      "[1 2 3 4 5 6 7]\n",
      "<class 'pandas.core.frame.DataFrame'> (52, 35)\n",
      "<class 'pandas.core.frame.DataFrame'> (78, 35)\n",
      "<class 'pandas.core.frame.DataFrame'> (163, 35)\n",
      "<class 'pandas.core.frame.DataFrame'> (57, 35)\n",
      "<class 'pandas.core.frame.DataFrame'> (132, 35)\n",
      "<class 'pandas.core.frame.DataFrame'> (159, 35)\n",
      "<class 'pandas.core.frame.DataFrame'> (75, 35)\n",
      "7\n"
     ]
    }
   ],
   "source": [
    "# Generate train/val/test data splits\n",
    "\n",
    "#print(data.info())\n",
    "#print(data['Class'].unique())\n",
    "\n",
    "data['Class'] = data['Class'].astype('category').cat.codes + 1\n",
    "print(data['Class'].unique())\n",
    "train, val, test = {}, {}, {}\n",
    "for date_type in data['Class'].unique(): #['DOKOL']\n",
    "    \n",
    "    num_examples = data[data['Class'] == date_type].shape[0]\n",
    "    data[data['Class'] == date_type] = data[data['Class'] == date_type].sample(frac=1, random_state=42)\n",
    "\n",
    "    train[date_type] = data[data['Class'] == date_type].reset_index().drop(columns=['index']).iloc[0:int(num_examples*0.8)]#.values\n",
    "    val[date_type] = data[data['Class'] == date_type].reset_index().drop(columns=['index']).iloc[int(num_examples*0.8):int(num_examples*0.9)]#.values\n",
    "    test[date_type] = data[data['Class'] == date_type].reset_index().drop(columns=['index']).iloc[int(num_examples*0.9):]#.values\n",
    "\n",
    "    print(type(train[date_type]), train[date_type].shape)\n",
    "\n",
    "\n",
    "#print(len(train))\n",
    "train, val, test = [pd.concat(split).sample(frac=1, random_state=1).reset_index(drop=True) for split in [train, val, test]]"
   ]
  },
  {
   "cell_type": "code",
   "execution_count": 402,
   "metadata": {},
   "outputs": [],
   "source": [
    "# Get data and label tensors from each split dataframe\n",
    "\n",
    "X_train = torch.Tensor(train.values[:,:-1])\n",
    "Y_train = torch.Tensor(train.values[:,-1])\n",
    "\n",
    "X_val = torch.Tensor(val.values[:,:-1])\n",
    "Y_val = torch.Tensor(val.values[:,-1])\n",
    "\n",
    "X_test = torch.Tensor(test.values[:,:-1])\n",
    "Y_test = torch.Tensor(test.values[:,-1])"
   ]
  },
  {
   "cell_type": "code",
   "execution_count": 403,
   "metadata": {},
   "outputs": [
    {
     "data": {
      "text/plain": [
       "torch.Size([716, 34])"
      ]
     },
     "execution_count": 403,
     "metadata": {},
     "output_type": "execute_result"
    }
   ],
   "source": [
    "X_train.shape"
   ]
  },
  {
   "cell_type": "code",
   "execution_count": 588,
   "metadata": {},
   "outputs": [],
   "source": [
    "# define model\n",
    "torch.manual_seed(0)\n",
    "\n",
    "def mlpconv(c_in, c_out, ks, stride):\n",
    "    \"\"\"\n",
    "    Part of an implementation of Network-in-Network. May use this in the future on a CV dataset.\n",
    "    \"\"\"\n",
    "    conv1 = nn.Conv2d(c_in, c_out, ks, stride)\n",
    "    conv2 = nn.Conv2d(c_out, c_out, ks=1)\n",
    "    conv3 = nn.Conv2d(c_out, c_out, ks=1)\n",
    "    layers = [conv1, nn.ReLU(), conv2, nn.ReLU(), conv3, nn.ReLU()]\n",
    "    return nn.Sequential(*layers)\n",
    "\n",
    "\n",
    "class Network(nn.Module):\n",
    "    def __init__(self, n_in=34, n_hidden=5, n_classes=7):#, ks, stride):\n",
    "        super(Network, self).__init__()\n",
    "        self.mapping1 = nn.Linear(n_in, n_hidden)\n",
    "        self.mapping2 = nn.Linear(n_hidden, n_hidden)\n",
    "        self.mapping3 = nn.Linear(n_hidden, n_classes)\n",
    "        self.relu = nn.ReLU()\n",
    "\n",
    "    def forward(self, x):\n",
    "        f_map1 = self.relu(self.mapping1(x))\n",
    "        f_map2 = self.relu(self.mapping2(f_map1))\n",
    "        f_map3 = self.mapping3(f_map2)\n",
    "\n",
    "        #svm_1 = torch.randn(f_map1.shape[1])\n",
    "        #svm_2 = torch.randn(f_map2.shape[1])\n",
    "        #svm_3 = torch.randn(f_map3.shape[1])\n",
    "\n",
    "        svm_1 = torch.empty(f_map1.shape[1])\n",
    "        nn.init.uniform_(svm_1, -0.001, 0.001)\n",
    "\n",
    "        svm_2 = torch.empty(f_map2.shape[1])\n",
    "        nn.init.uniform_(svm_2, -0.001, 0.001)\n",
    "\n",
    "        svm_3 = torch.empty(f_map3.shape[1])\n",
    "        nn.init.uniform_(svm_3, -0.001, 0.001)\n",
    "\n",
    "        return [f_map1, f_map2, f_map3, svm_1, svm_2, svm_3]\n",
    "\n",
    "\n",
    "def companion_loss(f_map, svm_w, t_labels, n_labels=7):\n",
    "    \"\"\"\n",
    "    Implements L2-SVM companion objective loss described by equations (4) and (5) of the \"Deeply Supervised Nets\" paper ([Lee et. al, 2015])\n",
    "    works for one example at a time\n",
    "\n",
    "    parameters\n",
    "    ----------\n",
    "    f_map: of shape (BATCH_SIZE x NUM_FEATURES)\n",
    "    svm_w: svm weights\n",
    "    t_labels: vector of labels\n",
    "    \"\"\"\n",
    "\n",
    "    loss = 0\n",
    "    all_labels = torch.arange(n_labels) + 1\n",
    "\n",
    "    f_labels = [all_labels[all_labels != t_labels[i]] for i in range(len(t_labels))] # f_labels.shape = (# examples, 6), each row has labels != t_label\n",
    "    f_labels = torch.stack(f_labels)\n",
    "\n",
    "    \"\"\"\n",
    "    deprecated code -- alternate ways I tried calculating loss\n",
    "    i = 0\n",
    "    for row in f_labels: # i.e. row = torch.Tensor([0, 2, 3, 4, 5, 6])\n",
    "        i += 1\n",
    "        if i % 10 == 0:\n",
    "            print(i)\n",
    "        for f_label in row:\n",
    "            # < w^(m), (Z^(m), y_k) >\n",
    "            f_label_svm = (f_map @ svm_w) * f_label\n",
    "\n",
    "            # max(0, 1 - (true_label_svm - f_label_svm))**2\n",
    "            loss += sum(torch.nn.functional.relu(1 - (true_label_svm - f_label_svm))**2)\n",
    "    \"\"\"\n",
    "\n",
    "    \"\"\"\n",
    "    for row in f_labels:\n",
    "        svm_pred = torch.unsqueeze(f_map @ svm_w, dim=0).T # shape = (# examples, 1)\n",
    "        row = torch.unsqueeze(row, dim=0) # shape = (1, 6)\n",
    "        f_label_svms = svm_pred.long() @ row\n",
    "        loss += torch.sum(torch.nn.functional.relu(1 - (true_label_svm.T - f_label_svms))**2)\n",
    "    return loss\n",
    "    \"\"\"\n",
    "    #true_label_svm = torch.unsqueeze((f_map @ svm_w) * t_labels, dim=0).T # torch.Size([716, 1]) \n",
    "\n",
    "    #print(f_map.shape, svm_w.shape, (f_map@svm_w).shape)\n",
    "    svm_pred = torch.unsqueeze(f_map @ svm_w, dim=0).T # torch.Size([716, 1])\n",
    "\n",
    "    # < w^(m), (Z^(m), y) >\n",
    "    true_label_svm = svm_pred * torch.unsqueeze(t_labels,dim=0).T # torch.Size([716, 1])\n",
    "    \n",
    "    # < w^(m), (Z^(m), y_k) > for all k\n",
    "    f_labels_svm = svm_pred * f_labels # torch.Size([716, 6])\n",
    "\n",
    "    #print(svm_pred.shape, true_label_svm.shape, f_labels_svm.shape, t_labels.shape)\n",
    "\n",
    "    loss = torch.sum(torch.nn.functional.relu(1 - (true_label_svm - f_labels_svm)))**2\n",
    "    \n",
    "    return loss #* 10e-5\n",
    "\n",
    "#global_loss = lambda data: torch.sum([companion_loss(f_map) for f_map in Network(data)])\n",
    "def global_loss(model_out: list, Y, alphas: list, gamma = 0.3):\n",
    "    \"\"\"\n",
    "    Return overall combined objective function as specified in eq. (3) of [Gallagher et. al, 2014]\n",
    "    \n",
    "    model_out: [f_map1, f_map2, f_map3, svm1, svm2, svm3]\n",
    "    \"\"\"\n",
    "\n",
    "    n_layers = len(model_out) // 2\n",
    "    companion_losses = [companion_loss(model_out[i], model_out[i+n_layers], Y) for i in range(n_layers)]\n",
    "    f_layer_loss = torch.norm(model_out[-1])**2 + companion_losses[-1]\n",
    "    modified_companion_losses = [alphas[i] * torch.nn.functional.relu(torch.norm(model_out[i])**2 + companion_losses[i] - gamma) for i in range(n_layers - 1)]\n",
    "    global_loss = f_layer_loss + sum(modified_companion_losses)\n",
    "    \n",
    "    print(\"norms: \", torch.norm(model_out[-1]), torch.norm(model_out[-2]))\n",
    "    return global_loss\n",
    "    \n",
    "model = Network()"
   ]
  },
  {
   "cell_type": "code",
   "execution_count": 597,
   "metadata": {},
   "outputs": [],
   "source": [
    "def train(num_epochs = 100):\n",
    "    opt = torch.optim.SGD(model.parameters(), lr=0.001, momentum=0.9)\n",
    "    epoch_losses = []\n",
    "\n",
    "    alphas = [1, 1, 1]\n",
    "    for epoch in range(num_epochs):\n",
    "        if epoch % (int)(num_epochs * 0.1) == 0:\n",
    "            print(f\"EPOCH {epoch}\")\n",
    "\n",
    "        alphas = [a * 0.1 * (1 - epoch / num_epochs) for a in alphas]\n",
    "        opt.zero_grad()\n",
    "        L = global_loss(model(X_train), Y_train, alphas)\n",
    "        L.backward()\n",
    "        opt.step()\n",
    "\n",
    "        epoch_losses.append(L.item())\n",
    "        #print(L.item())\n",
    "    \n",
    "    plt.plot(epoch_losses[1:])\n",
    "    plt.title(\"Train Set Loss\")\n",
    "    plt.ylabel('Loss')\n",
    "    plt.xlabel('Epoch #')\n",
    "    plt.show()\n",
    "    \n",
    "    return epoch_losses"
   ]
  },
  {
   "cell_type": "code",
   "execution_count": 598,
   "metadata": {},
   "outputs": [
    {
     "name": "stdout",
     "output_type": "stream",
     "text": [
      "EPOCH 0\n",
      "norms:  tensor(0.0015) tensor(0.0010)\n",
      "norms:  tensor(0.0011) tensor(0.0012)\n",
      "norms:  tensor(0.0017) tensor(0.0011)\n",
      "norms:  tensor(0.0015) tensor(0.0013)\n",
      "norms:  tensor(0.0016) tensor(0.0015)\n",
      "norms:  tensor(0.0007) tensor(0.0015)\n",
      "norms:  tensor(0.0014) tensor(0.0012)\n",
      "norms:  tensor(0.0016) tensor(0.0011)\n",
      "norms:  tensor(0.0016) tensor(0.0016)\n",
      "norms:  tensor(0.0021) tensor(0.0012)\n",
      "EPOCH 10\n",
      "norms:  tensor(0.0013) tensor(0.0017)\n",
      "norms:  tensor(0.0014) tensor(0.0015)\n",
      "norms:  tensor(0.0016) tensor(0.0015)\n",
      "norms:  tensor(0.0014) tensor(0.0015)\n",
      "norms:  tensor(0.0013) tensor(0.0010)\n",
      "norms:  tensor(0.0015) tensor(0.0013)\n",
      "norms:  tensor(0.0021) tensor(0.0012)\n",
      "norms:  tensor(0.0015) tensor(0.0012)\n",
      "norms:  tensor(0.0015) tensor(0.0015)\n",
      "norms:  tensor(0.0014) tensor(0.0011)\n",
      "EPOCH 20\n",
      "norms:  tensor(0.0015) tensor(0.0016)\n",
      "norms:  tensor(0.0009) tensor(0.0010)\n",
      "norms:  tensor(0.0017) tensor(0.0008)\n",
      "norms:  tensor(0.0016) tensor(0.0015)\n",
      "norms:  tensor(0.0015) tensor(0.0011)\n",
      "norms:  tensor(0.0016) tensor(0.0016)\n",
      "norms:  tensor(0.0017) tensor(0.0010)\n",
      "norms:  tensor(0.0014) tensor(0.0009)\n",
      "norms:  tensor(0.0014) tensor(0.0014)\n",
      "norms:  tensor(0.0015) tensor(0.0014)\n",
      "EPOCH 30\n",
      "norms:  tensor(0.0017) tensor(0.0015)\n",
      "norms:  tensor(0.0016) tensor(0.0011)\n",
      "norms:  tensor(0.0019) tensor(0.0012)\n",
      "norms:  tensor(0.0017) tensor(0.0011)\n",
      "norms:  tensor(0.0020) tensor(0.0012)\n",
      "norms:  tensor(0.0013) tensor(0.0012)\n",
      "norms:  tensor(0.0016) tensor(0.0017)\n",
      "norms:  tensor(0.0013) tensor(0.0017)\n",
      "norms:  tensor(0.0014) tensor(0.0011)\n",
      "norms:  tensor(0.0013) tensor(0.0012)\n",
      "EPOCH 40\n",
      "norms:  tensor(0.0017) tensor(0.0012)\n",
      "norms:  tensor(0.0014) tensor(0.0012)\n",
      "norms:  tensor(0.0016) tensor(0.0009)\n",
      "norms:  tensor(0.0012) tensor(0.0014)\n",
      "norms:  tensor(0.0015) tensor(0.0015)\n",
      "norms:  tensor(0.0011) tensor(0.0014)\n",
      "norms:  tensor(0.0016) tensor(0.0009)\n",
      "norms:  tensor(0.0010) tensor(0.0012)\n",
      "norms:  tensor(0.0016) tensor(0.0012)\n",
      "norms:  tensor(0.0017) tensor(0.0010)\n",
      "EPOCH 50\n",
      "norms:  tensor(0.0017) tensor(0.0016)\n",
      "norms:  tensor(0.0014) tensor(0.0012)\n",
      "norms:  tensor(0.0019) tensor(0.0014)\n",
      "norms:  tensor(0.0018) tensor(0.0013)\n",
      "norms:  tensor(0.0014) tensor(0.0012)\n",
      "norms:  tensor(0.0016) tensor(0.0015)\n",
      "norms:  tensor(0.0013) tensor(0.0013)\n",
      "norms:  tensor(0.0017) tensor(0.0009)\n",
      "norms:  tensor(0.0016) tensor(0.0006)\n",
      "norms:  tensor(0.0015) tensor(0.0009)\n",
      "EPOCH 60\n",
      "norms:  tensor(0.0018) tensor(0.0010)\n",
      "norms:  tensor(0.0013) tensor(0.0012)\n",
      "norms:  tensor(0.0009) tensor(0.0011)\n",
      "norms:  tensor(0.0010) tensor(0.0017)\n",
      "norms:  tensor(0.0012) tensor(0.0008)\n",
      "norms:  tensor(0.0012) tensor(0.0013)\n",
      "norms:  tensor(0.0016) tensor(0.0012)\n",
      "norms:  tensor(0.0016) tensor(0.0014)\n",
      "norms:  tensor(0.0017) tensor(0.0013)\n",
      "norms:  tensor(0.0017) tensor(0.0012)\n",
      "EPOCH 70\n",
      "norms:  tensor(0.0015) tensor(0.0014)\n",
      "norms:  tensor(0.0013) tensor(0.0015)\n",
      "norms:  tensor(0.0010) tensor(0.0010)\n",
      "norms:  tensor(0.0017) tensor(0.0014)\n",
      "norms:  tensor(0.0014) tensor(0.0013)\n",
      "norms:  tensor(0.0013) tensor(0.0013)\n",
      "norms:  tensor(0.0015) tensor(0.0010)\n",
      "norms:  tensor(0.0013) tensor(0.0012)\n",
      "norms:  tensor(0.0017) tensor(0.0015)\n",
      "norms:  tensor(0.0018) tensor(0.0012)\n",
      "EPOCH 80\n",
      "norms:  tensor(0.0015) tensor(0.0013)\n",
      "norms:  tensor(0.0018) tensor(0.0012)\n",
      "norms:  tensor(0.0013) tensor(0.0012)\n",
      "norms:  tensor(0.0015) tensor(0.0011)\n",
      "norms:  tensor(0.0013) tensor(0.0013)\n",
      "norms:  tensor(0.0016) tensor(0.0012)\n",
      "norms:  tensor(0.0014) tensor(0.0016)\n",
      "norms:  tensor(0.0016) tensor(0.0015)\n",
      "norms:  tensor(0.0014) tensor(0.0011)\n",
      "norms:  tensor(0.0013) tensor(0.0014)\n",
      "EPOCH 90\n",
      "norms:  tensor(0.0011) tensor(0.0015)\n",
      "norms:  tensor(0.0013) tensor(0.0012)\n",
      "norms:  tensor(0.0016) tensor(0.0008)\n",
      "norms:  tensor(0.0018) tensor(0.0012)\n",
      "norms:  tensor(0.0014) tensor(0.0016)\n",
      "norms:  tensor(0.0019) tensor(0.0013)\n",
      "norms:  tensor(0.0015) tensor(0.0015)\n",
      "norms:  tensor(0.0015) tensor(0.0012)\n",
      "norms:  tensor(0.0016) tensor(0.0010)\n",
      "norms:  tensor(0.0015) tensor(0.0009)\n"
     ]
    },
    {
     "data": {
      "image/png": "[encoded data removed]",
      "text/plain": [
       "<Figure size 432x288 with 1 Axes>"
      ]
     },
     "metadata": {
      "needs_background": "light"
     },
     "output_type": "display_data"
    },
    {
     "data": {
      "text/plain": [
       "[901299904.0,\n",
       " 7954942976.0,\n",
       " 33659027456.0,\n",
       " 1254317312.0,\n",
       " 2530791680.0,\n",
       " 9348844544.0,\n",
       " 38917566464.0,\n",
       " 68292087808.0,\n",
       " 27251898.0,\n",
       " 82157993984.0,\n",
       " 2285586176.0,\n",
       " 41641756.0,\n",
       " 41826516.0,\n",
       " 6712107520.0,\n",
       " 929755968.0,\n",
       " 9368778752.0,\n",
       " 83928530944.0,\n",
       " 735158848.0,\n",
       " 305258368.0,\n",
       " 1196543488.0,\n",
       " 1360532864.0,\n",
       " 1096101888.0,\n",
       " 5297585664.0,\n",
       " 66124939264.0,\n",
       " 577313984.0,\n",
       " 10816177152.0,\n",
       " 21757052928.0,\n",
       " 1527238400.0,\n",
       " 15886496768.0,\n",
       " 84915056.0,\n",
       " 32974399488.0,\n",
       " 323823904.0,\n",
       " 35124195328.0,\n",
       " 22438402048.0,\n",
       " 10444791808.0,\n",
       " 4096792064.0,\n",
       " 2855321856.0,\n",
       " 267784656.0,\n",
       " 3200568320.0,\n",
       " 22490982.0,\n",
       " 760054272.0,\n",
       " 1475850624.0,\n",
       " 85172408.0,\n",
       " 39965343744.0,\n",
       " 15660185600.0,\n",
       " 281322592.0,\n",
       " 3897341440.0,\n",
       " 1561598592.0,\n",
       " 10893573120.0,\n",
       " 4566226432.0,\n",
       " 37896785920.0,\n",
       " 1939357440.0,\n",
       " 181009280.0,\n",
       " 36492574720.0,\n",
       " 17337321472.0,\n",
       " 45558861824.0,\n",
       " 268303216.0,\n",
       " 916437120.0,\n",
       " 24206307328.0,\n",
       " 635409600.0,\n",
       " 1053409024.0,\n",
       " 17578906.0,\n",
       " 244637424.0,\n",
       " 158752192.0,\n",
       " 19182470.0,\n",
       " 5775801856.0,\n",
       " 6863844352.0,\n",
       " 299420096.0,\n",
       " 3242581248.0,\n",
       " 1626157568.0,\n",
       " 281687776.0,\n",
       " 40826064.0,\n",
       " 1418967680.0,\n",
       " 4651950592.0,\n",
       " 11754938368.0,\n",
       " 4134431744.0,\n",
       " 818562944.0,\n",
       " 2607894016.0,\n",
       " 1691687552.0,\n",
       " 14506889216.0,\n",
       " 14618952704.0,\n",
       " 17966088192.0,\n",
       " 847737472.0,\n",
       " 4772676608.0,\n",
       " 4375504384.0,\n",
       " 779813248.0,\n",
       " 272716832.0,\n",
       " 190116432.0,\n",
       " 8348605440.0,\n",
       " 6572363776.0,\n",
       " 1275007104.0,\n",
       " 2778127616.0,\n",
       " 2393934336.0,\n",
       " 9318661120.0,\n",
       " 24417667072.0,\n",
       " 4024791296.0,\n",
       " 63816220.0,\n",
       " 17134231552.0,\n",
       " 3718064896.0,\n",
       " 1343645696.0]"
      ]
     },
     "execution_count": 598,
     "metadata": {},
     "output_type": "execute_result"
    }
   ],
   "source": [
    "train()"
   ]
  },
  {
   "cell_type": "markdown",
   "metadata": {},
   "source": [
    "### Testing code"
   ]
  },
  {
   "cell_type": "code",
   "execution_count": 602,
   "metadata": {},
   "outputs": [
    {
     "name": "stdout",
     "output_type": "stream",
     "text": [
      "norms:  tensor(0.0018) tensor(0.0015)\n"
     ]
    },
    {
     "data": {
      "text/plain": [
       "tensor(7.6783e+09, grad_fn=<AddBackward0>)"
      ]
     },
     "execution_count": 602,
     "metadata": {},
     "output_type": "execute_result"
    }
   ],
   "source": [
    "# test loss\n",
    "\n",
    "f1, f2, f3, svm1, svm2, svm3 = model(X_train)\n",
    "\n",
    "loss_1 = companion_loss(f1, svm1, Y_train)\n",
    "loss_2 = companion_loss(f2, svm2, Y_train)\n",
    "loss_3 = companion_loss(f3, svm3, Y_train)\n",
    "\n",
    "global_loss(model(X_train), Y_train, alphas=[0.1, 0.2, 0.3])"
   ]
  },
  {
   "cell_type": "code",
   "execution_count": 458,
   "metadata": {},
   "outputs": [
    {
     "name": "stdout",
     "output_type": "stream",
     "text": [
      "torch.Size([1, 9]) torch.Size([1, 3]) torch.Size([1, 9])\n",
      "tensor([[  0.,  -1.,   2.],\n",
      "        [  0.,  -2.,   4.],\n",
      "        [  0.,  -3.,   6.],\n",
      "        [  0.,  -4.,   8.],\n",
      "        [  0.,  -5.,  10.],\n",
      "        [  0.,  -6.,  12.],\n",
      "        [  0.,  -7.,  14.],\n",
      "        [  0.,  -8.,  16.],\n",
      "        [  0., -10.,  20.]]) torch.Size([9, 3])\n",
      "tensor([[  0.,  -1.,   2.],\n",
      "        [  0.,  -2.,   4.],\n",
      "        [  0.,  -3.,   6.],\n",
      "        [  0.,  -4.,   8.],\n",
      "        [  0.,  -5.,  10.],\n",
      "        [  0.,  -6.,  12.],\n",
      "        [  0.,  -7.,  14.],\n",
      "        [  0.,  -8.,  16.],\n",
      "        [  0., -10.,  20.]])\n"
     ]
    },
    {
     "data": {
      "text/plain": [
       "tensor([   0.,    0., 1216.])"
      ]
     },
     "execution_count": 458,
     "metadata": {},
     "output_type": "execute_result"
    }
   ],
   "source": [
    "a = torch.Tensor([1, 2, 3, 4, 5, 6, 7, 8, 10])\n",
    "a = torch.unsqueeze(a, dim=0)\n",
    "\n",
    "true = torch.ones(a.shape)\n",
    "\n",
    "f = torch.Tensor([0, -1, 2])\n",
    "f = torch.unsqueeze(f, dim=0)\n",
    "\n",
    "print(a.shape, f.shape, true.shape)\n",
    "\n",
    "m = (a.T @ f)\n",
    "\n",
    "print(m, m.shape)\n",
    "\n",
    "print(1 - (true.T - m))\n",
    "\n",
    "sum(torch.nn.functional.relu(1 - (true.T - m))**2)"
   ]
  },
  {
   "cell_type": "code",
   "execution_count": 455,
   "metadata": {},
   "outputs": [
    {
     "name": "stdout",
     "output_type": "stream",
     "text": [
      "tensor(17.4356)\n",
      "tensor([[ 1.,  2.,  3.,  4.,  5.,  6.,  7.,  8., 10.]])\n"
     ]
    }
   ],
   "source": [
    "print(torch.norm(a))\n",
    "print(a)"
   ]
  },
  {
   "cell_type": "code",
   "execution_count": 459,
   "metadata": {},
   "outputs": [
    {
     "name": "stdout",
     "output_type": "stream",
     "text": [
      "torch.Size([9, 1]) torch.Size([9, 3])\n",
      "tensor([[ 1.],\n",
      "        [ 2.],\n",
      "        [ 3.],\n",
      "        [ 4.],\n",
      "        [ 5.],\n",
      "        [ 6.],\n",
      "        [ 7.],\n",
      "        [ 8.],\n",
      "        [10.]])\n",
      "tensor([[ 1.,  1.,  1.],\n",
      "        [ 2.,  2.,  2.],\n",
      "        [ 3.,  3.,  3.],\n",
      "        [ 4.,  4.,  4.],\n",
      "        [ 5.,  5.,  5.],\n",
      "        [ 6.,  6.,  6.],\n",
      "        [ 7.,  7.,  7.],\n",
      "        [ 8.,  8.,  8.],\n",
      "        [10., 10., 10.]])\n",
      "tensor([[  1.,   1.,   1.],\n",
      "        [  4.,   4.,   4.],\n",
      "        [  9.,   9.,   9.],\n",
      "        [ 16.,  16.,  16.],\n",
      "        [ 25.,  25.,  25.],\n",
      "        [ 36.,  36.,  36.],\n",
      "        [ 49.,  49.,  49.],\n",
      "        [ 64.,  64.,  64.],\n",
      "        [100., 100., 100.]])\n"
     ]
    }
   ],
   "source": [
    "j = torch.cat([a] * 3, dim=0) #.squeeze(dim=1)\n",
    "\n",
    "print(a.T.shape, j.T.shape)\n",
    "\n",
    "print(a.T)\n",
    "print(j.T)\n",
    "print(a.T * j.T)"
   ]
  },
  {
   "cell_type": "code",
   "execution_count": 460,
   "metadata": {},
   "outputs": [
    {
     "name": "stdout",
     "output_type": "stream",
     "text": [
      "torch.Size([1, 3])\n"
     ]
    },
    {
     "data": {
      "text/plain": [
       "tensor([[-3.5995e+09, -7.1990e+09],\n",
       "        [-4.6115e+09, -9.2229e+09],\n",
       "        [-1.0095e+10, -2.0191e+10],\n",
       "        ...,\n",
       "        [-3.0495e+09, -6.0990e+09],\n",
       "        [-3.0662e+09, -6.1324e+09],\n",
       "        [-4.7045e+09, -9.4091e+09]], grad_fn=<MmBackward0>)"
      ]
     },
     "execution_count": 460,
     "metadata": {},
     "output_type": "execute_result"
    }
   ],
   "source": [
    "svm_w = torch.randn(f1.shape[1])\n",
    "\n",
    "g = f1 @ svm_w\n",
    "g = torch.unsqueeze(g, dim=0).T\n",
    "\n",
    "print(torch.unsqueeze(torch.Tensor([1, 2, 3]), dim=0).shape)\n",
    "\n",
    "g @ torch.unsqueeze(torch.Tensor([1, 2]), dim=0)"
   ]
  },
  {
   "cell_type": "code",
   "execution_count": 596,
   "metadata": {},
   "outputs": [
    {
     "name": "stdout",
     "output_type": "stream",
     "text": [
      "tensor([[ 0.2729,  0.6006, -1.0398,  ..., -1.3764, -0.0181,  1.2899],\n",
      "        [-0.6619,  1.7155,  0.6828,  ...,  0.9750,  1.2621,  0.8714],\n",
      "        [-1.2249,  0.1158,  0.3892,  ..., -0.3131, -2.3804,  1.4633],\n",
      "        ...,\n",
      "        [-1.5346, -0.2088, -0.1406,  ..., -1.7168, -1.1358,  0.0471],\n",
      "        [ 0.8725,  0.7688, -0.9170,  ..., -0.0053,  0.7168,  0.7663],\n",
      "        [ 1.4065,  0.4206,  0.5572,  ...,  0.0384,  1.0939, -1.8568]])\n",
      "torch.Size([9, 5]) torch.Size([9, 5]) torch.Size([9, 7])\n",
      "tensor([[5.5009e-01, 0.0000e+00, 0.0000e+00, 2.4173e+00, 8.9588e-01],\n",
      "        [9.5940e-01, 0.0000e+00, 0.0000e+00, 0.0000e+00, 2.1044e-03],\n",
      "        [0.0000e+00, 4.6178e-01, 3.1330e-01, 7.4526e-01, 6.1229e-01],\n",
      "        [1.3101e+00, 5.0964e-02, 0.0000e+00, 7.9191e-01, 8.7336e-01],\n",
      "        [0.0000e+00, 7.7665e-01, 6.6595e-01, 0.0000e+00, 5.7977e-01],\n",
      "        [0.0000e+00, 0.0000e+00, 0.0000e+00, 0.0000e+00, 1.9455e-01],\n",
      "        [2.5700e-02, 0.0000e+00, 0.0000e+00, 3.9999e-02, 0.0000e+00],\n",
      "        [4.6324e-01, 1.1718e-01, 1.6562e-01, 7.1953e-02, 2.8729e-01],\n",
      "        [0.0000e+00, 0.0000e+00, 5.9582e-01, 0.0000e+00, 0.0000e+00]],\n",
      "       grad_fn=<ReluBackward0>) \n",
      " tensor([0.7665, 0.7394, 0.5660, 0.7382, 0.3200])\n",
      "tensor([-3.1214,  0.6351, -1.0217, -1.3959,  0.1852, -0.3947, -0.0105, -0.0602,\n",
      "         0.5334], grad_fn=<MvBackward0>)\n"
     ]
    }
   ],
   "source": [
    "# testing \n",
    "m = nn.Linear(20, 30)\n",
    "input = torch.randn(128, 20)\n",
    "print(input)\n",
    "\n",
    "test = Network()\n",
    "inp = torch.randn(9,34)\n",
    "a, b, c, d, e, f = test(inp)\n",
    "print(a.shape, b.shape, c.shape)\n",
    "\n",
    "#print(nn.init_kaiming_normal_(torch.empty((b.shape[1]))).shape)\n",
    "print(a, \"\\n\", torch.rand(5))\n",
    "print(a @ torch.randn(5))\n"
   ]
  }
 ],
 "metadata": {
  "interpreter": {
   "hash": "a209b2a29af6db15caeb87b5a469aa1eed57ecd42970a9baa7e0ed0c9978c8fe"
  },
  "kernelspec": {
   "display_name": "Python 3.9.7 ('base')",
   "language": "python",
   "name": "python3"
  },
  "language_info": {
   "codemirror_mode": {
    "name": "ipython",
    "version": 3
   },
   "file_extension": ".py",
   "mimetype": "text/x-python",
   "name": "python",
   "nbconvert_exporter": "python",
   "pygments_lexer": "ipython3",
   "version": "3.9.7"
  },
  "orig_nbformat": 4
 },
 "nbformat": 4,
 "nbformat_minor": 2
}

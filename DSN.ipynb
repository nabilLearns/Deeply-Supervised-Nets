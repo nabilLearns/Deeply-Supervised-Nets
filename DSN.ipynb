{
  "cells": [
    {
      "cell_type": "markdown",
      "metadata": {
        "id": "view-in-github",
        "colab_type": "text"
      },
      "source": [
        "<a href=\"https://colab.research.google.com/github/nabilLearns/Deeply-Supervised-Nets/blob/master/DSN.ipynb\" target=\"_parent\"><img src=\"https://colab.research.google.com/assets/colab-badge.svg\" alt=\"Open In Colab\"/></a>"
      ]
    },
    {
      "cell_type": "markdown",
      "metadata": {
        "id": "Gbvky9ZVdo2d"
      },
      "source": [
        "## Get required modules"
      ]
    },
    {
      "cell_type": "code",
      "execution_count": null,
      "metadata": {
        "id": "vvJnbzFydo2j"
      },
      "outputs": [],
      "source": [
        "import torch\n",
        "import torch.nn as nn\n",
        "import torchvision\n",
        "import pandas as pd\n",
        "import matplotlib.pyplot as plt\n",
        "import os"
      ]
    },
    {
      "cell_type": "code",
      "execution_count": null,
      "metadata": {
        "id": "FADrox9pdo2l"
      },
      "outputs": [],
      "source": [
        "!pip --quiet install wget"
      ]
    },
    {
      "cell_type": "code",
      "execution_count": null,
      "metadata": {
        "id": "Q-Zg4uSido2n",
        "outputId": "cc90e247-4829-46d9-e539-80dd536da8f9"
      },
      "outputs": [
        {
          "name": "stdout",
          "output_type": "stream",
          "text": [
            "/home/nabil/Documents/Code/Data_Classification\n",
            "/home/nabil/Documents/Code/Data_Classification/DateData\n"
          ]
        }
      ],
      "source": [
        "#import os\n",
        "#os.path.join(os.getcwd()\n",
        "print(os.getcwd())\n",
        "print(os.path.join(os.getcwd(), 'DateData'))"
      ]
    },
    {
      "cell_type": "markdown",
      "metadata": {
        "id": "i1PP5zEddo2p"
      },
      "source": [
        "## Download Dataset"
      ]
    },
    {
      "cell_type": "code",
      "execution_count": null,
      "metadata": {
        "id": "I_TDQb-4do2p"
      },
      "outputs": [],
      "source": [
        "# Download dataset in an .arff final into current working directory\n",
        "\n",
        "import wget, requests, io, os, shutil\n",
        "from zipfile import ZipFile\n",
        "\n",
        "data_url = \"https://www.muratkoklu.com/datasets/vtdhnd06.php\"\n",
        "req = requests.get(data_url)\n",
        "zip_file = ZipFile(io.BytesIO(req.content))\n",
        "path = os.path.join(os.getcwd())\n",
        "zip_file.extractall(path)\n",
        "\n",
        "shutil.move(os.path.join(os.getcwd(),'Date_Fruit_Datasets/Date_Fruit_Datasets.arff'), os.path.join(os.getcwd(), 'Date_Fruit_Datasets.arff'))\n",
        "shutil.rmtree(os.path.join(os.getcwd(),'Date_Fruit_Datasets'))\n"
      ]
    },
    {
      "cell_type": "code",
      "execution_count": null,
      "metadata": {
        "id": "CIe7bnqrdo2r",
        "outputId": "d6fda7c2-b7a4-4508-dbb9-49a80cb54d32"
      },
      "outputs": [
        {
          "name": "stdout",
          "output_type": "stream",
          "text": [
            "['Date_Fruit_Datasets.arff']\n"
          ]
        }
      ],
      "source": [
        "# Python script that converts .arff to .csv (not mine)\n",
        "# Source: https://github.com/haloboy777/arfftocsv/blob/master/arffToCsv.py\n",
        "\n",
        "#########################################\n",
        "# Project   : ARFF to CSV converter     #\n",
        "# Created   : 10/01/17 11:08:06         #\n",
        "# Author    : haloboy777                #\n",
        "# Licence   : MIT                       #\n",
        "#########################################\n",
        "\n",
        "# Importing library\n",
        "import os\n",
        "\n",
        "# Getting all the arff files from the current directory\n",
        "files = [arff for arff in os.listdir('.') if arff.endswith(\".arff\")]\n",
        "print(files)\n",
        "\n",
        "# Function for converting arff list to csv list\n",
        "def toCsv(text):\n",
        "    data = False\n",
        "    header = \"\"\n",
        "    new_content = []\n",
        "    for line in text:\n",
        "        if not data:\n",
        "            if \"@ATTRIBUTE\" in line or \"@attribute\" in line:\n",
        "                attributes = line.split()\n",
        "                if(\"@attribute\" in line):\n",
        "                    attri_case = \"@attribute\"\n",
        "                else:\n",
        "                    attri_case = \"@ATTRIBUTE\"\n",
        "                column_name = attributes[attributes.index(attri_case) + 1]\n",
        "                header = header + column_name + \",\"\n",
        "            elif \"@DATA\" in line or \"@data\" in line:\n",
        "                data = True\n",
        "                header = header[:-1]\n",
        "                header += '\\n'\n",
        "                new_content.append(header)\n",
        "        else:\n",
        "            new_content.append(line)\n",
        "    return new_content\n",
        "\n",
        "\n",
        "# Main loop for reading and writing files\n",
        "for file in files:\n",
        "    with open(file, \"r\") as inFile:\n",
        "        content = inFile.readlines()\n",
        "        name, ext = os.path.splitext(inFile.name)\n",
        "        new = toCsv(content)\n",
        "        with open(name + \".csv\", \"w\") as outFile:\n",
        "            outFile.writelines(new)"
      ]
    },
    {
      "cell_type": "markdown",
      "metadata": {
        "id": "8H9lgH6pdo2u"
      },
      "source": [
        "## Preprocess Data"
      ]
    },
    {
      "cell_type": "code",
      "execution_count": null,
      "metadata": {
        "id": "5HrMwJDVdo2v",
        "outputId": "a59bb8a4-33f5-4aa2-e564-bade82144ef1"
      },
      "outputs": [
        {
          "name": "stdout",
          "output_type": "stream",
          "text": [
            "     AREA  PERIMETER  MAJOR_AXIS  MINOR_AXIS  ECCENTRICITY   EQDIASQ  \\\n",
            "0  422163   2378.908    837.8484    645.6693        0.6373  733.1539   \n",
            "1  338136   2085.144    723.8198    595.2073        0.5690  656.1464   \n",
            "2  526843   2647.394    940.7379    715.3638        0.6494  819.0222   \n",
            "3  416063   2351.210    827.9804    645.2988        0.6266  727.8378   \n",
            "4  347562   2160.354    763.9877    582.8359        0.6465  665.2291   \n",
            "\n",
            "   SOLIDITY  CONVEX_AREA  EXTENT  ASPECT_RATIO  ...  KurtosisRR  KurtosisRG  \\\n",
            "0    0.9947       424428  0.7831        1.2976  ...      3.2370      2.9574   \n",
            "1    0.9974       339014  0.7795        1.2161  ...      2.6228      2.6350   \n",
            "2    0.9962       528876  0.7657        1.3150  ...      3.7516      3.8611   \n",
            "3    0.9948       418255  0.7759        1.2831  ...      5.0401      8.6136   \n",
            "4    0.9908       350797  0.7569        1.3108  ...      2.7016      2.9761   \n",
            "\n",
            "   KurtosisRB    EntropyRR    EntropyRG    EntropyRB  ALLdaub4RR  ALLdaub4RG  \\\n",
            "0      4.2287 -59191263232 -50714214400 -39922372608     58.7255     54.9554   \n",
            "1      3.1704 -34233065472 -37462601728 -31477794816     50.0259     52.8168   \n",
            "2      4.7192 -93948354560 -74738221056 -60311207936     65.4772     59.2860   \n",
            "3      8.2618 -32074307584 -32060925952 -29575010304     43.3900     44.1259   \n",
            "4      4.4146 -39980974080 -35980042240 -25593278464     52.7743     50.9080   \n",
            "\n",
            "   ALLdaub4RB  Class  \n",
            "0     47.8400  BERHI  \n",
            "1     47.8315  BERHI  \n",
            "2     51.9378  BERHI  \n",
            "3     41.1882  BERHI  \n",
            "4     42.6666  BERHI  \n",
            "\n",
            "[5 rows x 35 columns]\n"
          ]
        }
      ],
      "source": [
        "data = pd.read_csv(\"Date_Fruit_Datasets.csv\")\n",
        "print(data.head())"
      ]
    },
    {
      "cell_type": "markdown",
      "metadata": {
        "id": "6CbdTMKFdo2x"
      },
      "source": [
        "### Generate train/val/test data splits"
      ]
    },
    {
      "cell_type": "code",
      "execution_count": null,
      "metadata": {
        "id": "VkQMv1ycdo2y",
        "outputId": "f390b150-6629-46ff-d8a4-0c6c1d67d254"
      },
      "outputs": [
        {
          "name": "stdout",
          "output_type": "stream",
          "text": [
            "[1 2 3 4 5 6 7]\n",
            "<class 'pandas.core.frame.DataFrame'> (52, 35)\n",
            "<class 'pandas.core.frame.DataFrame'> (78, 35)\n",
            "<class 'pandas.core.frame.DataFrame'> (163, 35)\n",
            "<class 'pandas.core.frame.DataFrame'> (57, 35)\n",
            "<class 'pandas.core.frame.DataFrame'> (132, 35)\n",
            "<class 'pandas.core.frame.DataFrame'> (159, 35)\n",
            "<class 'pandas.core.frame.DataFrame'> (75, 35)\n",
            "7\n"
          ]
        }
      ],
      "source": [
        "# Generate train/val/test data splits\n",
        "\n",
        "#print(data.info())\n",
        "#print(data['Class'].unique())\n",
        "\n",
        "data['Class'] = data['Class'].astype('category').cat.codes + 1\n",
        "print(data['Class'].unique())\n",
        "train, val, test = {}, {}, {}\n",
        "for date_type in data['Class'].unique(): #['DOKOL']\n",
        "\n",
        "    num_examples = data[data['Class'] == date_type].shape[0]\n",
        "    data[data['Class'] == date_type] = data[data['Class'] == date_type].sample(frac=1, random_state=42)\n",
        "\n",
        "    train[date_type] = data[data['Class'] == date_type].reset_index().drop(columns=['index']).iloc[0:int(num_examples*0.8)]#.values\n",
        "    val[date_type] = data[data['Class'] == date_type].reset_index().drop(columns=['index']).iloc[int(num_examples*0.8):int(num_examples*0.9)]#.values\n",
        "    test[date_type] = data[data['Class'] == date_type].reset_index().drop(columns=['index']).iloc[int(num_examples*0.9):]#.values\n",
        "\n",
        "    print(type(train[date_type]), train[date_type].shape)\n",
        "\n",
        "#print(len(train))\n",
        "train, val, test = [pd.concat(split).sample(frac=1, random_state=1).reset_index(drop=True) for split in [train, val, test]]"
      ]
    },
    {
      "cell_type": "markdown",
      "metadata": {
        "id": "h8UU8OSMdo20"
      },
      "source": [
        "### Get data and label tensors from each dataframe split"
      ]
    },
    {
      "cell_type": "code",
      "execution_count": null,
      "metadata": {
        "id": "5nlbCfuado20"
      },
      "outputs": [],
      "source": [
        "# Get data and label tensors from each split dataframe\n",
        "\n",
        "X_train = torch.Tensor(train.values[:,:-1])\n",
        "Y_train = torch.Tensor(train.values[:,-1])\n",
        "\n",
        "X_val = torch.Tensor(val.values[:,:-1])\n",
        "Y_val = torch.Tensor(val.values[:,-1])\n",
        "\n",
        "X_test = torch.Tensor(test.values[:,:-1])\n",
        "Y_test = torch.Tensor(test.values[:,-1])"
      ]
    },
    {
      "cell_type": "code",
      "execution_count": null,
      "metadata": {
        "id": "yANy6omddo21",
        "outputId": "357f3bc3-e1cc-4790-e840-bab9a0f4c9b6"
      },
      "outputs": [
        {
          "data": {
            "text/plain": [
              "torch.Size([716, 34])"
            ]
          },
          "execution_count": 403,
          "metadata": {},
          "output_type": "execute_result"
        }
      ],
      "source": [
        "X_train.shape"
      ]
    },
    {
      "cell_type": "markdown",
      "metadata": {
        "id": "RUDshBRBdo22"
      },
      "source": [
        "## Define Model Architecture and Loss"
      ]
    },
    {
      "cell_type": "code",
      "execution_count": null,
      "metadata": {
        "id": "F__4wL7udo22"
      },
      "outputs": [],
      "source": [
        "# define model\n",
        "torch.manual_seed(0)\n",
        "\n",
        "def mlpconv(c_in, c_out, ks, stride):\n",
        "    \"\"\"\n",
        "    Part of an implementation of Network-in-Network. May use this in the future on a CV dataset.\n",
        "    \"\"\"\n",
        "    conv1 = nn.Conv2d(c_in, c_out, ks, stride)\n",
        "    conv2 = nn.Conv2d(c_out, c_out, ks=1)\n",
        "    conv3 = nn.Conv2d(c_out, c_out, ks=1)\n",
        "    layers = [conv1, nn.ReLU(), conv2, nn.ReLU(), conv3, nn.ReLU()]\n",
        "    return nn.Sequential(*layers)\n",
        "\n",
        "\n",
        "class Network(nn.Module):\n",
        "    def __init__(self, n_in=34, n_hidden=5, n_classes=7):#, ks, stride):\n",
        "        super(Network, self).__init__()\n",
        "        self.mapping1 = nn.Linear(n_in, n_hidden)\n",
        "        self.mapping2 = nn.Linear(n_hidden, n_hidden)\n",
        "        self.mapping3 = nn.Linear(n_hidden, n_classes)\n",
        "        self.relu = nn.ReLU()\n",
        "\n",
        "    def forward(self, x):\n",
        "        f_map1 = self.relu(self.mapping1(x))\n",
        "        f_map2 = self.relu(self.mapping2(f_map1))\n",
        "        f_map3 = self.mapping3(f_map2)\n",
        "\n",
        "        #svm_1 = torch.randn(f_map1.shape[1])\n",
        "        #svm_2 = torch.randn(f_map2.shape[1])\n",
        "        #svm_3 = torch.randn(f_map3.shape[1])\n",
        "\n",
        "        svm_1 = torch.empty(f_map1.shape[1])\n",
        "        nn.init.uniform_(svm_1, -0.001, 0.001)\n",
        "\n",
        "        svm_2 = torch.empty(f_map2.shape[1])\n",
        "        nn.init.uniform_(svm_2, -0.001, 0.001)\n",
        "\n",
        "        svm_3 = torch.empty(f_map3.shape[1])\n",
        "        nn.init.uniform_(svm_3, -0.001, 0.001)\n",
        "\n",
        "        return [f_map1, f_map2, f_map3, svm_1, svm_2, svm_3]\n",
        "\n",
        "\n",
        "def companion_loss(f_map, svm_w, t_labels, n_labels=7):\n",
        "    \"\"\"\n",
        "    Implements L2-SVM companion objective loss described by equations (4) and (5) of the \"Deeply Supervised Nets\" paper ([Gallagher et. al, 2014])\n",
        "\n",
        "    parameters\n",
        "    ----------\n",
        "    f_map: of shape (BATCH_SIZE x NUM_FEATURES)\n",
        "    svm_w: svm weights\n",
        "    t_labels: vector of labels\n",
        "    \"\"\"\n",
        "\n",
        "    loss = 0\n",
        "    all_labels = torch.arange(n_labels) + 1\n",
        "\n",
        "    f_labels = [all_labels[all_labels != t_labels[i]] for i in range(len(t_labels))] # f_labels.shape = (# examples, 6), each row has labels != t_label\n",
        "    f_labels = torch.stack(f_labels)\n",
        "\n",
        "    #print(f_map.shape, svm_w.shape, (f_map@svm_w).shape)\n",
        "    svm_pred = torch.unsqueeze(f_map @ svm_w, dim=0).T # torch.Size([716, 1])\n",
        "\n",
        "    # < w^(m), (Z^(m), y) >\n",
        "    true_label_svm = svm_pred * torch.unsqueeze(t_labels,dim=0).T # torch.Size([716, 1])\n",
        "    \n",
        "    # < w^(m), (Z^(m), y_k) > for all k\n",
        "    f_labels_svm = svm_pred * f_labels # torch.Size([716, 6])\n",
        "\n",
        "    #print(svm_pred.shape, true_label_svm.shape, f_labels_svm.shape, t_labels.shape)\n",
        "    loss = torch.sum(torch.nn.functional.relu(1 - (true_label_svm - f_labels_svm)))**2\n",
        "    \n",
        "    return loss #* 10e-5\n",
        "\n",
        "#global_loss = lambda data: torch.sum([companion_loss(f_map) for f_map in Network(data)])\n",
        "def global_loss(model_out: list, Y, alphas: list, gamma = 0.3):\n",
        "    \"\"\"\n",
        "    Return overall combined objective function as specified in eq. (3) of [Gallagher et. al, 2014]\n",
        "    \n",
        "    parameters\n",
        "    ----------\n",
        "    model_out: [f_map1, f_map2, f_map3, svm1, svm2, svm3]\n",
        "    alphas: list of alpha values (see eq. (3), and pg. 4 of [Gallagher et. al, 2014])\n",
        "    gamma: see pg. 4 of [Gallagher et. al, 2014]\n",
        "    \"\"\"\n",
        "\n",
        "    n_layers = len(model_out) // 2\n",
        "    companion_losses = [companion_loss(model_out[i], model_out[i+n_layers], Y) for i in range(n_layers)]\n",
        "    f_layer_loss = torch.norm(model_out[-1])**2 + companion_losses[-1]\n",
        "    modified_companion_losses = [alphas[i] * torch.nn.functional.relu(torch.norm(model_out[i])**2 + companion_losses[i] - gamma) for i in range(n_layers - 1)]\n",
        "    global_loss = f_layer_loss + sum(modified_companion_losses)\n",
        "    \n",
        "    #print(\"norms: \", torch.norm(model_out[-1]), torch.norm(model_out[-2]))\n",
        "    return global_loss\n",
        "    \n",
        "model = Network()"
      ]
    },
    {
      "cell_type": "markdown",
      "metadata": {
        "id": "FFY0pMemdo24"
      },
      "source": [
        "## Train"
      ]
    },
    {
      "cell_type": "code",
      "execution_count": null,
      "metadata": {
        "id": "fHAeQmDAdo25"
      },
      "outputs": [],
      "source": [
        "def train(num_epochs = 100):\n",
        "    opt = torch.optim.SGD(model.parameters(), lr=0.001, momentum=0.9)\n",
        "    epoch_losses = []\n",
        "\n",
        "    alphas = [1, 1, 1]\n",
        "    for epoch in range(num_epochs):\n",
        "        if epoch % (int)(num_epochs * 0.1) == 0:\n",
        "            print(f\"EPOCH {epoch}\")\n",
        "\n",
        "        alphas = [a * 0.1 * (1 - epoch / num_epochs) for a in alphas]\n",
        "        opt.zero_grad()\n",
        "        L = global_loss(model(X_train), Y_train, alphas)\n",
        "        L.backward()\n",
        "        opt.step()\n",
        "\n",
        "        epoch_losses.append(L.item())\n",
        "        #print(L.item())\n",
        "    \n",
        "    plt.plot(epoch_losses[1:])\n",
        "    plt.title(\"Train Set Loss\")\n",
        "    plt.ylabel('Loss')\n",
        "    plt.xlabel('Epoch #')\n",
        "    plt.show()\n",
        "    \n",
        "    return epoch_losses"
      ]
    },
    {
      "cell_type": "code",
      "execution_count": null,
      "metadata": {
        "id": "WQ8ntVaRdo26",
        "outputId": "a6a7316b-7bca-436d-904b-48e84a3f8a7c"
      },
      "outputs": [
        {
          "name": "stdout",
          "output_type": "stream",
          "text": [
            "EPOCH 0\n",
            "EPOCH 10\n",
            "EPOCH 20\n",
            "EPOCH 30\n",
            "EPOCH 40\n",
            "EPOCH 50\n",
            "EPOCH 60\n",
            "EPOCH 70\n",
            "EPOCH 80\n",
            "EPOCH 90\n"
          ]
        },
        {
          "data": {
            "image/png": "[encoded data removed]",
            "text/plain": [
              "<Figure size 432x288 with 1 Axes>"
            ]
          },
          "metadata": {
            "needs_background": "light"
          },
          "output_type": "display_data"
        },
        {
          "data": {
            "text/plain": [
              "[7.034716067644983e+21,\n",
              " 140412207104.0,\n",
              " 25985097400320.0,\n",
              " 247469774471168.0,\n",
              " 1231290753875968.0,\n",
              " 19216176513024.0,\n",
              " 3299276302057472.0,\n",
              " 186282098688.0,\n",
              " 508074666229760.0,\n",
              " 1022005453258752.0,\n",
              " 18992003547136.0,\n",
              " 553202927796224.0,\n",
              " 323296381894656.0,\n",
              " 154406171443200.0,\n",
              " 10394561150976.0,\n",
              " 28628085637120.0,\n",
              " 130579253166080.0,\n",
              " 364384186531840.0,\n",
              " 1779630997504.0,\n",
              " 2379412668416.0,\n",
              " 231071589335040.0,\n",
              " 6887480754176.0,\n",
              " 136027435958272.0,\n",
              " 380220538880.0,\n",
              " 27310723072.0,\n",
              " 81654047571968.0,\n",
              " 31827521699840.0,\n",
              " 45467509456896.0,\n",
              " 88527773630464.0,\n",
              " 126918204588032.0,\n",
              " 14148656168960.0,\n",
              " 14186411196416.0,\n",
              " 2977339801600.0,\n",
              " 45004588318720.0,\n",
              " 92299518279680.0,\n",
              " 65428307050496.0,\n",
              " 4466791153664.0,\n",
              " 20766217207808.0,\n",
              " 12867925442560.0,\n",
              " 1860400840704.0,\n",
              " 46195145703424.0,\n",
              " 135517077504.0,\n",
              " 151802230079488.0,\n",
              " 105547101634560.0,\n",
              " 22942740119552.0,\n",
              " 45712410673152.0,\n",
              " 114171084800.0,\n",
              " 287210864640.0,\n",
              " 51180180865024.0,\n",
              " 18575941173248.0,\n",
              " 9731542351872.0,\n",
              " 14424399872.0,\n",
              " 109607582171136.0,\n",
              " 238738259968.0,\n",
              " 10033753489408.0,\n",
              " 18173919232000.0,\n",
              " 90571934793728.0,\n",
              " 16386194669568.0,\n",
              " 11180695355392.0,\n",
              " 26338555904.0,\n",
              " 675599745024.0,\n",
              " 1040963993600.0,\n",
              " 8554079059968.0,\n",
              " 11910222184448.0,\n",
              " 70850787147776.0,\n",
              " 3899199586304.0,\n",
              " 27457862238208.0,\n",
              " 594220679168.0,\n",
              " 27071705088.0,\n",
              " 1122677161984.0,\n",
              " 5283590438912.0,\n",
              " 156097347584.0,\n",
              " 38306123776.0,\n",
              " 114433128923136.0,\n",
              " 5048357617664.0,\n",
              " 8410036174848.0,\n",
              " 122843045888.0,\n",
              " 22012034547712.0,\n",
              " 3801543606272.0,\n",
              " 2017122451456.0,\n",
              " 59717750784.0,\n",
              " 27659652300800.0,\n",
              " 1593770246144.0,\n",
              " 3480170004480.0,\n",
              " 3891717996544.0,\n",
              " 21181105176576.0,\n",
              " 991037161472.0,\n",
              " 36082200608768.0,\n",
              " 415762841600.0,\n",
              " 21087928713216.0,\n",
              " 557775978496.0,\n",
              " 7373553401856.0,\n",
              " 10813754368.0,\n",
              " 36864978944.0,\n",
              " 6552645271552.0,\n",
              " 1031300513792.0,\n",
              " 1351761657856.0,\n",
              " 98086206570496.0,\n",
              " 6747260977152.0,\n",
              " 717106446336.0]"
            ]
          },
          "execution_count": 607,
          "metadata": {},
          "output_type": "execute_result"
        }
      ],
      "source": [
        "train()"
      ]
    },
    {
      "cell_type": "markdown",
      "metadata": {
        "id": "on-yrJRrdo26"
      },
      "source": [
        "### Deprecated code for testing"
      ]
    },
    {
      "cell_type": "code",
      "execution_count": null,
      "metadata": {
        "id": "6VEzUXMVdo27",
        "outputId": "e21de702-95cf-4940-9cdc-583982554f5b"
      },
      "outputs": [
        {
          "data": {
            "text/plain": [
              "'\\nfor row in f_labels:\\n    svm_pred = torch.unsqueeze(f_map @ svm_w, dim=0).T # shape = (# examples, 1)\\n    row = torch.unsqueeze(row, dim=0) # shape = (1, 6)\\n    f_label_svms = svm_pred.long() @ row\\n    loss += torch.sum(torch.nn.functional.relu(1 - (true_label_svm.T - f_label_svms))**2)\\nreturn loss\\n    #true_label_svm = torch.unsqueeze((f_map @ svm_w) * t_labels, dim=0).T # torch.Size([716, 1]) \\n'"
            ]
          },
          "execution_count": 603,
          "metadata": {},
          "output_type": "execute_result"
        }
      ],
      "source": [
        "# Alternative ways we attempted to determine companion loss\n",
        "    \n",
        "\"\"\"\n",
        "deprecated code -- alternate ways I tried calculating loss\n",
        "i = 0\n",
        "for row in f_labels: # i.e. row = torch.Tensor([0, 2, 3, 4, 5, 6])\n",
        "    i += 1\n",
        "    if i % 10 == 0:\n",
        "        print(i)\n",
        "    for f_label in row:\n",
        "        # < w^(m), (Z^(m), y_k) >\n",
        "        f_label_svm = (f_map @ svm_w) * f_label\n",
        "\n",
        "        # max(0, 1 - (true_label_svm - f_label_svm))**2\n",
        "        loss += sum(torch.nn.functional.relu(1 - (true_label_svm - f_label_svm))**2)\n",
        "\"\"\"\n",
        "\n",
        "\"\"\"\n",
        "for row in f_labels:\n",
        "    svm_pred = torch.unsqueeze(f_map @ svm_w, dim=0).T # shape = (# examples, 1)\n",
        "    row = torch.unsqueeze(row, dim=0) # shape = (1, 6)\n",
        "    f_label_svms = svm_pred.long() @ row\n",
        "    loss += torch.sum(torch.nn.functional.relu(1 - (true_label_svm.T - f_label_svms))**2)\n",
        "return loss\n",
        "    #true_label_svm = torch.unsqueeze((f_map @ svm_w) * t_labels, dim=0).T # torch.Size([716, 1]) \n",
        "\"\"\"\n"
      ]
    },
    {
      "cell_type": "code",
      "execution_count": null,
      "metadata": {
        "id": "zCe7F-GGdo27",
        "outputId": "52dd0677-707e-412b-b053-1131222cf543"
      },
      "outputs": [
        {
          "name": "stdout",
          "output_type": "stream",
          "text": [
            "norms:  tensor(0.0018) tensor(0.0015)\n"
          ]
        },
        {
          "data": {
            "text/plain": [
              "tensor(7.6783e+09, grad_fn=<AddBackward0>)"
            ]
          },
          "execution_count": 602,
          "metadata": {},
          "output_type": "execute_result"
        }
      ],
      "source": [
        "# test loss\n",
        "\n",
        "f1, f2, f3, svm1, svm2, svm3 = model(X_train)\n",
        "\n",
        "loss_1 = companion_loss(f1, svm1, Y_train)\n",
        "loss_2 = companion_loss(f2, svm2, Y_train)\n",
        "loss_3 = companion_loss(f3, svm3, Y_train)\n",
        "\n",
        "global_loss(model(X_train), Y_train, alphas=[0.1, 0.2, 0.3])"
      ]
    },
    {
      "cell_type": "code",
      "execution_count": null,
      "metadata": {
        "id": "Mxr_G1ildo28",
        "outputId": "79c85e5c-ca63-4b4f-f3ba-eabfadbb1e3f"
      },
      "outputs": [
        {
          "name": "stdout",
          "output_type": "stream",
          "text": [
            "torch.Size([1, 9]) torch.Size([1, 3]) torch.Size([1, 9])\n",
            "tensor([[  0.,  -1.,   2.],\n",
            "        [  0.,  -2.,   4.],\n",
            "        [  0.,  -3.,   6.],\n",
            "        [  0.,  -4.,   8.],\n",
            "        [  0.,  -5.,  10.],\n",
            "        [  0.,  -6.,  12.],\n",
            "        [  0.,  -7.,  14.],\n",
            "        [  0.,  -8.,  16.],\n",
            "        [  0., -10.,  20.]]) torch.Size([9, 3])\n",
            "tensor([[  0.,  -1.,   2.],\n",
            "        [  0.,  -2.,   4.],\n",
            "        [  0.,  -3.,   6.],\n",
            "        [  0.,  -4.,   8.],\n",
            "        [  0.,  -5.,  10.],\n",
            "        [  0.,  -6.,  12.],\n",
            "        [  0.,  -7.,  14.],\n",
            "        [  0.,  -8.,  16.],\n",
            "        [  0., -10.,  20.]])\n"
          ]
        },
        {
          "data": {
            "text/plain": [
              "tensor([   0.,    0., 1216.])"
            ]
          },
          "execution_count": 458,
          "metadata": {},
          "output_type": "execute_result"
        }
      ],
      "source": [
        "a = torch.Tensor([1, 2, 3, 4, 5, 6, 7, 8, 10])\n",
        "a = torch.unsqueeze(a, dim=0)\n",
        "\n",
        "true = torch.ones(a.shape)\n",
        "\n",
        "f = torch.Tensor([0, -1, 2])\n",
        "f = torch.unsqueeze(f, dim=0)\n",
        "\n",
        "print(a.shape, f.shape, true.shape)\n",
        "\n",
        "m = (a.T @ f)\n",
        "\n",
        "print(m, m.shape)\n",
        "\n",
        "print(1 - (true.T - m))\n",
        "\n",
        "sum(torch.nn.functional.relu(1 - (true.T - m))**2)"
      ]
    },
    {
      "cell_type": "code",
      "execution_count": null,
      "metadata": {
        "id": "DBThM2LSdo28",
        "outputId": "f04ffcf8-64f9-43c2-a2bb-f05fdeb562f2"
      },
      "outputs": [
        {
          "name": "stdout",
          "output_type": "stream",
          "text": [
            "tensor(17.4356)\n",
            "tensor([[ 1.,  2.,  3.,  4.,  5.,  6.,  7.,  8., 10.]])\n"
          ]
        }
      ],
      "source": [
        "print(torch.norm(a))\n",
        "print(a)"
      ]
    },
    {
      "cell_type": "code",
      "execution_count": null,
      "metadata": {
        "id": "VAz5XoB-do29",
        "outputId": "a24743db-5866-4883-e4ec-906e912f996d"
      },
      "outputs": [
        {
          "name": "stdout",
          "output_type": "stream",
          "text": [
            "torch.Size([9, 1]) torch.Size([9, 3])\n",
            "tensor([[ 1.],\n",
            "        [ 2.],\n",
            "        [ 3.],\n",
            "        [ 4.],\n",
            "        [ 5.],\n",
            "        [ 6.],\n",
            "        [ 7.],\n",
            "        [ 8.],\n",
            "        [10.]])\n",
            "tensor([[ 1.,  1.,  1.],\n",
            "        [ 2.,  2.,  2.],\n",
            "        [ 3.,  3.,  3.],\n",
            "        [ 4.,  4.,  4.],\n",
            "        [ 5.,  5.,  5.],\n",
            "        [ 6.,  6.,  6.],\n",
            "        [ 7.,  7.,  7.],\n",
            "        [ 8.,  8.,  8.],\n",
            "        [10., 10., 10.]])\n",
            "tensor([[  1.,   1.,   1.],\n",
            "        [  4.,   4.,   4.],\n",
            "        [  9.,   9.,   9.],\n",
            "        [ 16.,  16.,  16.],\n",
            "        [ 25.,  25.,  25.],\n",
            "        [ 36.,  36.,  36.],\n",
            "        [ 49.,  49.,  49.],\n",
            "        [ 64.,  64.,  64.],\n",
            "        [100., 100., 100.]])\n"
          ]
        }
      ],
      "source": [
        "j = torch.cat([a] * 3, dim=0) #.squeeze(dim=1)\n",
        "\n",
        "print(a.T.shape, j.T.shape)\n",
        "\n",
        "print(a.T)\n",
        "print(j.T)\n",
        "print(a.T * j.T)"
      ]
    },
    {
      "cell_type": "code",
      "execution_count": null,
      "metadata": {
        "id": "0o2epN4xdo2-",
        "outputId": "6d4e7136-fe56-487e-d682-55dae74464b5"
      },
      "outputs": [
        {
          "name": "stdout",
          "output_type": "stream",
          "text": [
            "torch.Size([1, 3])\n"
          ]
        },
        {
          "data": {
            "text/plain": [
              "tensor([[-3.5995e+09, -7.1990e+09],\n",
              "        [-4.6115e+09, -9.2229e+09],\n",
              "        [-1.0095e+10, -2.0191e+10],\n",
              "        ...,\n",
              "        [-3.0495e+09, -6.0990e+09],\n",
              "        [-3.0662e+09, -6.1324e+09],\n",
              "        [-4.7045e+09, -9.4091e+09]], grad_fn=<MmBackward0>)"
            ]
          },
          "execution_count": 460,
          "metadata": {},
          "output_type": "execute_result"
        }
      ],
      "source": [
        "svm_w = torch.randn(f1.shape[1])\n",
        "\n",
        "g = f1 @ svm_w\n",
        "g = torch.unsqueeze(g, dim=0).T\n",
        "\n",
        "print(torch.unsqueeze(torch.Tensor([1, 2, 3]), dim=0).shape)\n",
        "\n",
        "g @ torch.unsqueeze(torch.Tensor([1, 2]), dim=0)"
      ]
    },
    {
      "cell_type": "code",
      "execution_count": null,
      "metadata": {
        "id": "N_FEzMz7do2-",
        "outputId": "beab099a-f2f2-4695-a6cb-338fea62221e"
      },
      "outputs": [
        {
          "name": "stdout",
          "output_type": "stream",
          "text": [
            "tensor([[ 0.2729,  0.6006, -1.0398,  ..., -1.3764, -0.0181,  1.2899],\n",
            "        [-0.6619,  1.7155,  0.6828,  ...,  0.9750,  1.2621,  0.8714],\n",
            "        [-1.2249,  0.1158,  0.3892,  ..., -0.3131, -2.3804,  1.4633],\n",
            "        ...,\n",
            "        [-1.5346, -0.2088, -0.1406,  ..., -1.7168, -1.1358,  0.0471],\n",
            "        [ 0.8725,  0.7688, -0.9170,  ..., -0.0053,  0.7168,  0.7663],\n",
            "        [ 1.4065,  0.4206,  0.5572,  ...,  0.0384,  1.0939, -1.8568]])\n",
            "torch.Size([9, 5]) torch.Size([9, 5]) torch.Size([9, 7])\n",
            "tensor([[5.5009e-01, 0.0000e+00, 0.0000e+00, 2.4173e+00, 8.9588e-01],\n",
            "        [9.5940e-01, 0.0000e+00, 0.0000e+00, 0.0000e+00, 2.1044e-03],\n",
            "        [0.0000e+00, 4.6178e-01, 3.1330e-01, 7.4526e-01, 6.1229e-01],\n",
            "        [1.3101e+00, 5.0964e-02, 0.0000e+00, 7.9191e-01, 8.7336e-01],\n",
            "        [0.0000e+00, 7.7665e-01, 6.6595e-01, 0.0000e+00, 5.7977e-01],\n",
            "        [0.0000e+00, 0.0000e+00, 0.0000e+00, 0.0000e+00, 1.9455e-01],\n",
            "        [2.5700e-02, 0.0000e+00, 0.0000e+00, 3.9999e-02, 0.0000e+00],\n",
            "        [4.6324e-01, 1.1718e-01, 1.6562e-01, 7.1953e-02, 2.8729e-01],\n",
            "        [0.0000e+00, 0.0000e+00, 5.9582e-01, 0.0000e+00, 0.0000e+00]],\n",
            "       grad_fn=<ReluBackward0>) \n",
            " tensor([0.7665, 0.7394, 0.5660, 0.7382, 0.3200])\n",
            "tensor([-3.1214,  0.6351, -1.0217, -1.3959,  0.1852, -0.3947, -0.0105, -0.0602,\n",
            "         0.5334], grad_fn=<MvBackward0>)\n"
          ]
        }
      ],
      "source": [
        "# testing \n",
        "m = nn.Linear(20, 30)\n",
        "input = torch.randn(128, 20)\n",
        "print(input)\n",
        "\n",
        "test = Network()\n",
        "inp = torch.randn(9,34)\n",
        "a, b, c, d, e, f = test(inp)\n",
        "print(a.shape, b.shape, c.shape)\n",
        "\n",
        "#print(nn.init_kaiming_normal_(torch.empty((b.shape[1]))).shape)\n",
        "print(a, \"\\n\", torch.rand(5))\n",
        "print(a @ torch.randn(5))\n"
      ]
    }
  ],
  "metadata": {
    "interpreter": {
      "hash": "a209b2a29af6db15caeb87b5a469aa1eed57ecd42970a9baa7e0ed0c9978c8fe"
    },
    "kernelspec": {
      "display_name": "Python 3.9.7 ('base')",
      "language": "python",
      "name": "python3"
    },
    "language_info": {
      "codemirror_mode": {
        "name": "ipython",
        "version": 3
      },
      "file_extension": ".py",
      "mimetype": "text/x-python",
      "name": "python",
      "nbconvert_exporter": "python",
      "pygments_lexer": "ipython3",
      "version": "3.9.7"
    },
    "orig_nbformat": 4,
    "colab": {
      "name": "DSN.ipynb",
      "provenance": [],
      "include_colab_link": true
    }
  },
  "nbformat": 4,
  "nbformat_minor": 0
}
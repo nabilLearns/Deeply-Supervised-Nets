{
  "cells": [
    {
      "cell_type": "markdown",
      "metadata": {
        "id": "view-in-github",
        "colab_type": "text"
      },
      "source": [
        "<a href=\"https://colab.research.google.com/github/nabilLearns/Deeply-Supervised-Nets/blob/master/DSN.ipynb\" target=\"_parent\"><img src=\"https://colab.research.google.com/assets/colab-badge.svg\" alt=\"Open In Colab\"/></a>"
      ]
    },
    {
      "cell_type": "markdown",
      "metadata": {
        "id": "o9JijckN_-DE"
      },
      "source": [
        "## Get required modules"
      ]
    },
    {
      "cell_type": "code",
      "execution_count": null,
      "metadata": {
        "id": "bAaXxrNM_-DH"
      },
      "outputs": [],
      "source": [
        "import torch\n",
        "import torch.nn as nn\n",
        "import torchvision\n",
        "import numpy as np\n",
        "import pandas as pd\n",
        "import matplotlib.pyplot as plt\n",
        "import os"
      ]
    },
    {
      "cell_type": "code",
      "execution_count": null,
      "metadata": {
        "id": "7uN1xPzC_-DH"
      },
      "outputs": [],
      "source": [
        "!pip --quiet install wget"
      ]
    },
    {
      "cell_type": "code",
      "execution_count": null,
      "metadata": {
        "id": "ljJ_hcA0_-DI",
        "outputId": "d380d409-44f6-4bb1-b7fc-a05bce6f8685"
      },
      "outputs": [
        {
          "name": "stdout",
          "output_type": "stream",
          "text": [
            "/home/nabil/Documents/Code/Data_Classification\n",
            "/home/nabil/Documents/Code/Data_Classification/DateData\n"
          ]
        }
      ],
      "source": [
        "#import os\n",
        "#os.path.join(os.getcwd()\n",
        "print(os.getcwd())\n",
        "print(os.path.join(os.getcwd(), 'DateData'))"
      ]
    },
    {
      "cell_type": "markdown",
      "metadata": {
        "id": "Fa4C9wlE_-DJ"
      },
      "source": [
        "## Download Dataset"
      ]
    },
    {
      "cell_type": "code",
      "execution_count": null,
      "metadata": {
        "id": "FRqVJE4C_-DK"
      },
      "outputs": [],
      "source": [
        "# Download dataset in an .arff final into current working directory\n",
        "\n",
        "import wget, requests, io, os, shutil\n",
        "from zipfile import ZipFile\n",
        "\n",
        "data_url = \"https://www.muratkoklu.com/datasets/vtdhnd06.php\"\n",
        "req = requests.get(data_url)\n",
        "zip_file = ZipFile(io.BytesIO(req.content))\n",
        "path = os.path.join(os.getcwd())\n",
        "zip_file.extractall(path)\n",
        "\n",
        "shutil.move(os.path.join(os.getcwd(),'Date_Fruit_Datasets/Date_Fruit_Datasets.arff'), os.path.join(os.getcwd(), 'Date_Fruit_Datasets.arff'))\n",
        "shutil.rmtree(os.path.join(os.getcwd(),'Date_Fruit_Datasets'))\n"
      ]
    },
    {
      "cell_type": "code",
      "execution_count": null,
      "metadata": {
        "id": "tAMGYFjI_-DL",
        "outputId": "60296099-b58c-4655-ad7e-94db8e262045"
      },
      "outputs": [
        {
          "name": "stdout",
          "output_type": "stream",
          "text": [
            "['Date_Fruit_Datasets.arff']\n"
          ]
        }
      ],
      "source": [
        "# Python script that converts .arff to .csv (not mine)\n",
        "# Source: https://github.com/haloboy777/arfftocsv/blob/master/arffToCsv.py\n",
        "\n",
        "#########################################\n",
        "# Project   : ARFF to CSV converter     #\n",
        "# Created   : 10/01/17 11:08:06         #\n",
        "# Author    : haloboy777                #\n",
        "# Licence   : MIT                       #\n",
        "#########################################\n",
        "\n",
        "# Importing library\n",
        "import os\n",
        "\n",
        "# Getting all the arff files from the current directory\n",
        "files = [arff for arff in os.listdir('.') if arff.endswith(\".arff\")]\n",
        "print(files)\n",
        "\n",
        "# Function for converting arff list to csv list\n",
        "def toCsv(text):\n",
        "    data = False\n",
        "    header = \"\"\n",
        "    new_content = []\n",
        "    for line in text:\n",
        "        if not data:\n",
        "            if \"@ATTRIBUTE\" in line or \"@attribute\" in line:\n",
        "                attributes = line.split()\n",
        "                if(\"@attribute\" in line):\n",
        "                    attri_case = \"@attribute\"\n",
        "                else:\n",
        "                    attri_case = \"@ATTRIBUTE\"\n",
        "                column_name = attributes[attributes.index(attri_case) + 1]\n",
        "                header = header + column_name + \",\"\n",
        "            elif \"@DATA\" in line or \"@data\" in line:\n",
        "                data = True\n",
        "                header = header[:-1]\n",
        "                header += '\\n'\n",
        "                new_content.append(header)\n",
        "        else:\n",
        "            new_content.append(line)\n",
        "    return new_content\n",
        "\n",
        "\n",
        "# Main loop for reading and writing files\n",
        "for file in files:\n",
        "    with open(file, \"r\") as inFile:\n",
        "        content = inFile.readlines()\n",
        "        name, ext = os.path.splitext(inFile.name)\n",
        "        new = toCsv(content)\n",
        "        with open(name + \".csv\", \"w\") as outFile:\n",
        "            outFile.writelines(new)"
      ]
    },
    {
      "cell_type": "markdown",
      "metadata": {
        "id": "ORQZmoFH_-DN"
      },
      "source": [
        "## Preprocess Data"
      ]
    },
    {
      "cell_type": "code",
      "execution_count": null,
      "metadata": {
        "id": "ZejwJgVt_-DO",
        "outputId": "608f6f90-e97c-4d04-e93c-4d59de8029ee"
      },
      "outputs": [
        {
          "name": "stdout",
          "output_type": "stream",
          "text": [
            "     AREA  PERIMETER  MAJOR_AXIS  MINOR_AXIS  ECCENTRICITY   EQDIASQ  \\\n",
            "0  422163   2378.908    837.8484    645.6693        0.6373  733.1539   \n",
            "1  338136   2085.144    723.8198    595.2073        0.5690  656.1464   \n",
            "2  526843   2647.394    940.7379    715.3638        0.6494  819.0222   \n",
            "3  416063   2351.210    827.9804    645.2988        0.6266  727.8378   \n",
            "4  347562   2160.354    763.9877    582.8359        0.6465  665.2291   \n",
            "\n",
            "   SOLIDITY  CONVEX_AREA  EXTENT  ASPECT_RATIO  ...  KurtosisRR  KurtosisRG  \\\n",
            "0    0.9947       424428  0.7831        1.2976  ...      3.2370      2.9574   \n",
            "1    0.9974       339014  0.7795        1.2161  ...      2.6228      2.6350   \n",
            "2    0.9962       528876  0.7657        1.3150  ...      3.7516      3.8611   \n",
            "3    0.9948       418255  0.7759        1.2831  ...      5.0401      8.6136   \n",
            "4    0.9908       350797  0.7569        1.3108  ...      2.7016      2.9761   \n",
            "\n",
            "   KurtosisRB    EntropyRR    EntropyRG    EntropyRB  ALLdaub4RR  ALLdaub4RG  \\\n",
            "0      4.2287 -59191263232 -50714214400 -39922372608     58.7255     54.9554   \n",
            "1      3.1704 -34233065472 -37462601728 -31477794816     50.0259     52.8168   \n",
            "2      4.7192 -93948354560 -74738221056 -60311207936     65.4772     59.2860   \n",
            "3      8.2618 -32074307584 -32060925952 -29575010304     43.3900     44.1259   \n",
            "4      4.4146 -39980974080 -35980042240 -25593278464     52.7743     50.9080   \n",
            "\n",
            "   ALLdaub4RB  Class  \n",
            "0     47.8400  BERHI  \n",
            "1     47.8315  BERHI  \n",
            "2     51.9378  BERHI  \n",
            "3     41.1882  BERHI  \n",
            "4     42.6666  BERHI  \n",
            "\n",
            "[5 rows x 35 columns]\n"
          ]
        }
      ],
      "source": [
        "data = pd.read_csv(\"Date_Fruit_Datasets.csv\")\n",
        "print(data.head())\n",
        "\n",
        "# As you can see, the values need to be normalized"
      ]
    },
    {
      "cell_type": "markdown",
      "metadata": {
        "id": "9jawem9G_-DP"
      },
      "source": [
        "### Generate train/val/test data splits"
      ]
    },
    {
      "cell_type": "code",
      "execution_count": null,
      "metadata": {
        "id": "h48I0KJw_-DP",
        "outputId": "1f124d55-8a2d-469f-cc67-df53f86ec8d2"
      },
      "outputs": [
        {
          "name": "stdout",
          "output_type": "stream",
          "text": [
            "[1 2 3 4 5 6 7]\n",
            "Class 1:, <class 'pandas.core.frame.DataFrame'>, (52, 35)\n",
            "Class 2:, <class 'pandas.core.frame.DataFrame'>, (78, 35)\n",
            "Class 3:, <class 'pandas.core.frame.DataFrame'>, (163, 35)\n",
            "Class 4:, <class 'pandas.core.frame.DataFrame'>, (57, 35)\n",
            "Class 5:, <class 'pandas.core.frame.DataFrame'>, (132, 35)\n",
            "Class 6:, <class 'pandas.core.frame.DataFrame'>, (159, 35)\n",
            "Class 7:, <class 'pandas.core.frame.DataFrame'>, (75, 35)\n"
          ]
        }
      ],
      "source": [
        "# Generate train/val/test data splits\n",
        "\n",
        "#print(data.info())\n",
        "#print(data['Class'].unique())\n",
        "#normalized_df=(df-df.mean())/df.std()\n",
        "\n",
        "normalized = (data - data.mean()) / data.std()\n",
        "data = normalized\n",
        "#print(normalized)\n",
        "\n",
        "data['Class'] = data['Class'].astype('category').cat.codes + 1\n",
        "print(data['Class'].unique())\n",
        "train, val, test = {}, {}, {}\n",
        "for date_type in data['Class'].unique(): #['DOKOL']\n",
        "\n",
        "    num_examples = data[data['Class'] == date_type].shape[0]\n",
        "    data[data['Class'] == date_type] = data[data['Class'] == date_type].sample(frac=1, random_state=42)\n",
        "\n",
        "    train[date_type] = data[data['Class'] == date_type].reset_index().drop(columns=['index']).iloc[0:int(num_examples*0.8)]#.values\n",
        "    val[date_type] = data[data['Class'] == date_type].reset_index().drop(columns=['index']).iloc[int(num_examples*0.8):int(num_examples*0.9)]#.values\n",
        "    test[date_type] = data[data['Class'] == date_type].reset_index().drop(columns=['index']).iloc[int(num_examples*0.9):]#.values\n",
        "\n",
        "    print(f\"Class {date_type}:, {type(train[date_type])}, {train[date_type].shape}\")\n",
        "\n",
        "#print(len(train))\n",
        "train, val, test = [pd.concat(split).sample(frac=1, random_state=1).reset_index(drop=True) for split in [train, val, test]]"
      ]
    },
    {
      "cell_type": "markdown",
      "metadata": {
        "id": "OczBIN8L_-DR"
      },
      "source": [
        "### Get data and label tensors from each dataframe split"
      ]
    },
    {
      "cell_type": "code",
      "execution_count": null,
      "metadata": {
        "id": "JBPaJ5Lq_-DS"
      },
      "outputs": [],
      "source": [
        "# Get data and label tensors from each split dataframe\n",
        "\n",
        "X_train = torch.Tensor(train.values[:,:-1])\n",
        "Y_train = torch.Tensor(train.values[:,-1])\n",
        "\n",
        "X_val = torch.Tensor(val.values[:,:-1])\n",
        "Y_val = torch.Tensor(val.values[:,-1])\n",
        "\n",
        "X_test = torch.Tensor(test.values[:,:-1])\n",
        "Y_test = torch.Tensor(test.values[:,-1])"
      ]
    },
    {
      "cell_type": "code",
      "execution_count": null,
      "metadata": {
        "id": "ariDqbC-_-DS",
        "outputId": "f10db865-9910-464f-f27a-972ba0096809"
      },
      "outputs": [
        {
          "name": "stdout",
          "output_type": "stream",
          "text": [
            "tensor([1., 2., 3., 4., 5., 6., 7.])\n"
          ]
        }
      ],
      "source": [
        "X_train.shape"
      ]
    },
    {
      "cell_type": "markdown",
      "metadata": {
        "id": "HzfGfsD1_-DT"
      },
      "source": [
        "## Define Model Architecture and Loss"
      ]
    },
    {
      "cell_type": "code",
      "execution_count": null,
      "metadata": {
        "id": "Fw2ZIY5T_-DU"
      },
      "outputs": [],
      "source": [
        "# define model\n",
        "torch.manual_seed(0)\n",
        "\n",
        "class Network(nn.Module):\n",
        "    def __init__(self, n_in=34, n_hidden=5, n_classes=7):#, ks, stride):\n",
        "        super(Network, self).__init__()\n",
        "        self.mapping1 = nn.Linear(n_in, n_hidden)\n",
        "        self.mapping2 = nn.Linear(n_hidden, n_hidden)\n",
        "        self.mapping3 = nn.Linear(n_hidden, n_classes)\n",
        "        self.relu = nn.ReLU()\n",
        "\n",
        "        self.svm_1 = torch.empty(n_hidden)\n",
        "        nn.init.uniform_(self.svm_1, -0.01, 0.01)\n",
        "\n",
        "        self.svm_2 = torch.empty(n_hidden)\n",
        "        nn.init.uniform_(self.svm_2, -0.01, 0.01)\n",
        "\n",
        "        self.svm_3 = torch.empty(n_classes)\n",
        "        nn.init.uniform_(self.svm_3, -0.01, 0.01)\n",
        "\n",
        "        #self.w = nn.Parameter(torch.randn(1, 2), requires_grad=True)\n",
        "\n",
        "    def forward(self, x):\n",
        "        f_map1 = self.relu(self.mapping1(x))\n",
        "        f_map2 = self.relu(self.mapping2(f_map1))\n",
        "        f_map3 = self.relu(self.mapping3(f_map2))\n",
        "                \n",
        "        return [f_map1, f_map2, f_map3, self.svm_1, self.svm_2, self.svm_3]\n",
        "\n",
        "\n",
        "def companion_loss(f_map, svm_w, t_labels, n_labels=7):\n",
        "    \"\"\"\n",
        "    Implements L2-SVM companion objective loss described by equations (4) and (5) of the \"Deeply Supervised Nets\" paper ([Gallagher et. al, 2014])\n",
        "\n",
        "    parameters\n",
        "    ----------\n",
        "    f_map: of shape (BATCH_SIZE x NUM_FEATURES)\n",
        "    svm_w: svm weights\n",
        "    t_labels: vector of labels\n",
        "    \"\"\"\n",
        "\n",
        "    loss = 0\n",
        "    all_labels = torch.arange(n_labels) + 1\n",
        "\n",
        "    f_labels = [all_labels[all_labels != t_labels[i]] for i in range(len(t_labels))] # f_labels.shape = (# examples, 6), each row has labels != t_label\n",
        "    f_labels = torch.stack(f_labels)\n",
        "\n",
        "    #print(f_map.shape, svm_w.shape)#, (f_map@svm_w).shape)\n",
        "    svm_pred = torch.unsqueeze(f_map @ svm_w, dim=0).T # torch.Size([716, 1])\n",
        "\n",
        "    # < w^(m), (Z^(m), y) >\n",
        "    true_label_svm = svm_pred * torch.unsqueeze(t_labels,dim=0).T # torch.Size([716, 1])\n",
        "    \n",
        "    # < w^(m), (Z^(m), y_k) > for all k\n",
        "    f_labels_svm = svm_pred * f_labels # torch.Size([716, 6])\n",
        "\n",
        "    #print(svm_pred.shape, true_label_svm.shape, f_labels_svm.shape, f_labels.shape)\n",
        "\n",
        "    loss = torch.sum(torch.nn.functional.relu(1 - (true_label_svm - f_labels_svm))**2)#**2\n",
        "    \n",
        "    return loss\n",
        "\n",
        "#global_loss = lambda data: torch.sum([companion_loss(f_map) for f_map in Network(data)])\n",
        "def global_loss(model_out: list, Y, alphas: list, gamma = 0.05):\n",
        "    \"\"\"\n",
        "    Return overall combined objective function as specified in eq. (3) of [Gallagher et. al, 2014]\n",
        "    \n",
        "    parameters\n",
        "    ----------\n",
        "    model_out: [f_map1, f_map2, f_map3, svm1, svm2, svm3]\n",
        "    alphas: list of alpha values (see eq. (3), and pg. 4 of [Gallagher et. al, 2014])\n",
        "    gamma: see pg. 4 of [Gallagher et. al, 2014]\n",
        "    \"\"\"\n",
        "\n",
        "    n_layers = len(model_out) // 2\n",
        "    companion_losses = [companion_loss(model_out[m], model_out[m+n_layers], Y) for m in range(n_layers)]\n",
        "    \n",
        "    f_layer_loss = torch.norm(model_out[-1])**2 + companion_losses[-1]\n",
        "    modified_companion_losses = [alphas[m] * torch.nn.functional.relu(torch.norm(model_out[m + n_layers])**2 + companion_losses[m] - gamma) for m in range(n_layers - 1)]\n",
        "    global_loss = f_layer_loss + sum(modified_companion_losses)\n",
        "    \n",
        "    #print(companion_losses)\n",
        "    #print(\"norms: \", torch.norm(model_out[-1]), torch.norm(model_out[-2]))\n",
        "    return global_loss\n",
        "    "
      ]
    },
    {
      "cell_type": "markdown",
      "metadata": {
        "id": "PF_sgiq9_-DV"
      },
      "source": [
        "## Train"
      ]
    },
    {
      "cell_type": "code",
      "execution_count": null,
      "metadata": {
        "id": "o1pOG3Mn_-DV"
      },
      "outputs": [],
      "source": [
        "CEL = nn.CrossEntropyLoss(ignore_index=1)#BCELoss()\n",
        "\n",
        "def train(num_epochs = 300):\n",
        "    opt = torch.optim.SGD(model.parameters(), lr=0.0001, momentum=0.9, weight_decay=0.01)\n",
        "    epoch_losses = []\n",
        "    epoch_accs = []\n",
        "\n",
        "    alphas = [14, 13] #[0.1, 0.1]\n",
        "    \n",
        "    for epoch in range(num_epochs):\n",
        "\n",
        "        avg_train_loss = 0\n",
        "        train_acc = 0\n",
        "\n",
        "        if epoch % (int)(num_epochs * 0.2) == 0:\n",
        "            print(f\"EPOCH {epoch}\")\n",
        "            #print(torch.nn.functional.softmax(model(X_train)[1][0:10],dim=1))\n",
        "            #print(torch.argmax(model(X_train)[2][:],dim=1))\n",
        "\n",
        "        batch_sz = 125\n",
        "        alphas = [a * 0.1 * (1 - epoch / num_epochs) for a in alphas]\n",
        "        \n",
        "        for batch_idx in range(0, X_train.shape[0], batch_sz):\n",
        "            opt.zero_grad()\n",
        "            L = global_loss(model(X_train[batch_idx:batch_idx+batch_sz]), Y_train[batch_idx:batch_idx+batch_sz], alphas)\n",
        "\n",
        "            #pred = torch.argmax(model(X_train[batch_idx:batch_idx+batch_sz])[2],dim=1)\n",
        "            #pred =  pred.to(dtype=torch.float32)\n",
        "            #L = CEL(pred, Y_train[batch_idx:batch_idx+batch_sz].long())\n",
        "\n",
        "            L.backward()\n",
        "            opt.step()\n",
        "            #opt.zero_grad()\n",
        "\n",
        "            avg_train_loss += L.item()\n",
        "\n",
        "            train_batch_pred = torch.argmax(model(X_train[batch_idx:batch_idx+batch_sz])[2],dim=1) + 1\n",
        "            train_batch_true = Y_train[batch_idx:batch_idx+batch_sz]\n",
        "            train_acc += np.array(train_batch_pred == train_batch_true).sum()\n",
        "        \n",
        "        epoch_losses.append(avg_train_loss / X_train.shape[0])\n",
        "        epoch_accs.append(train_acc / X_train.shape[0])\n",
        "\n",
        "    plt.plot(epoch_losses)\n",
        "    plt.title(\"Train Set Loss\")\n",
        "    plt.ylabel('Loss')\n",
        "    plt.xlabel('Epoch #')\n",
        "    plt.show()\n",
        "\n",
        "    plt.plot(epoch_accs)\n",
        "    plt.title(\"Train Set Accuracy\")\n",
        "    plt.ylabel('Accuracy')\n",
        "    plt.xlabel('Epoch #')\n",
        "    plt.show()\n",
        "    \n",
        "    return epoch_losses, epoch_accs"
      ]
    },
    {
      "cell_type": "code",
      "execution_count": null,
      "metadata": {
        "id": "IqRmxwxG_-DW",
        "outputId": "333e5910-68b4-4010-bc9e-da7498aa5aa2"
      },
      "outputs": [
        {
          "name": "stdout",
          "output_type": "stream",
          "text": [
            "EPOCH 0\n",
            "EPOCH 60\n",
            "EPOCH 120\n",
            "EPOCH 180\n",
            "EPOCH 240\n"
          ]
        },
        {
          "data": {
            "image/png": "[encoded data removed]",
            "text/plain": [
              "<Figure size 432x288 with 1 Axes>"
            ]
          },
          "metadata": {
            "needs_background": "light"
          },
          "output_type": "display_data"
        },
        {
          "data": {
            "image/png": "[encoded data removed]",
            "text/plain": [
              "<Figure size 432x288 with 1 Axes>"
            ]
          },
          "metadata": {
            "needs_background": "light"
          },
          "output_type": "display_data"
        },
        {
          "data": {
            "text/plain": [
              "([22.164995417248605,\n",
              "  7.610271773524791,\n",
              "  6.159279167985117,\n",
              "  6.011503677794387,\n",
              "  5.991674156828299,\n",
              "  5.983179017818174,\n",
              "  5.975292525477916,\n",
              "  5.967769175268418,\n",
              "  5.959527127569614,\n",
              "  5.950305448564071,\n",
              "  5.940032873739743,\n",
              "  5.928430567906555,\n",
              "  5.915123625174581,\n",
              "  5.899539116374608,\n",
              "  5.880415250469187,\n",
              "  5.856785523824851,\n",
              "  5.828105393734724,\n",
              "  5.793788036154635,\n",
              "  5.752885957003972,\n",
              "  5.704809178187195,\n",
              "  5.649884229265778,\n",
              "  5.59029737930724,\n",
              "  5.530457310170434,\n",
              "  5.475367753865332,\n",
              "  5.4287860806427854,\n",
              "  5.3913595529907905,\n",
              "  5.360015570784414,\n",
              "  5.333122935375022,\n",
              "  5.309624613330351,\n",
              "  5.288043826651973,\n",
              "  5.26833846449186,\n",
              "  5.250374948512243,\n",
              "  5.23241667507747,\n",
              "  5.21499109534578,\n",
              "  5.197881560085872,\n",
              "  5.180585253838054,\n",
              "  5.1630107943572146,\n",
              "  5.144891195457075,\n",
              "  5.125438626252073,\n",
              "  5.103642937857345,\n",
              "  5.077880305284895,\n",
              "  5.045833140112168,\n",
              "  5.004587098872862,\n",
              "  4.949454962874258,\n",
              "  4.873194774435885,\n",
              "  4.767404481685362,\n",
              "  4.628534711273023,\n",
              "  4.473848225684139,\n",
              "  4.350523154828801,\n",
              "  4.280095958176938,\n",
              "  4.2431143222574415,\n",
              "  4.220192978501986,\n",
              "  4.2013852423129805,\n",
              "  4.18372702998156,\n",
              "  4.166181255319265,\n",
              "  4.147476622512221,\n",
              "  4.128551461843139,\n",
              "  4.109731407804862,\n",
              "  4.090719723834672,\n",
              "  4.071401585413757,\n",
              "  4.052294640567716,\n",
              "  4.034178749809052,\n",
              "  4.0169804322652976,\n",
              "  4.000172108911269,\n",
              "  3.984770066245308,\n",
              "  3.97058207762308,\n",
              "  3.957762307960894,\n",
              "  3.9461310189529506,\n",
              "  3.935817057859964,\n",
              "  3.9265058719912056,\n",
              "  3.9181070594148264,\n",
              "  3.9101973805347634,\n",
              "  3.9024829118611426,\n",
              "  3.8947053621601126,\n",
              "  3.8871411797720627,\n",
              "  3.8799539491450985,\n",
              "  3.8730812712088643,\n",
              "  3.86633249634471,\n",
              "  3.860135126380281,\n",
              "  3.8540801575729966,\n",
              "  3.848244224846696,\n",
              "  3.842592463147041,\n",
              "  3.837304951758358,\n",
              "  3.8321421958880717,\n",
              "  3.8270928580001744,\n",
              "  3.8221883081191077,\n",
              "  3.817339252493235,\n",
              "  3.8124837182753577,\n",
              "  3.807464983210217,\n",
              "  3.8024680281484593,\n",
              "  3.7974535553149007,\n",
              "  3.7925015241740136,\n",
              "  3.7878913240059795,\n",
              "  3.7833702897226344,\n",
              "  3.7788934547807917,\n",
              "  3.77461856437129,\n",
              "  3.7705598543476126,\n",
              "  3.7665800382305124,\n",
              "  3.7628405693523046,\n",
              "  3.7592879567066384,\n",
              "  3.7559142299204566,\n",
              "  3.752991873458777,\n",
              "  3.7501983216354966,\n",
              "  3.7474303858240225,\n",
              "  3.7447415570307045,\n",
              "  3.742242056564246,\n",
              "  3.739862282182917,\n",
              "  3.737599378191559,\n",
              "  3.7354029650128755,\n",
              "  3.733393067088207,\n",
              "  3.7315194753295216,\n",
              "  3.729734026519946,\n",
              "  3.727934341856887,\n",
              "  3.726189043268811,\n",
              "  3.7245212320508903,\n",
              "  3.722908062641847,\n",
              "  3.721314201141869,\n",
              "  3.7198957304714777,\n",
              "  3.7184843777278282,\n",
              "  3.717076860992602,\n",
              "  3.7158553480436014,\n",
              "  3.714664139561147,\n",
              "  3.713525441771779,\n",
              "  3.7123519641727043,\n",
              "  3.711238541416616,\n",
              "  3.7101535051228614,\n",
              "  3.709139008761784,\n",
              "  3.7082290649414062,\n",
              "  3.707303052507965,\n",
              "  3.7061759479884997,\n",
              "  3.7052787908628666,\n",
              "  3.7043959122130325,\n",
              "  3.703250394853134,\n",
              "  3.7023645326411923,\n",
              "  3.701504584797268,\n",
              "  3.7005496744337028,\n",
              "  3.699679241500087,\n",
              "  3.6987264196299976,\n",
              "  3.6981054551108588,\n",
              "  3.6973154078648744,\n",
              "  3.69647114503317,\n",
              "  3.695718775914368,\n",
              "  3.6951122177379756,\n",
              "  3.694307551037666,\n",
              "  3.693475819166812,\n",
              "  3.692954249888159,\n",
              "  3.6922436932611733,\n",
              "  3.6915533396118847,\n",
              "  3.6909316505133773,\n",
              "  3.6902543392927285,\n",
              "  3.689667174270033,\n",
              "  3.6889260574426066,\n",
              "  3.6883982653058442,\n",
              "  3.6877223606216174,\n",
              "  3.687174322884842,\n",
              "  3.686459887627117,\n",
              "  3.6857464326826554,\n",
              "  3.6852557645829696,\n",
              "  3.684808145022259,\n",
              "  3.684108883308965,\n",
              "  3.6834292278609464,\n",
              "  3.6826843602697275,\n",
              "  3.682395636702383,\n",
              "  3.6818972965858503,\n",
              "  3.681088666010169,\n",
              "  3.680591604563111,\n",
              "  3.6801007233518463,\n",
              "  3.6794265235602523,\n",
              "  3.6788869250420086,\n",
              "  3.6783727720463077,\n",
              "  3.6779418604333975,\n",
              "  3.6773538429643855,\n",
              "  3.6766754661858414,\n",
              "  3.676395053970081,\n",
              "  3.675895392561758,\n",
              "  3.675262365927243,\n",
              "  3.6745694975613215,\n",
              "  3.674470784277889,\n",
              "  3.6739615754708232,\n",
              "  3.673341420775685,\n",
              "  3.672733285573608,\n",
              "  3.6724284933932,\n",
              "  3.6719431957053073,\n",
              "  3.6713653649697755,\n",
              "  3.67092635511686,\n",
              "  3.670501197516585,\n",
              "  3.670068581011042,\n",
              "  3.66951836953616,\n",
              "  3.6691895809919473,\n",
              "  3.6686053142867276,\n",
              "  3.6683290364356016,\n",
              "  3.667874213703518,\n",
              "  3.667328775928007,\n",
              "  3.6667351749356234,\n",
              "  3.6665641315822497,\n",
              "  3.6663081845757683,\n",
              "  3.6656754136751486,\n",
              "  3.664954926048577,\n",
              "  3.665006371183768,\n",
              "  3.6646236227877313,\n",
              "  3.663975081630259,\n",
              "  3.6633133275548837,\n",
              "  3.6634036442421003,\n",
              "  3.6627984926021298,\n",
              "  3.662260982577361,\n",
              "  3.6619988127127705,\n",
              "  3.6614648829625307,\n",
              "  3.6612097457800497,\n",
              "  3.660740090482062,\n",
              "  3.660326781885584,\n",
              "  3.6601149489759734,\n",
              "  3.6596784964620066,\n",
              "  3.6590977674089995,\n",
              "  3.65912048510333,\n",
              "  3.658356565336941,\n",
              "  3.6579121850722327,\n",
              "  3.6578541334780903,\n",
              "  3.6573161119855317,\n",
              "  3.656823099658476,\n",
              "  3.65663995156741,\n",
              "  3.656289383019815,\n",
              "  3.655886389023765,\n",
              "  3.655548010458493,\n",
              "  3.65513832475886,\n",
              "  3.654728383325332,\n",
              "  3.654367713288888,\n",
              "  3.6540079809433923,\n",
              "  3.6537707451335546,\n",
              "  3.653291158835981,\n",
              "  3.652898436818043,\n",
              "  3.652741203094994,\n",
              "  3.652312848821033,\n",
              "  3.651914117056564,\n",
              "  3.651702667747796,\n",
              "  3.6513204734418645,\n",
              "  3.650794300953103,\n",
              "  3.6506390704788974,\n",
              "  3.6502602433359157,\n",
              "  3.650041420366511,\n",
              "  3.6497001008614482,\n",
              "  3.649109270319592,\n",
              "  3.6488707132179643,\n",
              "  3.6487898586848595,\n",
              "  3.6480313945748954,\n",
              "  3.6479418877116796,\n",
              "  3.64758769626724,\n",
              "  3.647057261546897,\n",
              "  3.646851481006132,\n",
              "  3.6466581035592704,\n",
              "  3.64600129367253,\n",
              "  3.6459445207478614,\n",
              "  3.6453748734969667,\n",
              "  3.645073618968772,\n",
              "  3.645008577314835,\n",
              "  3.6445199977086244,\n",
              "  3.644171858633031,\n",
              "  3.643714947407472,\n",
              "  3.6434080667335893,\n",
              "  3.6431692112757506,\n",
              "  3.6426860873259646,\n",
              "  3.642604934436649,\n",
              "  3.6419604423991796,\n",
              "  3.6418202149801413,\n",
              "  3.641362962776056,\n",
              "  3.6410652459000743,\n",
              "  3.6410032730528763,\n",
              "  3.640253844873865,\n",
              "  3.639987114421482,\n",
              "  3.640007871489285,\n",
              "  3.6395665174089995,\n",
              "  3.639017371492013,\n",
              "  3.638789555213971,\n",
              "  3.638643019692192,\n",
              "  3.6381417386358677,\n",
              "  3.637966774029439,\n",
              "  3.6376914764915766,\n",
              "  3.637229407965804,\n",
              "  3.636905052142436,\n",
              "  3.6367045567688328,\n",
              "  3.6365877290011785,\n",
              "  3.6361970102320837,\n",
              "  3.635532272594601,\n",
              "  3.635691381699546,\n",
              "  3.6353982254113566,\n",
              "  3.6347291402976607,\n",
              "  3.6348394042286793,\n",
              "  3.6343824503808047,\n",
              "  3.6340453504850077,\n",
              "  3.6338071343619065,\n",
              "  3.6335357154547836,\n",
              "  3.6332931944777846,\n",
              "  3.6326978033481363,\n",
              "  3.632778231658083,\n",
              "  3.632419223891956,\n",
              "  3.6320643931127794,\n",
              "  3.631863173159807,\n",
              "  3.6314181961826772,\n",
              "  3.6312599821463643,\n",
              "  3.6309986647280903,\n",
              "  3.630616896645317],\n",
              " [0.07262569832402235,\n",
              "  0.07262569832402235,\n",
              "  0.07262569832402235,\n",
              "  0.07262569832402235,\n",
              "  0.07262569832402235,\n",
              "  0.07262569832402235,\n",
              "  0.07262569832402235,\n",
              "  0.14106145251396648,\n",
              "  0.2918994413407821,\n",
              "  0.2946927374301676,\n",
              "  0.2946927374301676,\n",
              "  0.2946927374301676,\n",
              "  0.2946927374301676,\n",
              "  0.2946927374301676,\n",
              "  0.2946927374301676,\n",
              "  0.2946927374301676,\n",
              "  0.2946927374301676,\n",
              "  0.2877094972067039,\n",
              "  0.2751396648044693,\n",
              "  0.2709497206703911,\n",
              "  0.26955307262569833,\n",
              "  0.2723463687150838,\n",
              "  0.2751396648044693,\n",
              "  0.2779329608938548,\n",
              "  0.2849162011173184,\n",
              "  0.2849162011173184,\n",
              "  0.28631284916201116,\n",
              "  0.2877094972067039,\n",
              "  0.2918994413407821,\n",
              "  0.29329608938547486,\n",
              "  0.29329608938547486,\n",
              "  0.2946927374301676,\n",
              "  0.2946927374301676,\n",
              "  0.2946927374301676,\n",
              "  0.2946927374301676,\n",
              "  0.2946927374301676,\n",
              "  0.2946927374301676,\n",
              "  0.2946927374301676,\n",
              "  0.29608938547486036,\n",
              "  0.29608938547486036,\n",
              "  0.29608938547486036,\n",
              "  0.29608938547486036,\n",
              "  0.29608938547486036,\n",
              "  0.2946927374301676,\n",
              "  0.2946927374301676,\n",
              "  0.29329608938547486,\n",
              "  0.28910614525139666,\n",
              "  0.2835195530726257,\n",
              "  0.2779329608938548,\n",
              "  0.276536312849162,\n",
              "  0.2751396648044693,\n",
              "  0.2751396648044693,\n",
              "  0.2779329608938548,\n",
              "  0.27932960893854747,\n",
              "  0.27932960893854747,\n",
              "  0.2779329608938548,\n",
              "  0.2779329608938548,\n",
              "  0.276536312849162,\n",
              "  0.2751396648044693,\n",
              "  0.2751396648044693,\n",
              "  0.2737430167597765,\n",
              "  0.2737430167597765,\n",
              "  0.2709497206703911,\n",
              "  0.2709497206703911,\n",
              "  0.26955307262569833,\n",
              "  0.26955307262569833,\n",
              "  0.26955307262569833,\n",
              "  0.26955307262569833,\n",
              "  0.26955307262569833,\n",
              "  0.2709497206703911,\n",
              "  0.2709497206703911,\n",
              "  0.26955307262569833,\n",
              "  0.26955307262569833,\n",
              "  0.2709497206703911,\n",
              "  0.2709497206703911,\n",
              "  0.2723463687150838,\n",
              "  0.2709497206703911,\n",
              "  0.2709497206703911,\n",
              "  0.2709497206703911,\n",
              "  0.2709497206703911,\n",
              "  0.2709497206703911,\n",
              "  0.2723463687150838,\n",
              "  0.2709497206703911,\n",
              "  0.2723463687150838,\n",
              "  0.2723463687150838,\n",
              "  0.2723463687150838,\n",
              "  0.2723463687150838,\n",
              "  0.2723463687150838,\n",
              "  0.2723463687150838,\n",
              "  0.2737430167597765,\n",
              "  0.2751396648044693,\n",
              "  0.2737430167597765,\n",
              "  0.2737430167597765,\n",
              "  0.2737430167597765,\n",
              "  0.2737430167597765,\n",
              "  0.2737430167597765,\n",
              "  0.2737430167597765,\n",
              "  0.2751396648044693,\n",
              "  0.2737430167597765,\n",
              "  0.2737430167597765,\n",
              "  0.2737430167597765,\n",
              "  0.2737430167597765,\n",
              "  0.2737430167597765,\n",
              "  0.2737430167597765,\n",
              "  0.2737430167597765,\n",
              "  0.2737430167597765,\n",
              "  0.2737430167597765,\n",
              "  0.276536312849162,\n",
              "  0.276536312849162,\n",
              "  0.276536312849162,\n",
              "  0.276536312849162,\n",
              "  0.276536312849162,\n",
              "  0.276536312849162,\n",
              "  0.276536312849162,\n",
              "  0.276536312849162,\n",
              "  0.276536312849162,\n",
              "  0.276536312849162,\n",
              "  0.276536312849162,\n",
              "  0.276536312849162,\n",
              "  0.276536312849162,\n",
              "  0.276536312849162,\n",
              "  0.2751396648044693,\n",
              "  0.2751396648044693,\n",
              "  0.2737430167597765,\n",
              "  0.2737430167597765,\n",
              "  0.2737430167597765,\n",
              "  0.2737430167597765,\n",
              "  0.2737430167597765,\n",
              "  0.2737430167597765,\n",
              "  0.2737430167597765,\n",
              "  0.2737430167597765,\n",
              "  0.2737430167597765,\n",
              "  0.2737430167597765,\n",
              "  0.2737430167597765,\n",
              "  0.2737430167597765,\n",
              "  0.2737430167597765,\n",
              "  0.2737430167597765,\n",
              "  0.2737430167597765,\n",
              "  0.2737430167597765,\n",
              "  0.2737430167597765,\n",
              "  0.2737430167597765,\n",
              "  0.2737430167597765,\n",
              "  0.2737430167597765,\n",
              "  0.2737430167597765,\n",
              "  0.2737430167597765,\n",
              "  0.2723463687150838,\n",
              "  0.2737430167597765,\n",
              "  0.2709497206703911,\n",
              "  0.2723463687150838,\n",
              "  0.2709497206703911,\n",
              "  0.2709497206703911,\n",
              "  0.2709497206703911,\n",
              "  0.2709497206703911,\n",
              "  0.2709497206703911,\n",
              "  0.2709497206703911,\n",
              "  0.2709497206703911,\n",
              "  0.2709497206703911,\n",
              "  0.2709497206703911,\n",
              "  0.26955307262569833,\n",
              "  0.26955307262569833,\n",
              "  0.26955307262569833,\n",
              "  0.26955307262569833,\n",
              "  0.26955307262569833,\n",
              "  0.26955307262569833,\n",
              "  0.26955307262569833,\n",
              "  0.26955307262569833,\n",
              "  0.26955307262569833,\n",
              "  0.26955307262569833,\n",
              "  0.26955307262569833,\n",
              "  0.26955307262569833,\n",
              "  0.26955307262569833,\n",
              "  0.26955307262569833,\n",
              "  0.26955307262569833,\n",
              "  0.26955307262569833,\n",
              "  0.26955307262569833,\n",
              "  0.26955307262569833,\n",
              "  0.26955307262569833,\n",
              "  0.26955307262569833,\n",
              "  0.26955307262569833,\n",
              "  0.26955307262569833,\n",
              "  0.26955307262569833,\n",
              "  0.26955307262569833,\n",
              "  0.26955307262569833,\n",
              "  0.26955307262569833,\n",
              "  0.26955307262569833,\n",
              "  0.26955307262569833,\n",
              "  0.26955307262569833,\n",
              "  0.26955307262569833,\n",
              "  0.26955307262569833,\n",
              "  0.26955307262569833,\n",
              "  0.26955307262569833,\n",
              "  0.26955307262569833,\n",
              "  0.26955307262569833,\n",
              "  0.26955307262569833,\n",
              "  0.26955307262569833,\n",
              "  0.26955307262569833,\n",
              "  0.26955307262569833,\n",
              "  0.26955307262569833,\n",
              "  0.26955307262569833,\n",
              "  0.26955307262569833,\n",
              "  0.26955307262569833,\n",
              "  0.26955307262569833,\n",
              "  0.26955307262569833,\n",
              "  0.26955307262569833,\n",
              "  0.26955307262569833,\n",
              "  0.26955307262569833,\n",
              "  0.26955307262569833,\n",
              "  0.26955307262569833,\n",
              "  0.26955307262569833,\n",
              "  0.26955307262569833,\n",
              "  0.26955307262569833,\n",
              "  0.26955307262569833,\n",
              "  0.26955307262569833,\n",
              "  0.26955307262569833,\n",
              "  0.26955307262569833,\n",
              "  0.26955307262569833,\n",
              "  0.26955307262569833,\n",
              "  0.2681564245810056,\n",
              "  0.26955307262569833,\n",
              "  0.26955307262569833,\n",
              "  0.2681564245810056,\n",
              "  0.26955307262569833,\n",
              "  0.26955307262569833,\n",
              "  0.2681564245810056,\n",
              "  0.2681564245810056,\n",
              "  0.2681564245810056,\n",
              "  0.2681564245810056,\n",
              "  0.2681564245810056,\n",
              "  0.2681564245810056,\n",
              "  0.2681564245810056,\n",
              "  0.2681564245810056,\n",
              "  0.2681564245810056,\n",
              "  0.2681564245810056,\n",
              "  0.2681564245810056,\n",
              "  0.2681564245810056,\n",
              "  0.2681564245810056,\n",
              "  0.2681564245810056,\n",
              "  0.2681564245810056,\n",
              "  0.2681564245810056,\n",
              "  0.2681564245810056,\n",
              "  0.2681564245810056,\n",
              "  0.2681564245810056,\n",
              "  0.2681564245810056,\n",
              "  0.2681564245810056,\n",
              "  0.2681564245810056,\n",
              "  0.2681564245810056,\n",
              "  0.2681564245810056,\n",
              "  0.2681564245810056,\n",
              "  0.2681564245810056,\n",
              "  0.2681564245810056,\n",
              "  0.2681564245810056,\n",
              "  0.2681564245810056,\n",
              "  0.2681564245810056,\n",
              "  0.2681564245810056,\n",
              "  0.2681564245810056,\n",
              "  0.2681564245810056,\n",
              "  0.2681564245810056,\n",
              "  0.2681564245810056,\n",
              "  0.2681564245810056,\n",
              "  0.2681564245810056,\n",
              "  0.2681564245810056,\n",
              "  0.2681564245810056,\n",
              "  0.2681564245810056,\n",
              "  0.2681564245810056,\n",
              "  0.2681564245810056,\n",
              "  0.2681564245810056,\n",
              "  0.2681564245810056,\n",
              "  0.2681564245810056,\n",
              "  0.2681564245810056,\n",
              "  0.2681564245810056,\n",
              "  0.2681564245810056,\n",
              "  0.2681564245810056,\n",
              "  0.2681564245810056,\n",
              "  0.2681564245810056,\n",
              "  0.2681564245810056,\n",
              "  0.2681564245810056,\n",
              "  0.2681564245810056,\n",
              "  0.2681564245810056,\n",
              "  0.2681564245810056,\n",
              "  0.2681564245810056,\n",
              "  0.2681564245810056,\n",
              "  0.2681564245810056,\n",
              "  0.2681564245810056,\n",
              "  0.2681564245810056,\n",
              "  0.26955307262569833,\n",
              "  0.2681564245810056,\n",
              "  0.2681564245810056,\n",
              "  0.26955307262569833,\n",
              "  0.2681564245810056,\n",
              "  0.2681564245810056,\n",
              "  0.2681564245810056,\n",
              "  0.26955307262569833,\n",
              "  0.26955307262569833,\n",
              "  0.26536312849162014,\n",
              "  0.2681564245810056,\n",
              "  0.26955307262569833,\n",
              "  0.26536312849162014,\n",
              "  0.26536312849162014,\n",
              "  0.26675977653631283,\n",
              "  0.26955307262569833])"
            ]
          },
          "execution_count": 1437,
          "metadata": {},
          "output_type": "execute_result"
        }
      ],
      "source": [
        "model = Network()\n",
        "train()"
      ]
    },
    {
      "cell_type": "code",
      "execution_count": null,
      "metadata": {
        "id": "FmUaAGpQ_-DW"
      },
      "outputs": [],
      "source": [
        "#print((torch.argmax(model(X_train)[2],dim=1)))"
      ]
    },
    {
      "cell_type": "markdown",
      "metadata": {
        "id": "cJD0rEeC_-DW"
      },
      "source": [
        "### Deprecated code for testing"
      ]
    },
    {
      "cell_type": "markdown",
      "metadata": {
        "id": "nRzX_oVn_-DW"
      },
      "source": [
        "Examine weights at every layer"
      ]
    },
    {
      "cell_type": "code",
      "execution_count": null,
      "metadata": {
        "id": "QYDDpYsm_-DW",
        "outputId": "026684d1-a9be-4c3c-ce41-a2440c565084"
      },
      "outputs": [
        {
          "name": "stdout",
          "output_type": "stream",
          "text": [
            "torch.Size([10, 5]) torch.Size([5])\n",
            "tensor([[2.6562, 3.7774, 0.3459, 1.2566, 0.0000],\n",
            "        [1.6194, 2.9163, 0.0000, 0.8579, 0.0000],\n",
            "        [1.1465, 0.0000, 0.0000, 0.6298, 0.4821],\n",
            "        [1.4496, 4.4364, 0.0000, 1.0822, 0.0000],\n",
            "        [0.0000, 0.0000, 0.0000, 0.0000, 0.0000],\n",
            "        [1.6923, 0.5277, 0.0000, 1.1399, 0.6488],\n",
            "        [1.9688, 5.2606, 0.0000, 1.1872, 0.0000],\n",
            "        [1.4789, 4.2494, 1.1399, 0.9333, 0.0000],\n",
            "        [0.0000, 0.0000, 3.3393, 0.0000, 1.6777],\n",
            "        [1.4936, 3.9115, 0.0000, 1.0701, 0.0000]], grad_fn=<ReluBackward0>) \n",
            "\n",
            "  tensor([[1.5944, 0.0000, 0.0000, 2.2556, 0.0000],\n",
            "        [1.7080, 0.0000, 0.0000, 1.6231, 0.0000],\n",
            "        [1.6067, 1.7206, 0.0000, 0.2798, 0.0000],\n",
            "        [1.6616, 0.0000, 0.0000, 2.1532, 0.0000],\n",
            "        [1.6646, 0.0000, 0.0000, 0.0000, 0.0000],\n",
            "        [1.6118, 1.8190, 0.0000, 0.6776, 0.0000],\n",
            "        [1.6538, 0.0000, 0.0000, 2.6651, 0.0000],\n",
            "        [1.0944, 0.0000, 0.0000, 1.8052, 0.0000],\n",
            "        [0.0000, 3.6739, 0.0000, 0.0000, 0.0000],\n",
            "        [1.6876, 0.0000, 0.0000, 1.9652, 0.0000]], grad_fn=<ReluBackward0>) \n",
            "\n",
            " tensor([[ 2.5092,  2.2002,  3.3305,  2.4930,  2.1255,  3.3039,  2.0523],\n",
            "        [ 2.3738,  2.1171,  3.0749,  2.3419,  2.0558,  2.9915,  1.9177],\n",
            "        [-0.6906, -0.1610, -0.7297, -0.4851, -0.9122, -0.3108, -0.7055],\n",
            "        [ 2.5206,  2.2119,  3.3258,  2.5013,  2.1451,  3.2947,  2.0496],\n",
            "        [ 1.7975,  1.7309,  2.1674,  1.7290,  1.6648,  1.9054,  1.4412],\n",
            "        [-0.6986, -0.1792, -0.6833, -0.4687, -0.9687, -0.1836, -0.7169],\n",
            "        [ 2.6877,  2.3227,  3.5959,  2.6802,  2.2549,  3.6191,  2.1915],\n",
            "        [ 2.0156,  1.8409,  2.7117,  1.9948,  1.7079,  2.5881,  1.7288],\n",
            "        [-4.7700, -3.2386, -5.4994, -4.2494, -4.9475, -4.5216, -3.9157],\n",
            "        [ 2.4751,  2.1832,  3.2440,  2.4512,  2.1195,  3.1953,  2.0066]],\n",
            "       grad_fn=<AddmmBackward0>)\n"
          ]
        }
      ],
      "source": [
        "f1, f2, f3, s1, s2, s3 = model(X_train[0:10])\n",
        "\n",
        "print(f1.shape, s1.shape)\n",
        "print(f\"{f1} \\n\\n  {f2} \\n\\n {f3}\")"
      ]
    },
    {
      "cell_type": "markdown",
      "metadata": {
        "id": "kFTr4j_o_-DY"
      },
      "source": [
        "Figure out how to compute accuracy"
      ]
    },
    {
      "cell_type": "code",
      "execution_count": null,
      "metadata": {
        "id": "Y3XIglCD_-DY",
        "outputId": "9224b219-8709-4814-b4b3-ae288d642218"
      },
      "outputs": [
        {
          "name": "stdout",
          "output_type": "stream",
          "text": [
            "tensor([[1., 2., 3.],\n",
            "        [3., 4., 4.]]) tensor([[3., 0.]])\n",
            "1\n"
          ]
        }
      ],
      "source": [
        "predicted = torch.Tensor([[1, 2, 3], [3, 4, 4]])\n",
        "\n",
        "true = torch.Tensor([[3, 0]])\n",
        "    \n",
        "print(predicted, true)\n",
        "print(np.array(torch.argmax(predicted, dim=1) + 1 == true).sum())"
      ]
    },
    {
      "cell_type": "markdown",
      "metadata": {
        "id": "2ODIMS1G_-DY"
      },
      "source": [
        "Previous attempts at defining companion loss"
      ]
    },
    {
      "cell_type": "code",
      "execution_count": null,
      "metadata": {
        "id": "Rk5c3bCY_-DY",
        "outputId": "e0a918b4-9ecd-46af-c066-7c04884f66a0"
      },
      "outputs": [
        {
          "data": {
            "text/plain": [
              "'\\nfor row in f_labels:\\n    svm_pred = torch.unsqueeze(f_map @ svm_w, dim=0).T # shape = (# examples, 1)\\n    row = torch.unsqueeze(row, dim=0) # shape = (1, 6)\\n    f_label_svms = svm_pred.long() @ row\\n    loss += torch.sum(torch.nn.functional.relu(1 - (true_label_svm.T - f_label_svms))**2)\\nreturn loss\\n    #true_label_svm = torch.unsqueeze((f_map @ svm_w) * t_labels, dim=0).T # torch.Size([716, 1]) \\n'"
            ]
          },
          "execution_count": 603,
          "metadata": {},
          "output_type": "execute_result"
        }
      ],
      "source": [
        "\"\"\"\n",
        "deprecated code -- alternate ways I tried calculating loss\n",
        "i = 0\n",
        "for row in f_labels: # i.e. row = torch.Tensor([0, 2, 3, 4, 5, 6])\n",
        "    i += 1\n",
        "    if i % 10 == 0:\n",
        "        print(i)\n",
        "    for f_label in row:\n",
        "        # < w^(m), (Z^(m), y_k) >\n",
        "        f_label_svm = (f_map @ svm_w) * f_label\n",
        "\n",
        "        # max(0, 1 - (true_label_svm - f_label_svm))**2\n",
        "        loss += sum(torch.nn.functional.relu(1 - (true_label_svm - f_label_svm))**2)\n",
        "\"\"\"\n",
        "\n",
        "\"\"\"\n",
        "for row in f_labels:\n",
        "    svm_pred = torch.unsqueeze(f_map @ svm_w, dim=0).T # shape = (# examples, 1)\n",
        "    row = torch.unsqueeze(row, dim=0) # shape = (1, 6)\n",
        "    f_label_svms = svm_pred.long() @ row\n",
        "    loss += torch.sum(torch.nn.functional.relu(1 - (true_label_svm.T - f_label_svms))**2)\n",
        "return loss\n",
        "    #true_label_svm = torch.unsqueeze((f_map @ svm_w) * t_labels, dim=0).T # torch.Size([716, 1]) \n",
        "\"\"\"\n"
      ]
    },
    {
      "cell_type": "markdown",
      "metadata": {
        "id": "L7Z3ZNLq_-DY"
      },
      "source": [
        "Examining initial loss values"
      ]
    },
    {
      "cell_type": "code",
      "execution_count": null,
      "metadata": {
        "id": "tfq6GxjS_-DY",
        "outputId": "e93bc295-a5b1-42aa-9a9c-76a7328a43cd"
      },
      "outputs": [
        {
          "data": {
            "text/plain": [
              "tensor(5558.4961, grad_fn=<AddBackward0>)"
            ]
          },
          "execution_count": 1237,
          "metadata": {},
          "output_type": "execute_result"
        }
      ],
      "source": [
        "# test loss\n",
        "\n",
        "f1, f2, f3, svm1, svm2, svm3 = model(X_train)\n",
        "\n",
        "loss_1 = companion_loss(f1, svm1, Y_train)\n",
        "loss_2 = companion_loss(f2, svm2, Y_train)\n",
        "loss_3 = companion_loss(f3, svm3, Y_train)\n",
        "\n",
        "global_loss(model(X_train), Y_train, alphas=[0.1, 0.2, 0.3])"
      ]
    },
    {
      "cell_type": "markdown",
      "metadata": {
        "id": "nJZWDO8O_-DZ"
      },
      "source": [
        "Get familiar with re-shaping of input needed in loss function"
      ]
    },
    {
      "cell_type": "code",
      "execution_count": null,
      "metadata": {
        "id": "7F3ty-_Y_-DZ",
        "outputId": "cd4e995d-2895-482c-dcdb-955f03300064"
      },
      "outputs": [
        {
          "name": "stdout",
          "output_type": "stream",
          "text": [
            "torch.Size([1, 9]) torch.Size([1, 3]) torch.Size([1, 9])\n",
            "tensor([[  0.,  -1.,   2.],\n",
            "        [  0.,  -2.,   4.],\n",
            "        [  0.,  -3.,   6.],\n",
            "        [  0.,  -4.,   8.],\n",
            "        [  0.,  -5.,  10.],\n",
            "        [  0.,  -6.,  12.],\n",
            "        [  0.,  -7.,  14.],\n",
            "        [  0.,  -8.,  16.],\n",
            "        [  0., -10.,  20.]]) torch.Size([9, 3])\n",
            "tensor([[  0.,  -1.,   2.],\n",
            "        [  0.,  -2.,   4.],\n",
            "        [  0.,  -3.,   6.],\n",
            "        [  0.,  -4.,   8.],\n",
            "        [  0.,  -5.,  10.],\n",
            "        [  0.,  -6.,  12.],\n",
            "        [  0.,  -7.,  14.],\n",
            "        [  0.,  -8.,  16.],\n",
            "        [  0., -10.,  20.]])\n",
            "tensor([   0.,    0., 1216.])\n"
          ]
        }
      ],
      "source": [
        "\"\"\"\n",
        "Re-shaping is needed in companion_loss() because in class Network.forward(), svm weights are defined to be 1 dimension i.e. (#dim,) instead of (#dim,1).\n",
        "We didn't realize this before, so we did re-shaping of svm weights in the loss function.  Properly defining weights in the forward() could work, but then we'd have to\n",
        "change up the re-shaping stuff in the loss function\n",
        "\"\"\"\n",
        "\n",
        "a = torch.Tensor([1, 2, 3, 4, 5, 6, 7, 8, 10])\n",
        "a = torch.unsqueeze(a, dim=0)\n",
        "\n",
        "true = torch.ones(a.shape)\n",
        "\n",
        "f = torch.Tensor([0, -1, 2])\n",
        "f = torch.unsqueeze(f, dim=0)\n",
        "\n",
        "m = (a.T @ f)\n",
        "\n",
        "print(a.shape, f.shape, true.shape)\n",
        "print(m, m.shape)\n",
        "print(1 - (true.T - m))\n",
        "print(sum(torch.nn.functional.relu(1 - (true.T - m))**2))"
      ]
    },
    {
      "cell_type": "markdown",
      "metadata": {
        "id": "4fUYvGiK_-DZ"
      },
      "source": [
        "Broadcasting multiplication of the vector of predicted svm values and the 6 vectors of false labels"
      ]
    },
    {
      "cell_type": "code",
      "execution_count": null,
      "metadata": {
        "id": "bVSHmQSs_-DZ",
        "outputId": "9d7040af-a75e-40b2-f743-ed06638b4ce9"
      },
      "outputs": [
        {
          "name": "stdout",
          "output_type": "stream",
          "text": [
            "torch.Size([9, 1]) torch.Size([9, 3])\n",
            "tensor([[ 1.],\n",
            "        [ 2.],\n",
            "        [ 3.],\n",
            "        [ 4.],\n",
            "        [ 5.],\n",
            "        [ 6.],\n",
            "        [ 7.],\n",
            "        [ 8.],\n",
            "        [10.]])\n",
            "tensor([[ 1.,  1.,  1.],\n",
            "        [ 2.,  2.,  2.],\n",
            "        [ 3.,  3.,  3.],\n",
            "        [ 4.,  4.,  4.],\n",
            "        [ 5.,  5.,  5.],\n",
            "        [ 6.,  6.,  6.],\n",
            "        [ 7.,  7.,  7.],\n",
            "        [ 8.,  8.,  8.],\n",
            "        [10., 10., 10.]])\n",
            "tensor([[  1.,   1.,   1.],\n",
            "        [  4.,   4.,   4.],\n",
            "        [  9.,   9.,   9.],\n",
            "        [ 16.,  16.,  16.],\n",
            "        [ 25.,  25.,  25.],\n",
            "        [ 36.,  36.,  36.],\n",
            "        [ 49.,  49.,  49.],\n",
            "        [ 64.,  64.,  64.],\n",
            "        [100., 100., 100.]])\n"
          ]
        }
      ],
      "source": [
        "j = torch.cat([a] * 3, dim=0) #.squeeze(dim=1)\n",
        "\n",
        "print(a.T.shape, j.T.shape)\n",
        "\n",
        "print(a.T)\n",
        "print(j.T)\n",
        "print(a.T * j.T)"
      ]
    },
    {
      "cell_type": "code",
      "execution_count": null,
      "metadata": {
        "id": "iwUjBMCo_-Da",
        "outputId": "4ecc9044-d885-431d-ffdd-7b0c6ca9d146"
      },
      "outputs": [
        {
          "name": "stdout",
          "output_type": "stream",
          "text": [
            "torch.Size([1, 3])\n"
          ]
        },
        {
          "data": {
            "text/plain": [
              "tensor([[-3.5995e+09, -7.1990e+09],\n",
              "        [-4.6115e+09, -9.2229e+09],\n",
              "        [-1.0095e+10, -2.0191e+10],\n",
              "        ...,\n",
              "        [-3.0495e+09, -6.0990e+09],\n",
              "        [-3.0662e+09, -6.1324e+09],\n",
              "        [-4.7045e+09, -9.4091e+09]], grad_fn=<MmBackward0>)"
            ]
          },
          "execution_count": 460,
          "metadata": {},
          "output_type": "execute_result"
        }
      ],
      "source": [
        "svm_w = torch.randn(f1.shape[1])\n",
        "\n",
        "g = f1 @ svm_w\n",
        "g = torch.unsqueeze(g, dim=0).T\n",
        "\n",
        "print(torch.unsqueeze(torch.Tensor([1, 2, 3]), dim=0).shape)\n",
        "\n",
        "g @ torch.unsqueeze(torch.Tensor([1, 2]), dim=0)"
      ]
    }
  ],
  "metadata": {
    "interpreter": {
      "hash": "a209b2a29af6db15caeb87b5a469aa1eed57ecd42970a9baa7e0ed0c9978c8fe"
    },
    "kernelspec": {
      "display_name": "Python 3.9.7 ('base')",
      "language": "python",
      "name": "python3"
    },
    "language_info": {
      "codemirror_mode": {
        "name": "ipython",
        "version": 3
      },
      "file_extension": ".py",
      "mimetype": "text/x-python",
      "name": "python",
      "nbconvert_exporter": "python",
      "pygments_lexer": "ipython3",
      "version": "3.9.7"
    },
    "orig_nbformat": 4,
    "colab": {
      "name": "DSN.ipynb",
      "provenance": [],
      "include_colab_link": true
    }
  },
  "nbformat": 4,
  "nbformat_minor": 0
}
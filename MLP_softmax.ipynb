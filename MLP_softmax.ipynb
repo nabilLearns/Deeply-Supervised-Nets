{
  "nbformat": 4,
  "nbformat_minor": 0,
  "metadata": {
    "colab": {
      "name": "MLP_softmax.ipynb",
      "provenance": [],
      "collapsed_sections": []
    },
    "kernelspec": {
      "name": "python3",
      "display_name": "Python 3"
    },
    "language_info": {
      "name": "python"
    }
  },
  "cells": [
    {
      "cell_type": "markdown",
      "source": [
        "#MLP Softmax\n",
        "\n",
        "URL:https://colab.research.google.com/drive/1lQqb_Z5X_7qoLQzP5LlTeh00U8wp9fFg?usp=sharing"
      ],
      "metadata": {
        "id": "YtPit5x-0gGe"
      }
    },
    {
      "cell_type": "code",
      "execution_count": null,
      "metadata": {
        "colab": {
          "base_uri": "https://localhost:8080/"
        },
        "id": "fcmS7sFL4Jtq",
        "outputId": "e21d2365-95c2-4668-8331-424e70da9322"
      },
      "outputs": [
        {
          "output_type": "stream",
          "name": "stdout",
          "text": [
            "Drive already mounted at /content/drive; to attempt to forcibly remount, call drive.mount(\"/content/drive\", force_remount=True).\n"
          ]
        }
      ],
      "source": [
        "import numpy as np\n",
        "import os\n",
        "import pandas as pd\n",
        "import seaborn as sns\n",
        "from sklearn.impute import SimpleImputer\n",
        "from sklearn.preprocessing import OneHotEncoder\n",
        "from sklearn.model_selection import train_test_split, cross_val_score, GridSearchCV,RandomizedSearchCV,learning_curve\n",
        "from sklearn.linear_model import LogisticRegression, SGDClassifier\n",
        "from sklearn.neural_network import MLPClassifier\n",
        "from sklearn.impute import SimpleImputer\n",
        "from sklearn.metrics import roc_curve, auc, classification_report, confusion_matrix, accuracy_score, f1_score,confusion_matrix,make_scorer,log_loss\n",
        "from imblearn.over_sampling import SMOTE\n",
        "from scipy.stats import loguniform\n",
        "from sklearn.utils import resample\n",
        "from sklearn.utils.fixes import loguniform\n",
        "import matplotlib.pyplot as plt\n",
        "from google.colab import drive\n",
        "\n",
        "#only for google drive\n",
        "drive.mount('/content/drive')\n",
        "path2dataset=  '/content/drive/MyDrive/MIE424 Project - Group C/Dataset'\n",
        "path2csv = os.path.join(path2dataset,\"Date_Fruit_Datasets.csv\")"
      ]
    },
    {
      "cell_type": "code",
      "source": [
        "data=pd.read_csv(path2csv)\n",
        "#features have different values and ranges, need to normalize as per these statistics\n",
        "#print(np.around(data.describe().loc[['count','mean','std','min','max']],decimals=2))\n",
        "\n",
        "#normalize numerical features\n",
        "data.iloc[:,1:34]=data.iloc[:,1:34].apply(lambda x: (x-np.mean(x))/np.std(x))\n",
        "\n",
        "#split to X and Y\n",
        "X=data.iloc[:,1:34]\n",
        "Y= data[\"Class\"]\n",
        "\n",
        "#do splits \n",
        "#split to train and test\n",
        "X_train, X_test, Y_train, Y_test = train_test_split(X, Y, test_size=0.1, stratify=Y, random_state=1)\n",
        "# #split train into train and validation\n",
        "X_train, X_validation, Y_train, Y_validation = train_test_split(X_train, Y_train, test_size=1/9, stratify=Y_train, random_state=1)"
      ],
      "metadata": {
        "id": "Xhbb7nI55XPB"
      },
      "execution_count": null,
      "outputs": []
    },
    {
      "cell_type": "code",
      "source": [
        "initial_model = MLPClassifier()\n",
        "\n",
        "# #do grid search to do hyperparameter tuning\n",
        "\n",
        "dist_grid =dict(hidden_layer_sizes=[(50,100,100,50)],\n",
        "                alpha=loguniform(1e-7, 5),\n",
        "                solver=['lbfgs','sgd', 'adam'],\n",
        "                max_iter=np.linspace(100,100000000,500,dtype=\"int\"), \n",
        "                early_stopping=[True,False],\n",
        "                learning_rate=['constant','invscaling','adaptive'])\n",
        "\n",
        "#clf = GridSearchCV(initial_model,param_grid=param_grid,scoring='f1_weighted',n_jobs=-1)\n",
        "clf = RandomizedSearchCV(initial_model,param_distributions = dist_grid, scoring = 'accuracy',n_jobs=-1,n_iter=25)\n",
        "clf.fit(X_validation,Y_validation)\n",
        "best_params = clf.best_params_\n",
        "print(clf.best_params_)\n",
        "print(clf.best_score_)\n",
        "\n",
        "hidden_layer_sizes = best_params['hidden_layer_sizes']\n",
        "alpha = best_params['alpha']\n",
        "solver = best_params['solver']\n",
        "max_iter=best_params['max_iter']\n",
        "early_stopping=best_params['early_stopping']\n",
        "learning_rate=best_params['learning_rate']"
      ],
      "metadata": {
        "colab": {
          "base_uri": "https://localhost:8080/"
        },
        "id": "jN6IuA684-G_",
        "outputId": "1810e2ac-0db0-4a60-f039-a55857d95201"
      },
      "execution_count": null,
      "outputs": [
        {
          "output_type": "stream",
          "name": "stdout",
          "text": [
            "{'alpha': 0.033949965523182496, 'early_stopping': False, 'hidden_layer_sizes': (50, 100, 100, 50), 'learning_rate': 'invscaling', 'max_iter': 30661391, 'solver': 'adam'}\n",
            "0.9\n"
          ]
        }
      ]
    },
    {
      "cell_type": "code",
      "source": [
        "model = MLPClassifier(hidden_layer_sizes=hidden_layer_sizes,\n",
        "                      alpha=alpha,\n",
        "                      solver= solver,\n",
        "                      max_iter=max_iter, \n",
        "                      early_stopping=early_stopping,\n",
        "                      learning_rate=learning_rate\n",
        "                      )\n",
        "\n",
        "epochs = 300\n",
        "batches = 1700\n",
        "\n",
        "\n",
        "accuracy_train,loss_train, accuracy_test, loss_test = train_curves(X_train,Y_train,X_validation,Y_validation,epochs,batches,model)\n",
        "\n",
        "#as this is a multiclass classification, the output activation defaults to softmax \n",
        "#instead of logistic for binary classification\n",
        "print(\"Output Layer is \", model.out_activation_)\n",
        "\n",
        "print(\"Accuracy is \",accuracy_score(Y_test,model.predict(X_test)))\n",
        "\n",
        "print(\"F1 is \",f1_score(Y_test,model.predict(X_test),average='macro'))\n",
        "\n",
        "plt.plot(accuracy_train)\n",
        "plt.plot(accuracy_test)\n",
        "plt.xlabel('Epoch')\n",
        "plt.ylabel('Accuracy')\n",
        "plt.legend(['Training Curve','Validation Curve'],loc='upper right')\n",
        "plt.show()\n",
        "\n",
        "plt.plot(loss_train)\n",
        "plt.plot(loss_test)\n",
        "plt.xlabel('Epoch')\n",
        "plt.ylabel('Loss')\n",
        "plt.legend(['Training Curve','Validation Curve'],loc='upper right')\n",
        "plt.show()"
      ],
      "metadata": {
        "colab": {
          "base_uri": "https://localhost:8080/",
          "height": 593
        },
        "id": "P5DFViuX6poC",
        "outputId": "c3449d99-dfac-4f2c-ebaa-65cfbf172eee"
      },
      "execution_count": null,
      "outputs": [
        {
          "output_type": "stream",
          "name": "stdout",
          "text": [
            "Output Layer is  softmax\n",
            "Accuracy is  0.8333333333333334\n",
            "F1 is  0.7973684210526315\n"
          ]
        },
        {
          "output_type": "display_data",
          "data": {
            "text/plain": [
              "<Figure size 432x288 with 1 Axes>"
            ],
            "image/png": "[encoded data removed]"
          },
          "metadata": {
            "needs_background": "light"
          }
        },
        {
          "output_type": "display_data",
          "data": {
            "text/plain": [
              "<Figure size 432x288 with 1 Axes>"
            ],
            "image/png": "[encoded data removed]"
          },
          "metadata": {
            "needs_background": "light"
          }
        }
      ]
    },
    {
      "cell_type": "code",
      "source": [
        "def train_curves(X_train,Y_train,X_test,Y_test, epochs, batch_size,model):\n",
        "  training_samples= X_train.shape[0]\n",
        "  classes = np.unique(Y_train)\n",
        "  num_classes = classes.shape[0]\n",
        "  epoch =0 \n",
        "\n",
        "  accuracy_train = []\n",
        "  accuracy_test = []\n",
        "  loss_train=[]\n",
        "  loss_test=[]\n",
        "\n",
        "  while epoch < epochs:\n",
        "\n",
        "      #get a random permutation of row indices\n",
        "      indices = np.random.permutation(training_samples)\n",
        "      batch_index = 0\n",
        "      while True:\n",
        "          # iterate through a batch of the permutated indices\n",
        "          indices = indices[batch_index:batch_index + batch_size]\n",
        "          model.partial_fit(X_train.iloc[indices], Y_train.iloc[indices], classes=classes)\n",
        "          batch_index += batch_size\n",
        "\n",
        "          if batch_index >= training_samples:\n",
        "              break\n",
        "\n",
        "      #Accuracy TRAIN\n",
        "      accuracy_train.append(model.score(X_train, Y_train))\n",
        "\n",
        "      # Accuracy TEST\n",
        "      accuracy_test.append(model.score(X_test, Y_test))\n",
        "\n",
        "      #Loss Train\n",
        "      loss_train.append(log_loss(Y_train,model.predict_proba(X_train),labels=classes))\n",
        "\n",
        "      #Loss Test\n",
        "      loss_test.append(log_loss(Y_test,model.predict_proba(X_test),labels=classes))\n",
        "\n",
        "      epoch += 1\n",
        "\n",
        "  return accuracy_train,loss_train, accuracy_test, loss_test"
      ],
      "metadata": {
        "id": "guYnsRNUIsqH"
      },
      "execution_count": null,
      "outputs": []
    }
  ]
}
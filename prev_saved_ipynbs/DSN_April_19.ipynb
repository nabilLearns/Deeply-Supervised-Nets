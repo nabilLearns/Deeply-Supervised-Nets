{
  "cells": [
    {
      "cell_type": "markdown",
      "metadata": {
        "id": "view-in-github",
        "colab_type": "text"
      },
      "source": [
        "<a href=\"https://colab.research.google.com/github/nabilLearns/Deeply-Supervised-Nets/blob/master/DSN.ipynb\" target=\"_parent\"><img src=\"https://colab.research.google.com/assets/colab-badge.svg\" alt=\"Open In Colab\"/></a>"
      ]
    },
    {
      "cell_type": "markdown",
      "metadata": {
        "id": "iUOQAkECC3-N"
      },
      "source": [
        "## Get required modules"
      ]
    },
    {
      "cell_type": "code",
      "execution_count": null,
      "metadata": {
        "id": "IbnxRhQlC3-Q"
      },
      "outputs": [],
      "source": [
        "import torch\n",
        "import torch.nn as nn\n",
        "import torchvision\n",
        "import numpy as np\n",
        "import pandas as pd\n",
        "import matplotlib.pyplot as plt\n",
        "import os"
      ]
    },
    {
      "cell_type": "code",
      "execution_count": null,
      "metadata": {
        "id": "Is6UwQGiC3-S"
      },
      "outputs": [],
      "source": [
        "!pip --quiet install wget"
      ]
    },
    {
      "cell_type": "code",
      "execution_count": null,
      "metadata": {
        "id": "PpXIA1H4C3-T",
        "outputId": "7b5a8a53-9860-449e-84cd-d73f2227974d"
      },
      "outputs": [
        {
          "name": "stdout",
          "output_type": "stream",
          "text": [
            "/home/nabil/Documents/Code/Data_Classification\n",
            "/home/nabil/Documents/Code/Data_Classification/DateData\n"
          ]
        }
      ],
      "source": [
        "#import os\n",
        "#os.path.join(os.getcwd()\n",
        "print(os.getcwd())\n",
        "print(os.path.join(os.getcwd(), 'DateData'))"
      ]
    },
    {
      "cell_type": "markdown",
      "metadata": {
        "id": "od0g6GdmC3-U"
      },
      "source": [
        "## Download Dataset"
      ]
    },
    {
      "cell_type": "code",
      "execution_count": null,
      "metadata": {
        "id": "HKPIQh94C3-V"
      },
      "outputs": [],
      "source": [
        "# Download dataset in an .arff final into current working directory\n",
        "\n",
        "import wget, requests, io, os, shutil\n",
        "from zipfile import ZipFile\n",
        "\n",
        "data_url = \"https://www.muratkoklu.com/datasets/vtdhnd06.php\"\n",
        "req = requests.get(data_url)\n",
        "zip_file = ZipFile(io.BytesIO(req.content))\n",
        "path = os.path.join(os.getcwd())\n",
        "zip_file.extractall(path)\n",
        "\n",
        "shutil.move(os.path.join(os.getcwd(),'Date_Fruit_Datasets/Date_Fruit_Datasets.arff'), os.path.join(os.getcwd(), 'Date_Fruit_Datasets.arff'))\n",
        "shutil.rmtree(os.path.join(os.getcwd(),'Date_Fruit_Datasets'))\n"
      ]
    },
    {
      "cell_type": "code",
      "execution_count": null,
      "metadata": {
        "id": "mNMMruBYC3-X",
        "outputId": "317251a1-3a6c-4d8f-e608-44e7764e4acd"
      },
      "outputs": [
        {
          "name": "stdout",
          "output_type": "stream",
          "text": [
            "['Date_Fruit_Datasets.arff']\n"
          ]
        }
      ],
      "source": [
        "# Python script that converts .arff to .csv (not mine)\n",
        "# Source: https://github.com/haloboy777/arfftocsv/blob/master/arffToCsv.py\n",
        "\n",
        "#########################################\n",
        "# Project   : ARFF to CSV converter     #\n",
        "# Created   : 10/01/17 11:08:06         #\n",
        "# Author    : haloboy777                #\n",
        "# Licence   : MIT                       #\n",
        "#########################################\n",
        "\n",
        "# Importing library\n",
        "import os\n",
        "\n",
        "# Getting all the arff files from the current directory\n",
        "files = [arff for arff in os.listdir('.') if arff.endswith(\".arff\")]\n",
        "print(files)\n",
        "\n",
        "# Function for converting arff list to csv list\n",
        "def toCsv(text):\n",
        "    data = False\n",
        "    header = \"\"\n",
        "    new_content = []\n",
        "    for line in text:\n",
        "        if not data:\n",
        "            if \"@ATTRIBUTE\" in line or \"@attribute\" in line:\n",
        "                attributes = line.split()\n",
        "                if(\"@attribute\" in line):\n",
        "                    attri_case = \"@attribute\"\n",
        "                else:\n",
        "                    attri_case = \"@ATTRIBUTE\"\n",
        "                column_name = attributes[attributes.index(attri_case) + 1]\n",
        "                header = header + column_name + \",\"\n",
        "            elif \"@DATA\" in line or \"@data\" in line:\n",
        "                data = True\n",
        "                header = header[:-1]\n",
        "                header += '\\n'\n",
        "                new_content.append(header)\n",
        "        else:\n",
        "            new_content.append(line)\n",
        "    return new_content\n",
        "\n",
        "\n",
        "# Main loop for reading and writing files\n",
        "for file in files:\n",
        "    with open(file, \"r\") as inFile:\n",
        "        content = inFile.readlines()\n",
        "        name, ext = os.path.splitext(inFile.name)\n",
        "        new = toCsv(content)\n",
        "        with open(name + \".csv\", \"w\") as outFile:\n",
        "            outFile.writelines(new)"
      ]
    },
    {
      "cell_type": "markdown",
      "metadata": {
        "id": "zTbs9HFmC3-Z"
      },
      "source": [
        "## Preprocess Data"
      ]
    },
    {
      "cell_type": "code",
      "execution_count": null,
      "metadata": {
        "id": "LbeFchmCC3-a",
        "outputId": "f84b8798-06eb-4bd9-b165-ba5e2f7ab6f6"
      },
      "outputs": [
        {
          "name": "stdout",
          "output_type": "stream",
          "text": [
            "['BERHI' 'DEGLET' 'DOKOL' 'IRAQI' 'ROTANA' 'SAFAVI' 'SOGAY']\n",
            "<class 'pandas.core.frame.DataFrame'>\n",
            "RangeIndex: 898 entries, 0 to 897\n",
            "Data columns (total 35 columns):\n",
            " #   Column         Non-Null Count  Dtype  \n",
            "---  ------         --------------  -----  \n",
            " 0   AREA           898 non-null    int64  \n",
            " 1   PERIMETER      898 non-null    float64\n",
            " 2   MAJOR_AXIS     898 non-null    float64\n",
            " 3   MINOR_AXIS     898 non-null    float64\n",
            " 4   ECCENTRICITY   898 non-null    float64\n",
            " 5   EQDIASQ        898 non-null    float64\n",
            " 6   SOLIDITY       898 non-null    float64\n",
            " 7   CONVEX_AREA    898 non-null    int64  \n",
            " 8   EXTENT         898 non-null    float64\n",
            " 9   ASPECT_RATIO   898 non-null    float64\n",
            " 10  ROUNDNESS      898 non-null    float64\n",
            " 11  COMPACTNESS    898 non-null    float64\n",
            " 12  SHAPEFACTOR_1  898 non-null    float64\n",
            " 13  SHAPEFACTOR_2  898 non-null    float64\n",
            " 14  SHAPEFACTOR_3  898 non-null    float64\n",
            " 15  SHAPEFACTOR_4  898 non-null    float64\n",
            " 16  MeanRR         898 non-null    float64\n",
            " 17  MeanRG         898 non-null    float64\n",
            " 18  MeanRB         898 non-null    float64\n",
            " 19  StdDevRR       898 non-null    float64\n",
            " 20  StdDevRG       898 non-null    float64\n",
            " 21  StdDevRB       898 non-null    float64\n",
            " 22  SkewRR         898 non-null    float64\n",
            " 23  SkewRG         898 non-null    float64\n",
            " 24  SkewRB         898 non-null    float64\n",
            " 25  KurtosisRR     898 non-null    float64\n",
            " 26  KurtosisRG     898 non-null    float64\n",
            " 27  KurtosisRB     898 non-null    float64\n",
            " 28  EntropyRR      898 non-null    int64  \n",
            " 29  EntropyRG      898 non-null    int64  \n",
            " 30  EntropyRB      898 non-null    int64  \n",
            " 31  ALLdaub4RR     898 non-null    float64\n",
            " 32  ALLdaub4RG     898 non-null    float64\n",
            " 33  ALLdaub4RB     898 non-null    float64\n",
            " 34  Class          898 non-null    object \n",
            "dtypes: float64(29), int64(5), object(1)\n",
            "memory usage: 245.7+ KB\n",
            "None\n"
          ]
        }
      ],
      "source": [
        "data = pd.read_csv(\"Date_Fruit_Datasets.csv\")\n",
        "print(data['Class'].unique())\n",
        "print(data.info())\n",
        "\n",
        "\n",
        "# As you can see, the values need to be normalized"
      ]
    },
    {
      "cell_type": "markdown",
      "metadata": {
        "id": "IlxUgJefC3-c"
      },
      "source": [
        "### Generate train/val/test data splits"
      ]
    },
    {
      "cell_type": "code",
      "execution_count": null,
      "metadata": {
        "id": "JHhN4b0UC3-d",
        "outputId": "92c7ce76-e0da-4020-c640-3e0222d72ee2"
      },
      "outputs": [
        {
          "name": "stdout",
          "output_type": "stream",
          "text": [
            "[1 2 3 4 5 6 7]\n",
            "Class 1:, <class 'pandas.core.frame.DataFrame'>, (52, 35)\n",
            "Class 2:, <class 'pandas.core.frame.DataFrame'>, (78, 35)\n",
            "Class 3:, <class 'pandas.core.frame.DataFrame'>, (163, 35)\n",
            "Class 4:, <class 'pandas.core.frame.DataFrame'>, (57, 35)\n",
            "Class 5:, <class 'pandas.core.frame.DataFrame'>, (132, 35)\n",
            "Class 6:, <class 'pandas.core.frame.DataFrame'>, (159, 35)\n",
            "Class 7:, <class 'pandas.core.frame.DataFrame'>, (75, 35)\n"
          ]
        }
      ],
      "source": [
        "# Generate train/val/test data splits\n",
        "\n",
        "#print(data.info())\n",
        "#print(data['Class'].unique())\n",
        "\n",
        "normalized = (data - data.mean()) / data.std()\n",
        "data = normalized\n",
        "#print(normalized)\n",
        "\n",
        "data['Class'] = data['Class'].astype('category').cat.codes + 1\n",
        "print(data['Class'].unique())\n",
        "train, val, test = {}, {}, {}\n",
        "for date_type in data['Class'].unique(): #['DOKOL']\n",
        "\n",
        "    num_examples = data[data['Class'] == date_type].shape[0]\n",
        "    data[data['Class'] == date_type] = data[data['Class'] == date_type].sample(frac=1, random_state=42)\n",
        "\n",
        "    train[date_type] = data[data['Class'] == date_type].reset_index().drop(columns=['index']).iloc[0:int(num_examples*0.8)]#.values\n",
        "    val[date_type] = data[data['Class'] == date_type].reset_index().drop(columns=['index']).iloc[int(num_examples*0.8):int(num_examples*0.9)]#.values\n",
        "    test[date_type] = data[data['Class'] == date_type].reset_index().drop(columns=['index']).iloc[int(num_examples*0.9):]#.values\n",
        "\n",
        "    print(f\"Class {date_type}:, {type(train[date_type])}, {train[date_type].shape}\")\n",
        "\n",
        "#print(len(train))\n",
        "train, val, test = [pd.concat(split).sample(frac=1, random_state=1).reset_index(drop=True) for split in [train, val, test]]"
      ]
    },
    {
      "cell_type": "markdown",
      "metadata": {
        "id": "WjV7EEacC3-f"
      },
      "source": [
        "### Get data and label tensors from each dataframe split"
      ]
    },
    {
      "cell_type": "code",
      "execution_count": null,
      "metadata": {
        "id": "NfmnxiNMC3-g"
      },
      "outputs": [],
      "source": [
        "# Get data and label tensors from each split dataframe\n",
        "\n",
        "X_train = torch.Tensor(train.values[:,:-1])\n",
        "Y_train = torch.Tensor(train.values[:,-1])\n",
        "\n",
        "X_val = torch.Tensor(val.values[:,:-1])\n",
        "Y_val = torch.Tensor(val.values[:,-1])\n",
        "\n",
        "X_test = torch.Tensor(test.values[:,:-1])\n",
        "Y_test = torch.Tensor(test.values[:,-1])"
      ]
    },
    {
      "cell_type": "code",
      "execution_count": null,
      "metadata": {
        "id": "8DiHp8BjC3-h",
        "outputId": "9c496d62-3a44-492c-ba0c-83779a059cc1"
      },
      "outputs": [
        {
          "name": "stdout",
          "output_type": "stream",
          "text": [
            "tensor([1., 2., 3., 4., 5., 6., 7.])\n"
          ]
        }
      ],
      "source": [
        "X_train.shape"
      ]
    },
    {
      "cell_type": "markdown",
      "metadata": {
        "id": "KlSNdkwIC3-h"
      },
      "source": [
        "## Define Model Architecture and Loss"
      ]
    },
    {
      "cell_type": "code",
      "execution_count": null,
      "metadata": {
        "id": "MOTn5S-nC3-i"
      },
      "outputs": [],
      "source": [
        "# define model\n",
        "torch.manual_seed(0)\n",
        "\n",
        "class Network(nn.Module):\n",
        "    def __init__(self, n_in=34, n_hidden=64, n_classes=7):\n",
        "        super(Network, self).__init__()\n",
        "        self.mapping1 = nn.Linear(n_in, n_hidden)\n",
        "        self.mapping2 = nn.Linear(n_hidden, 32)\n",
        "        self.mapping3 = nn.Linear(32, n_classes)\n",
        "        self.relu = nn.ReLU()\n",
        "\n",
        "        self.svm_1 = torch.ones((n_hidden,1), requires_grad=True)\n",
        "        #nn.init.uniform_(self.svm_1, -0.01, 0.01)\n",
        "        nn.init.xavier_uniform_(self.svm_1)#, -0.01, 0.01)\n",
        "\n",
        "        self.svm_2 = torch.ones((32,1), requires_grad=True)\n",
        "        #nn.init.uniform_(self.svm_2, -0.1, 0.1)\n",
        "        nn.init.xavier_uniform_(self.svm_2)\n",
        "        #nn.init.uniform_(self.svm_2, -0.01, 0.01)\n",
        "\n",
        "        self.svm_3 = torch.ones((n_classes,1), requires_grad=True)\n",
        "        #nn.init.normal_(self.svm_3, -0.01, 0.001)\n",
        "        nn.init.xavier_uniform_(self.svm_3)\n",
        "        #nn.init.normal_(self.svm_3, -0.001, 0.001)\n",
        "\n",
        "        #self.w = nn.Parameter(torch.randn(1, 2), requires_grad=True)\n",
        "        #self.dropout = nn.Dropout(p=0.8)\n",
        "\n",
        "    def forward(self, x):\n",
        "        f_map1 = (self.relu(self.mapping1(x)))\n",
        "        f_map2 = self.relu(self.mapping2(f_map1))\n",
        "        f_map3 = self.mapping3(f_map2)\n",
        "\n",
        "        svm_1 = self.svm_1\n",
        "        svm_2 = self.svm_2\n",
        "        svm_3 = self.svm_3\n",
        "                \n",
        "        return [f_map1, f_map2, f_map3, svm_1, svm_2, svm_3]\n",
        "\n",
        "\n",
        "def companion_loss(f_map, svm_w, t_labels, n_labels=7):\n",
        "    \"\"\"\n",
        "    Implements L2-SVM companion objective loss described by equations (4) and (5) of the \"Deeply Supervised Nets\" paper ([Gallagher et. al, 2014])\n",
        "\n",
        "    parameters\n",
        "    ----------\n",
        "    f_map: of shape (BATCH_SIZE x NUM_FEATURES)\n",
        "    svm_w: svm weights\n",
        "    t_labels: vector of labels\n",
        "    \"\"\"\n",
        "\n",
        "    loss = 0\n",
        "    all_labels = torch.arange(n_labels) + 1\n",
        "\n",
        "    f_labels = [all_labels[all_labels != t_labels[i]] for i in range(len(t_labels))] # f_labels.shape = (# examples, 6), each row has labels != t_label\n",
        "    f_labels = torch.stack(f_labels)\n",
        "\n",
        "    #print(f_map.shape, svm_w.shape)#, (f_map@svm_w).shape)\n",
        "    svm_pred = (f_map @ svm_w)#.T #torch.unsqueeze(f_map @ svm_w, dim=0).T # torch.Size([716, 1])\n",
        "\n",
        "    # < w^(m), (Z^(m), y) >\n",
        "    true_label_svm = svm_pred * torch.unsqueeze(t_labels,dim=0).T # torch.Size([716, 1])\n",
        "    \n",
        "    # < w^(m), (Z^(m), y_k) > for all k\n",
        "    f_labels_svm = svm_pred * f_labels # torch.Size([716, 6])\n",
        "\n",
        "    #print(svm_pred.shape, true_label_svm.shape, f_labels_svm.shape, f_labels.shape)\n",
        "\n",
        "    loss = torch.sum(torch.nn.functional.relu(1 - (true_label_svm - f_labels_svm))**2)#**2\n",
        "    \n",
        "    return loss\n",
        "\n",
        "#global_loss = lambda data: torch.sum([companion_loss(f_map) for f_map in Network(data)])\n",
        "def global_loss(model_out: list, Y, alphas: list, gamma = 20):#200):#200#0.05):\n",
        "    \"\"\"\n",
        "    Return overall combined objective function as specified in eq. (3) of [Gallagher et. al, 2014]\n",
        "    \n",
        "    parameters\n",
        "    ----------\n",
        "    model_out: [f_map1, f_map2, f_map3, svm1, svm2, svm3]\n",
        "    alphas: list of alpha values (see eq. (3), and pg. 4 of [Gallagher et. al, 2014])\n",
        "    gamma: see pg. 4 of [Gallagher et. al, 2014]\n",
        "    \"\"\"\n",
        "\n",
        "    n_layers = len(model_out) // 2\n",
        "    companion_losses = [companion_loss(model_out[m], model_out[m+n_layers], Y) for m in range(n_layers)]\n",
        "    \n",
        "    f_layer_loss = torch.linalg.norm(model_out[-1])**2 + companion_losses[-1]\n",
        "    modified_companion_losses = [alphas[m] * torch.nn.functional.relu(torch.linalg.norm(model_out[m + n_layers])**2 + companion_losses[m] - gamma) for m in range(n_layers - 1)]\n",
        "    global_loss = f_layer_loss + sum(modified_companion_losses)\n",
        "    \n",
        "    #print(companion_losses)\n",
        "    #print(\"norms: \", torch.norm(model_out[-1]), torch.norm(model_out[-2]))\n",
        "    return global_loss\n",
        "    "
      ]
    },
    {
      "cell_type": "markdown",
      "metadata": {
        "id": "WnuTbvtJC3-j"
      },
      "source": [
        "## Train"
      ]
    },
    {
      "cell_type": "code",
      "execution_count": null,
      "metadata": {
        "id": "wHjoe_-7C3-k"
      },
      "outputs": [],
      "source": [
        "#CEL = nn.CrossEntropyLoss(ignore_index=1)\n",
        "\n",
        "def train(num_epochs = 300):\n",
        "    opt = torch.optim.SGD(model.parameters(), lr=0.000001, momentum=0.9, weight_decay=0.01)\n",
        "    #opt = torch.optim.SGD(model.parameters(), lr=0.00000001, momentum=0.9, weight_decay=0.01) for xavier init\n",
        "    #opt = torch.optim.Adam(model.parameters(), lr=0.001)\n",
        "    epoch_train_losses = []\n",
        "    epoch_train_accs = []\n",
        "    alphas = [0.01, 0.1] #[14, 13]#[8, 4] #[14, 13] #[0.1, 0.1]\n",
        "\n",
        "    epoch_val_losses = []\n",
        "    epoch_val_accs = []\n",
        "    \n",
        "    for epoch in range(num_epochs):\n",
        "        avg_train_loss = 0\n",
        "        avg_val_loss = 0\n",
        "        train_acc = 0\n",
        "        val_acc = 0\n",
        "        if epoch % (int)(num_epochs*0.2) == 0 and epoch != 0:\n",
        "            print(f\"EPOCH {epoch}\")\n",
        "            print(torch.linalg.norm(model(X_train)[3].grad))\n",
        "            print(torch.linalg.norm(model(X_train)[4].grad))\n",
        "            print(torch.linalg.norm(model(X_train)[5].grad))\n",
        "            \n",
        "        if epoch == 2 or epoch == num_epochs - 1: ##% (int)(num_epochs * 0.2) == 0:\n",
        "            #print(f\"EPOCH {epoch}\")\n",
        "            #print(torch.nn.functional.softmax(model(X_train)[1][0:10],dim=1))\n",
        "            #print(torch.argmax(model(X_train)[2][:],dim=1))\n",
        "            #print(model(X_train)[3][0:5])\n",
        "            #print(model(X_train)[2][0:5])\n",
        "            #print(torch.linalg.norm(model(X_train)[3].grad))\n",
        "            #print(torch.linalg.norm(model(X_train)[4].grad))\n",
        "            #print(torch.linalg.norm(model(X_train)[5].grad))\n",
        "            pass\n",
        "\n",
        "        batch_sz = 125\n",
        "        alphas = [a * 0.1 * (1 - epoch / num_epochs) for a in alphas]\n",
        "        \n",
        "        for batch_idx in range(0, X_train.shape[0], batch_sz):\n",
        "\n",
        "            opt.zero_grad()\n",
        "            L = global_loss(model(X_train[batch_idx:batch_idx+batch_sz]), Y_train[batch_idx:batch_idx+batch_sz], alphas)\n",
        "            L.backward()\n",
        "            opt.step()\n",
        "\n",
        "            avg_train_loss += L.item()\n",
        "            train_batch_pred = torch.argmax(model(X_train[batch_idx:batch_idx+batch_sz])[2],dim=1) + 1\n",
        "            train_batch_true = Y_train[batch_idx:batch_idx+batch_sz]\n",
        "            train_acc += np.array(train_batch_pred == train_batch_true).sum()\n",
        "\n",
        "        \n",
        "        for batch_idx in range(0, X_val.shape[0], batch_sz):\n",
        "            avg_val_loss += global_loss(model(X_val[batch_idx:batch_idx+batch_sz]), Y_val[batch_idx:batch_idx+batch_sz], alphas).item()\n",
        "\n",
        "            val_batch_pred = torch.argmax(model(X_val[batch_idx:batch_idx+batch_sz])[2],dim=1)+1\n",
        "            val_batch_true = Y_val[batch_idx:batch_idx+batch_sz]\n",
        "            val_acc += np.array(val_batch_pred == val_batch_true).sum()\n",
        "        \n",
        "    \n",
        "        epoch_train_losses.append(avg_train_loss / X_train.shape[0])\n",
        "        epoch_train_accs.append(train_acc / X_train.shape[0])\n",
        "        epoch_val_losses.append(avg_val_loss / X_val.shape[0])\n",
        "        epoch_val_accs.append(val_acc / X_val.shape[0])\n",
        "        \n",
        "    plt.title(\"Train vs. Validation Loss\")\n",
        "    plt.plot(epoch_train_losses, label=\"Train\")\n",
        "    plt.plot(epoch_val_losses, label=\"Validation\")\n",
        "    plt.ylabel('Loss')\n",
        "    plt.xlabel('Epoch #')\n",
        "    plt.show()\n",
        "\n",
        "    plt.title(\"Train vs. Validation Accuracy\")\n",
        "    plt.plot(epoch_train_accs, label=\"Train\")\n",
        "    plt.plot(epoch_val_accs, label=\"Validation\")\n",
        "    plt.ylabel('Accuracy')\n",
        "    plt.xlabel('Epoch #')\n",
        "    plt.show()\n",
        "    \n",
        "    return epoch_losses, epoch_accs"
      ]
    },
    {
      "cell_type": "code",
      "execution_count": null,
      "metadata": {
        "id": "U2jgzBqmC3-l",
        "outputId": "16ebbecc-c339-48dc-b33f-e5ea6973a8de"
      },
      "outputs": [
        {
          "name": "stdout",
          "output_type": "stream",
          "text": [
            "EPOCH 60\n",
            "tensor(47.5148)\n",
            "tensor(210.7481)\n",
            "tensor(7475.9316)\n",
            "EPOCH 120\n",
            "tensor(47.5148)\n",
            "tensor(210.7481)\n",
            "tensor(12368.0469)\n",
            "EPOCH 180\n",
            "tensor(47.5148)\n",
            "tensor(210.7481)\n",
            "tensor(18936.2344)\n",
            "EPOCH 240\n",
            "tensor(47.5148)\n",
            "tensor(210.7481)\n",
            "tensor(25526.9863)\n"
          ]
        },
        {
          "data": {
            "image/png": "[encoded data removed]",
            "text/plain": [
              "<Figure size 432x288 with 1 Axes>"
            ]
          },
          "metadata": {
            "needs_background": "light"
          },
          "output_type": "display_data"
        },
        {
          "data": {
            "image/png": "[encoded data removed]",
            "text/plain": [
              "<Figure size 432x288 with 1 Axes>"
            ]
          },
          "metadata": {
            "needs_background": "light"
          },
          "output_type": "display_data"
        }
      ],
      "source": [
        "model = Network()\n",
        "epoch_losses, epoch_accs = train()"
      ]
    },
    {
      "cell_type": "code",
      "execution_count": null,
      "metadata": {
        "id": "XT5iOk5RC3-l",
        "outputId": "aecdc052-6f17-4404-f71f-9a35a345e2db"
      },
      "outputs": [
        {
          "name": "stdout",
          "output_type": "stream",
          "text": [
            "tensor([0, 1, 2, 3, 4, 6])\n"
          ]
        }
      ],
      "source": [
        "print((torch.argmax(model(X_train)[2],dim=1)).unique())\n",
        "#print(model(X_train)[2])"
      ]
    },
    {
      "cell_type": "markdown",
      "metadata": {
        "id": "8KJYetlXC3-m"
      },
      "source": [
        "### Deprecated code for testing"
      ]
    },
    {
      "cell_type": "markdown",
      "metadata": {
        "id": "BWFtVfAjC3-m"
      },
      "source": [
        "Examine weights at every layer"
      ]
    },
    {
      "cell_type": "code",
      "execution_count": null,
      "metadata": {
        "id": "FZTvoYSSC3-m",
        "outputId": "8d2dc733-50bf-414a-9b3a-fa3b14ac3296"
      },
      "outputs": [
        {
          "name": "stdout",
          "output_type": "stream",
          "text": [
            "torch.Size([10, 5]) torch.Size([5])\n",
            "tensor([[2.6562, 3.7774, 0.3459, 1.2566, 0.0000],\n",
            "        [1.6194, 2.9163, 0.0000, 0.8579, 0.0000],\n",
            "        [1.1465, 0.0000, 0.0000, 0.6298, 0.4821],\n",
            "        [1.4496, 4.4364, 0.0000, 1.0822, 0.0000],\n",
            "        [0.0000, 0.0000, 0.0000, 0.0000, 0.0000],\n",
            "        [1.6923, 0.5277, 0.0000, 1.1399, 0.6488],\n",
            "        [1.9688, 5.2606, 0.0000, 1.1872, 0.0000],\n",
            "        [1.4789, 4.2494, 1.1399, 0.9333, 0.0000],\n",
            "        [0.0000, 0.0000, 3.3393, 0.0000, 1.6777],\n",
            "        [1.4936, 3.9115, 0.0000, 1.0701, 0.0000]], grad_fn=<ReluBackward0>) \n",
            "\n",
            "  tensor([[1.5944, 0.0000, 0.0000, 2.2556, 0.0000],\n",
            "        [1.7080, 0.0000, 0.0000, 1.6231, 0.0000],\n",
            "        [1.6067, 1.7206, 0.0000, 0.2798, 0.0000],\n",
            "        [1.6616, 0.0000, 0.0000, 2.1532, 0.0000],\n",
            "        [1.6646, 0.0000, 0.0000, 0.0000, 0.0000],\n",
            "        [1.6118, 1.8190, 0.0000, 0.6776, 0.0000],\n",
            "        [1.6538, 0.0000, 0.0000, 2.6651, 0.0000],\n",
            "        [1.0944, 0.0000, 0.0000, 1.8052, 0.0000],\n",
            "        [0.0000, 3.6739, 0.0000, 0.0000, 0.0000],\n",
            "        [1.6876, 0.0000, 0.0000, 1.9652, 0.0000]], grad_fn=<ReluBackward0>) \n",
            "\n",
            " tensor([[ 2.5092,  2.2002,  3.3305,  2.4930,  2.1255,  3.3039,  2.0523],\n",
            "        [ 2.3738,  2.1171,  3.0749,  2.3419,  2.0558,  2.9915,  1.9177],\n",
            "        [-0.6906, -0.1610, -0.7297, -0.4851, -0.9122, -0.3108, -0.7055],\n",
            "        [ 2.5206,  2.2119,  3.3258,  2.5013,  2.1451,  3.2947,  2.0496],\n",
            "        [ 1.7975,  1.7309,  2.1674,  1.7290,  1.6648,  1.9054,  1.4412],\n",
            "        [-0.6986, -0.1792, -0.6833, -0.4687, -0.9687, -0.1836, -0.7169],\n",
            "        [ 2.6877,  2.3227,  3.5959,  2.6802,  2.2549,  3.6191,  2.1915],\n",
            "        [ 2.0156,  1.8409,  2.7117,  1.9948,  1.7079,  2.5881,  1.7288],\n",
            "        [-4.7700, -3.2386, -5.4994, -4.2494, -4.9475, -4.5216, -3.9157],\n",
            "        [ 2.4751,  2.1832,  3.2440,  2.4512,  2.1195,  3.1953,  2.0066]],\n",
            "       grad_fn=<AddmmBackward0>)\n"
          ]
        }
      ],
      "source": [
        "f1, f2, f3, s1, s2, s3 = model(X_train[0:10])\n",
        "\n",
        "print(f1.shape, s1.shape)\n",
        "print(f\"{f1} \\n\\n  {f2} \\n\\n {f3}\")"
      ]
    },
    {
      "cell_type": "markdown",
      "metadata": {
        "id": "BwvZLvrFC3-n"
      },
      "source": [
        "Figure out how to compute accuracy"
      ]
    },
    {
      "cell_type": "code",
      "execution_count": null,
      "metadata": {
        "id": "i5ab2zOSC3-o",
        "outputId": "ba6b3ed6-be9e-4c58-ca17-28af58e5b666"
      },
      "outputs": [
        {
          "name": "stdout",
          "output_type": "stream",
          "text": [
            "tensor([[1., 2., 3.],\n",
            "        [3., 4., 4.]]) tensor([[3., 0.]])\n",
            "1\n"
          ]
        }
      ],
      "source": [
        "predicted = torch.Tensor([[1, 2, 3], [3, 4, 4]])\n",
        "\n",
        "true = torch.Tensor([[3, 0]])\n",
        "    \n",
        "print(predicted, true)\n",
        "print(np.array(torch.argmax(predicted, dim=1) + 1 == true).sum())"
      ]
    },
    {
      "cell_type": "markdown",
      "metadata": {
        "id": "Hkbf5YJ-C3-o"
      },
      "source": [
        "Previous attempts at defining companion loss"
      ]
    },
    {
      "cell_type": "code",
      "execution_count": null,
      "metadata": {
        "id": "4BoRw64sC3-q",
        "outputId": "ba144a5f-4396-4587-952a-ce378c432225"
      },
      "outputs": [
        {
          "data": {
            "text/plain": [
              "'\\nfor row in f_labels:\\n    svm_pred = torch.unsqueeze(f_map @ svm_w, dim=0).T # shape = (# examples, 1)\\n    row = torch.unsqueeze(row, dim=0) # shape = (1, 6)\\n    f_label_svms = svm_pred.long() @ row\\n    loss += torch.sum(torch.nn.functional.relu(1 - (true_label_svm.T - f_label_svms))**2)\\nreturn loss\\n    #true_label_svm = torch.unsqueeze((f_map @ svm_w) * t_labels, dim=0).T # torch.Size([716, 1]) \\n'"
            ]
          },
          "execution_count": 603,
          "metadata": {},
          "output_type": "execute_result"
        }
      ],
      "source": [
        "\"\"\"\n",
        "deprecated code -- alternate ways I tried calculating loss\n",
        "i = 0\n",
        "for row in f_labels: # i.e. row = torch.Tensor([0, 2, 3, 4, 5, 6])\n",
        "    i += 1\n",
        "    if i % 10 == 0:\n",
        "        print(i)\n",
        "    for f_label in row:\n",
        "        # < w^(m), (Z^(m), y_k) >\n",
        "        f_label_svm = (f_map @ svm_w) * f_label\n",
        "\n",
        "        # max(0, 1 - (true_label_svm - f_label_svm))**2\n",
        "        loss += sum(torch.nn.functional.relu(1 - (true_label_svm - f_label_svm))**2)\n",
        "\"\"\"\n",
        "\n",
        "\"\"\"\n",
        "for row in f_labels:\n",
        "    svm_pred = torch.unsqueeze(f_map @ svm_w, dim=0).T # shape = (# examples, 1)\n",
        "    row = torch.unsqueeze(row, dim=0) # shape = (1, 6)\n",
        "    f_label_svms = svm_pred.long() @ row\n",
        "    loss += torch.sum(torch.nn.functional.relu(1 - (true_label_svm.T - f_label_svms))**2)\n",
        "return loss\n",
        "    #true_label_svm = torch.unsqueeze((f_map @ svm_w) * t_labels, dim=0).T # torch.Size([716, 1]) \n",
        "\"\"\"\n"
      ]
    },
    {
      "cell_type": "markdown",
      "metadata": {
        "id": "Nd9UdAZ4C3-q"
      },
      "source": [
        "Examining initial loss values"
      ]
    },
    {
      "cell_type": "code",
      "execution_count": null,
      "metadata": {
        "id": "Pv_wj8NRC3-r",
        "outputId": "25da2a22-b801-4f7c-c7e4-a5116cd14ebe"
      },
      "outputs": [
        {
          "data": {
            "text/plain": [
              "tensor(5558.4961, grad_fn=<AddBackward0>)"
            ]
          },
          "execution_count": 1237,
          "metadata": {},
          "output_type": "execute_result"
        }
      ],
      "source": [
        "# test loss\n",
        "\n",
        "f1, f2, f3, svm1, svm2, svm3 = model(X_train)\n",
        "\n",
        "loss_1 = companion_loss(f1, svm1, Y_train)\n",
        "loss_2 = companion_loss(f2, svm2, Y_train)\n",
        "loss_3 = companion_loss(f3, svm3, Y_train)\n",
        "\n",
        "global_loss(model(X_train), Y_train, alphas=[0.1, 0.2, 0.3])"
      ]
    },
    {
      "cell_type": "markdown",
      "metadata": {
        "id": "y6kGzsjEC3-r"
      },
      "source": [
        "Get familiar with re-shaping of input needed in loss function"
      ]
    },
    {
      "cell_type": "code",
      "execution_count": null,
      "metadata": {
        "id": "RiIFSzsXC3-r",
        "outputId": "4382c799-3f62-4fdb-8887-6420d9496f14"
      },
      "outputs": [
        {
          "name": "stdout",
          "output_type": "stream",
          "text": [
            "torch.Size([1, 9]) torch.Size([1, 3]) torch.Size([1, 9])\n",
            "tensor([[  0.,  -1.,   2.],\n",
            "        [  0.,  -2.,   4.],\n",
            "        [  0.,  -3.,   6.],\n",
            "        [  0.,  -4.,   8.],\n",
            "        [  0.,  -5.,  10.],\n",
            "        [  0.,  -6.,  12.],\n",
            "        [  0.,  -7.,  14.],\n",
            "        [  0.,  -8.,  16.],\n",
            "        [  0., -10.,  20.]]) torch.Size([9, 3])\n",
            "tensor([[  0.,  -1.,   2.],\n",
            "        [  0.,  -2.,   4.],\n",
            "        [  0.,  -3.,   6.],\n",
            "        [  0.,  -4.,   8.],\n",
            "        [  0.,  -5.,  10.],\n",
            "        [  0.,  -6.,  12.],\n",
            "        [  0.,  -7.,  14.],\n",
            "        [  0.,  -8.,  16.],\n",
            "        [  0., -10.,  20.]])\n",
            "tensor([   0.,    0., 1216.])\n"
          ]
        }
      ],
      "source": [
        "\"\"\"\n",
        "Re-shaping is needed in companion_loss() because in class Network.forward(), svm weights are defined to be 1 dimension i.e. (#dim,) instead of (#dim,1).\n",
        "We didn't realize this before, so we did re-shaping of svm weights in the loss function.  Properly defining weights in the forward() could work, but then we'd have to\n",
        "change up the re-shaping stuff in the loss function\n",
        "\"\"\"\n",
        "\n",
        "a = torch.Tensor([1, 2, 3, 4, 5, 6, 7, 8, 10])\n",
        "a = torch.unsqueeze(a, dim=0)\n",
        "\n",
        "true = torch.ones(a.shape)\n",
        "\n",
        "f = torch.Tensor([0, -1, 2])\n",
        "f = torch.unsqueeze(f, dim=0)\n",
        "\n",
        "m = (a.T @ f)\n",
        "\n",
        "print(a.shape, f.shape, true.shape)\n",
        "print(m, m.shape)\n",
        "print(1 - (true.T - m))\n",
        "print(sum(torch.nn.functional.relu(1 - (true.T - m))**2))"
      ]
    },
    {
      "cell_type": "markdown",
      "metadata": {
        "id": "iCcjCniwC3-s"
      },
      "source": [
        "Broadcasting multiplication of the vector of predicted svm values and the 6 vectors of false labels"
      ]
    },
    {
      "cell_type": "code",
      "execution_count": null,
      "metadata": {
        "id": "WoHshEfqC3-s",
        "outputId": "1504540a-7c64-42db-b217-2b0dd839addf"
      },
      "outputs": [
        {
          "name": "stdout",
          "output_type": "stream",
          "text": [
            "torch.Size([9, 1]) torch.Size([9, 3])\n",
            "tensor([[ 1.],\n",
            "        [ 2.],\n",
            "        [ 3.],\n",
            "        [ 4.],\n",
            "        [ 5.],\n",
            "        [ 6.],\n",
            "        [ 7.],\n",
            "        [ 8.],\n",
            "        [10.]])\n",
            "tensor([[ 1.,  1.,  1.],\n",
            "        [ 2.,  2.,  2.],\n",
            "        [ 3.,  3.,  3.],\n",
            "        [ 4.,  4.,  4.],\n",
            "        [ 5.,  5.,  5.],\n",
            "        [ 6.,  6.,  6.],\n",
            "        [ 7.,  7.,  7.],\n",
            "        [ 8.,  8.,  8.],\n",
            "        [10., 10., 10.]])\n",
            "tensor([[  1.,   1.,   1.],\n",
            "        [  4.,   4.,   4.],\n",
            "        [  9.,   9.,   9.],\n",
            "        [ 16.,  16.,  16.],\n",
            "        [ 25.,  25.,  25.],\n",
            "        [ 36.,  36.,  36.],\n",
            "        [ 49.,  49.,  49.],\n",
            "        [ 64.,  64.,  64.],\n",
            "        [100., 100., 100.]])\n"
          ]
        }
      ],
      "source": [
        "j = torch.cat([a] * 3, dim=0) #.squeeze(dim=1)\n",
        "\n",
        "print(a.T.shape, j.T.shape)\n",
        "\n",
        "print(a.T)\n",
        "print(j.T)\n",
        "print(a.T * j.T)"
      ]
    },
    {
      "cell_type": "code",
      "execution_count": null,
      "metadata": {
        "id": "VIgOSjkPC3-t",
        "outputId": "ae760be6-7bcb-4365-be1e-0f5831ade1be"
      },
      "outputs": [
        {
          "name": "stdout",
          "output_type": "stream",
          "text": [
            "torch.Size([1, 3])\n"
          ]
        },
        {
          "data": {
            "text/plain": [
              "tensor([[-3.5995e+09, -7.1990e+09],\n",
              "        [-4.6115e+09, -9.2229e+09],\n",
              "        [-1.0095e+10, -2.0191e+10],\n",
              "        ...,\n",
              "        [-3.0495e+09, -6.0990e+09],\n",
              "        [-3.0662e+09, -6.1324e+09],\n",
              "        [-4.7045e+09, -9.4091e+09]], grad_fn=<MmBackward0>)"
            ]
          },
          "execution_count": 460,
          "metadata": {},
          "output_type": "execute_result"
        }
      ],
      "source": [
        "svm_w = torch.randn(f1.shape[1])\n",
        "\n",
        "g = f1 @ svm_w\n",
        "g = torch.unsqueeze(g, dim=0).T\n",
        "\n",
        "print(torch.unsqueeze(torch.Tensor([1, 2, 3]), dim=0).shape)\n",
        "\n",
        "g @ torch.unsqueeze(torch.Tensor([1, 2]), dim=0)"
      ]
    }
  ],
  "metadata": {
    "interpreter": {
      "hash": "a209b2a29af6db15caeb87b5a469aa1eed57ecd42970a9baa7e0ed0c9978c8fe"
    },
    "kernelspec": {
      "display_name": "Python 3.9.7 ('base')",
      "language": "python",
      "name": "python3"
    },
    "language_info": {
      "codemirror_mode": {
        "name": "ipython",
        "version": 3
      },
      "file_extension": ".py",
      "mimetype": "text/x-python",
      "name": "python",
      "nbconvert_exporter": "python",
      "pygments_lexer": "ipython3",
      "version": "3.9.7"
    },
    "orig_nbformat": 4,
    "colab": {
      "name": "DSN.ipynb",
      "provenance": [],
      "include_colab_link": true
    }
  },
  "nbformat": 4,
  "nbformat_minor": 0
}
